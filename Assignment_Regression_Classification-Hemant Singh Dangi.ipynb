{
 "cells": [
  {
   "cell_type": "markdown",
   "id": "bb7ba4db",
   "metadata": {},
   "source": [
    "# Question no - 1\n"
   ]
  },
  {
   "cell_type": "markdown",
   "id": "2908a479",
   "metadata": {},
   "source": [
    "Ques1.)  Write a Python program using Scikit-learn to split the iris dataset into 80% train data and 20% test data. Out of total 150 records, the training set will contain 120 records and the test set contains 30 of those records. Train or fit the data into the model and calculate the accuracy of the model using the Logistics Regression Algorithm."
   ]
  },
  {
   "cell_type": "code",
   "execution_count": 84,
   "id": "14311939",
   "metadata": {},
   "outputs": [],
   "source": [
    "import pandas as pd\n",
    "import numpy as np\n",
    "import matplotlib.pyplot as plt\n",
    "%matplotlib inline\n",
    "import seaborn as sns\n",
    "from sklearn import datasets\n",
    "from sklearn.preprocessing import scale"
   ]
  },
  {
   "cell_type": "code",
   "execution_count": 85,
   "id": "ec785699",
   "metadata": {},
   "outputs": [
    {
     "data": {
      "text/plain": [
       "{'data': array([[5.1, 3.5, 1.4, 0.2],\n",
       "        [4.9, 3. , 1.4, 0.2],\n",
       "        [4.7, 3.2, 1.3, 0.2],\n",
       "        [4.6, 3.1, 1.5, 0.2],\n",
       "        [5. , 3.6, 1.4, 0.2],\n",
       "        [5.4, 3.9, 1.7, 0.4],\n",
       "        [4.6, 3.4, 1.4, 0.3],\n",
       "        [5. , 3.4, 1.5, 0.2],\n",
       "        [4.4, 2.9, 1.4, 0.2],\n",
       "        [4.9, 3.1, 1.5, 0.1],\n",
       "        [5.4, 3.7, 1.5, 0.2],\n",
       "        [4.8, 3.4, 1.6, 0.2],\n",
       "        [4.8, 3. , 1.4, 0.1],\n",
       "        [4.3, 3. , 1.1, 0.1],\n",
       "        [5.8, 4. , 1.2, 0.2],\n",
       "        [5.7, 4.4, 1.5, 0.4],\n",
       "        [5.4, 3.9, 1.3, 0.4],\n",
       "        [5.1, 3.5, 1.4, 0.3],\n",
       "        [5.7, 3.8, 1.7, 0.3],\n",
       "        [5.1, 3.8, 1.5, 0.3],\n",
       "        [5.4, 3.4, 1.7, 0.2],\n",
       "        [5.1, 3.7, 1.5, 0.4],\n",
       "        [4.6, 3.6, 1. , 0.2],\n",
       "        [5.1, 3.3, 1.7, 0.5],\n",
       "        [4.8, 3.4, 1.9, 0.2],\n",
       "        [5. , 3. , 1.6, 0.2],\n",
       "        [5. , 3.4, 1.6, 0.4],\n",
       "        [5.2, 3.5, 1.5, 0.2],\n",
       "        [5.2, 3.4, 1.4, 0.2],\n",
       "        [4.7, 3.2, 1.6, 0.2],\n",
       "        [4.8, 3.1, 1.6, 0.2],\n",
       "        [5.4, 3.4, 1.5, 0.4],\n",
       "        [5.2, 4.1, 1.5, 0.1],\n",
       "        [5.5, 4.2, 1.4, 0.2],\n",
       "        [4.9, 3.1, 1.5, 0.2],\n",
       "        [5. , 3.2, 1.2, 0.2],\n",
       "        [5.5, 3.5, 1.3, 0.2],\n",
       "        [4.9, 3.6, 1.4, 0.1],\n",
       "        [4.4, 3. , 1.3, 0.2],\n",
       "        [5.1, 3.4, 1.5, 0.2],\n",
       "        [5. , 3.5, 1.3, 0.3],\n",
       "        [4.5, 2.3, 1.3, 0.3],\n",
       "        [4.4, 3.2, 1.3, 0.2],\n",
       "        [5. , 3.5, 1.6, 0.6],\n",
       "        [5.1, 3.8, 1.9, 0.4],\n",
       "        [4.8, 3. , 1.4, 0.3],\n",
       "        [5.1, 3.8, 1.6, 0.2],\n",
       "        [4.6, 3.2, 1.4, 0.2],\n",
       "        [5.3, 3.7, 1.5, 0.2],\n",
       "        [5. , 3.3, 1.4, 0.2],\n",
       "        [7. , 3.2, 4.7, 1.4],\n",
       "        [6.4, 3.2, 4.5, 1.5],\n",
       "        [6.9, 3.1, 4.9, 1.5],\n",
       "        [5.5, 2.3, 4. , 1.3],\n",
       "        [6.5, 2.8, 4.6, 1.5],\n",
       "        [5.7, 2.8, 4.5, 1.3],\n",
       "        [6.3, 3.3, 4.7, 1.6],\n",
       "        [4.9, 2.4, 3.3, 1. ],\n",
       "        [6.6, 2.9, 4.6, 1.3],\n",
       "        [5.2, 2.7, 3.9, 1.4],\n",
       "        [5. , 2. , 3.5, 1. ],\n",
       "        [5.9, 3. , 4.2, 1.5],\n",
       "        [6. , 2.2, 4. , 1. ],\n",
       "        [6.1, 2.9, 4.7, 1.4],\n",
       "        [5.6, 2.9, 3.6, 1.3],\n",
       "        [6.7, 3.1, 4.4, 1.4],\n",
       "        [5.6, 3. , 4.5, 1.5],\n",
       "        [5.8, 2.7, 4.1, 1. ],\n",
       "        [6.2, 2.2, 4.5, 1.5],\n",
       "        [5.6, 2.5, 3.9, 1.1],\n",
       "        [5.9, 3.2, 4.8, 1.8],\n",
       "        [6.1, 2.8, 4. , 1.3],\n",
       "        [6.3, 2.5, 4.9, 1.5],\n",
       "        [6.1, 2.8, 4.7, 1.2],\n",
       "        [6.4, 2.9, 4.3, 1.3],\n",
       "        [6.6, 3. , 4.4, 1.4],\n",
       "        [6.8, 2.8, 4.8, 1.4],\n",
       "        [6.7, 3. , 5. , 1.7],\n",
       "        [6. , 2.9, 4.5, 1.5],\n",
       "        [5.7, 2.6, 3.5, 1. ],\n",
       "        [5.5, 2.4, 3.8, 1.1],\n",
       "        [5.5, 2.4, 3.7, 1. ],\n",
       "        [5.8, 2.7, 3.9, 1.2],\n",
       "        [6. , 2.7, 5.1, 1.6],\n",
       "        [5.4, 3. , 4.5, 1.5],\n",
       "        [6. , 3.4, 4.5, 1.6],\n",
       "        [6.7, 3.1, 4.7, 1.5],\n",
       "        [6.3, 2.3, 4.4, 1.3],\n",
       "        [5.6, 3. , 4.1, 1.3],\n",
       "        [5.5, 2.5, 4. , 1.3],\n",
       "        [5.5, 2.6, 4.4, 1.2],\n",
       "        [6.1, 3. , 4.6, 1.4],\n",
       "        [5.8, 2.6, 4. , 1.2],\n",
       "        [5. , 2.3, 3.3, 1. ],\n",
       "        [5.6, 2.7, 4.2, 1.3],\n",
       "        [5.7, 3. , 4.2, 1.2],\n",
       "        [5.7, 2.9, 4.2, 1.3],\n",
       "        [6.2, 2.9, 4.3, 1.3],\n",
       "        [5.1, 2.5, 3. , 1.1],\n",
       "        [5.7, 2.8, 4.1, 1.3],\n",
       "        [6.3, 3.3, 6. , 2.5],\n",
       "        [5.8, 2.7, 5.1, 1.9],\n",
       "        [7.1, 3. , 5.9, 2.1],\n",
       "        [6.3, 2.9, 5.6, 1.8],\n",
       "        [6.5, 3. , 5.8, 2.2],\n",
       "        [7.6, 3. , 6.6, 2.1],\n",
       "        [4.9, 2.5, 4.5, 1.7],\n",
       "        [7.3, 2.9, 6.3, 1.8],\n",
       "        [6.7, 2.5, 5.8, 1.8],\n",
       "        [7.2, 3.6, 6.1, 2.5],\n",
       "        [6.5, 3.2, 5.1, 2. ],\n",
       "        [6.4, 2.7, 5.3, 1.9],\n",
       "        [6.8, 3. , 5.5, 2.1],\n",
       "        [5.7, 2.5, 5. , 2. ],\n",
       "        [5.8, 2.8, 5.1, 2.4],\n",
       "        [6.4, 3.2, 5.3, 2.3],\n",
       "        [6.5, 3. , 5.5, 1.8],\n",
       "        [7.7, 3.8, 6.7, 2.2],\n",
       "        [7.7, 2.6, 6.9, 2.3],\n",
       "        [6. , 2.2, 5. , 1.5],\n",
       "        [6.9, 3.2, 5.7, 2.3],\n",
       "        [5.6, 2.8, 4.9, 2. ],\n",
       "        [7.7, 2.8, 6.7, 2. ],\n",
       "        [6.3, 2.7, 4.9, 1.8],\n",
       "        [6.7, 3.3, 5.7, 2.1],\n",
       "        [7.2, 3.2, 6. , 1.8],\n",
       "        [6.2, 2.8, 4.8, 1.8],\n",
       "        [6.1, 3. , 4.9, 1.8],\n",
       "        [6.4, 2.8, 5.6, 2.1],\n",
       "        [7.2, 3. , 5.8, 1.6],\n",
       "        [7.4, 2.8, 6.1, 1.9],\n",
       "        [7.9, 3.8, 6.4, 2. ],\n",
       "        [6.4, 2.8, 5.6, 2.2],\n",
       "        [6.3, 2.8, 5.1, 1.5],\n",
       "        [6.1, 2.6, 5.6, 1.4],\n",
       "        [7.7, 3. , 6.1, 2.3],\n",
       "        [6.3, 3.4, 5.6, 2.4],\n",
       "        [6.4, 3.1, 5.5, 1.8],\n",
       "        [6. , 3. , 4.8, 1.8],\n",
       "        [6.9, 3.1, 5.4, 2.1],\n",
       "        [6.7, 3.1, 5.6, 2.4],\n",
       "        [6.9, 3.1, 5.1, 2.3],\n",
       "        [5.8, 2.7, 5.1, 1.9],\n",
       "        [6.8, 3.2, 5.9, 2.3],\n",
       "        [6.7, 3.3, 5.7, 2.5],\n",
       "        [6.7, 3. , 5.2, 2.3],\n",
       "        [6.3, 2.5, 5. , 1.9],\n",
       "        [6.5, 3. , 5.2, 2. ],\n",
       "        [6.2, 3.4, 5.4, 2.3],\n",
       "        [5.9, 3. , 5.1, 1.8]]),\n",
       " 'target': array([0, 0, 0, 0, 0, 0, 0, 0, 0, 0, 0, 0, 0, 0, 0, 0, 0, 0, 0, 0, 0, 0,\n",
       "        0, 0, 0, 0, 0, 0, 0, 0, 0, 0, 0, 0, 0, 0, 0, 0, 0, 0, 0, 0, 0, 0,\n",
       "        0, 0, 0, 0, 0, 0, 1, 1, 1, 1, 1, 1, 1, 1, 1, 1, 1, 1, 1, 1, 1, 1,\n",
       "        1, 1, 1, 1, 1, 1, 1, 1, 1, 1, 1, 1, 1, 1, 1, 1, 1, 1, 1, 1, 1, 1,\n",
       "        1, 1, 1, 1, 1, 1, 1, 1, 1, 1, 1, 1, 2, 2, 2, 2, 2, 2, 2, 2, 2, 2,\n",
       "        2, 2, 2, 2, 2, 2, 2, 2, 2, 2, 2, 2, 2, 2, 2, 2, 2, 2, 2, 2, 2, 2,\n",
       "        2, 2, 2, 2, 2, 2, 2, 2, 2, 2, 2, 2, 2, 2, 2, 2, 2, 2]),\n",
       " 'frame': None,\n",
       " 'target_names': array(['setosa', 'versicolor', 'virginica'], dtype='<U10'),\n",
       " 'DESCR': '.. _iris_dataset:\\n\\nIris plants dataset\\n--------------------\\n\\n**Data Set Characteristics:**\\n\\n    :Number of Instances: 150 (50 in each of three classes)\\n    :Number of Attributes: 4 numeric, predictive attributes and the class\\n    :Attribute Information:\\n        - sepal length in cm\\n        - sepal width in cm\\n        - petal length in cm\\n        - petal width in cm\\n        - class:\\n                - Iris-Setosa\\n                - Iris-Versicolour\\n                - Iris-Virginica\\n                \\n    :Summary Statistics:\\n\\n    ============== ==== ==== ======= ===== ====================\\n                    Min  Max   Mean    SD   Class Correlation\\n    ============== ==== ==== ======= ===== ====================\\n    sepal length:   4.3  7.9   5.84   0.83    0.7826\\n    sepal width:    2.0  4.4   3.05   0.43   -0.4194\\n    petal length:   1.0  6.9   3.76   1.76    0.9490  (high!)\\n    petal width:    0.1  2.5   1.20   0.76    0.9565  (high!)\\n    ============== ==== ==== ======= ===== ====================\\n\\n    :Missing Attribute Values: None\\n    :Class Distribution: 33.3% for each of 3 classes.\\n    :Creator: R.A. Fisher\\n    :Donor: Michael Marshall (MARSHALL%PLU@io.arc.nasa.gov)\\n    :Date: July, 1988\\n\\nThe famous Iris database, first used by Sir R.A. Fisher. The dataset is taken\\nfrom Fisher\\'s paper. Note that it\\'s the same as in R, but not as in the UCI\\nMachine Learning Repository, which has two wrong data points.\\n\\nThis is perhaps the best known database to be found in the\\npattern recognition literature.  Fisher\\'s paper is a classic in the field and\\nis referenced frequently to this day.  (See Duda & Hart, for example.)  The\\ndata set contains 3 classes of 50 instances each, where each class refers to a\\ntype of iris plant.  One class is linearly separable from the other 2; the\\nlatter are NOT linearly separable from each other.\\n\\n.. topic:: References\\n\\n   - Fisher, R.A. \"The use of multiple measurements in taxonomic problems\"\\n     Annual Eugenics, 7, Part II, 179-188 (1936); also in \"Contributions to\\n     Mathematical Statistics\" (John Wiley, NY, 1950).\\n   - Duda, R.O., & Hart, P.E. (1973) Pattern Classification and Scene Analysis.\\n     (Q327.D83) John Wiley & Sons.  ISBN 0-471-22361-1.  See page 218.\\n   - Dasarathy, B.V. (1980) \"Nosing Around the Neighborhood: A New System\\n     Structure and Classification Rule for Recognition in Partially Exposed\\n     Environments\".  IEEE Transactions on Pattern Analysis and Machine\\n     Intelligence, Vol. PAMI-2, No. 1, 67-71.\\n   - Gates, G.W. (1972) \"The Reduced Nearest Neighbor Rule\".  IEEE Transactions\\n     on Information Theory, May 1972, 431-433.\\n   - See also: 1988 MLC Proceedings, 54-64.  Cheeseman et al\"s AUTOCLASS II\\n     conceptual clustering system finds 3 classes in the data.\\n   - Many, many more ...',\n",
       " 'feature_names': ['sepal length (cm)',\n",
       "  'sepal width (cm)',\n",
       "  'petal length (cm)',\n",
       "  'petal width (cm)'],\n",
       " 'filename': 'C:\\\\Users\\\\hp\\\\anaconda3\\\\lib\\\\site-packages\\\\sklearn\\\\datasets\\\\data\\\\iris.csv'}"
      ]
     },
     "execution_count": 85,
     "metadata": {},
     "output_type": "execute_result"
    }
   ],
   "source": [
    "df = datasets.load_iris()\n",
    "df"
   ]
  },
  {
   "cell_type": "code",
   "execution_count": 86,
   "id": "3a48611f",
   "metadata": {},
   "outputs": [
    {
     "name": "stdout",
     "output_type": "stream",
     "text": [
      "[[5.1 3.5 1.4 0.2]\n",
      " [4.9 3.  1.4 0.2]\n",
      " [4.7 3.2 1.3 0.2]\n",
      " [4.6 3.1 1.5 0.2]\n",
      " [5.  3.6 1.4 0.2]\n",
      " [5.4 3.9 1.7 0.4]\n",
      " [4.6 3.4 1.4 0.3]\n",
      " [5.  3.4 1.5 0.2]\n",
      " [4.4 2.9 1.4 0.2]\n",
      " [4.9 3.1 1.5 0.1]\n",
      " [5.4 3.7 1.5 0.2]\n",
      " [4.8 3.4 1.6 0.2]\n",
      " [4.8 3.  1.4 0.1]\n",
      " [4.3 3.  1.1 0.1]\n",
      " [5.8 4.  1.2 0.2]\n",
      " [5.7 4.4 1.5 0.4]\n",
      " [5.4 3.9 1.3 0.4]\n",
      " [5.1 3.5 1.4 0.3]\n",
      " [5.7 3.8 1.7 0.3]\n",
      " [5.1 3.8 1.5 0.3]\n",
      " [5.4 3.4 1.7 0.2]\n",
      " [5.1 3.7 1.5 0.4]\n",
      " [4.6 3.6 1.  0.2]\n",
      " [5.1 3.3 1.7 0.5]\n",
      " [4.8 3.4 1.9 0.2]\n",
      " [5.  3.  1.6 0.2]\n",
      " [5.  3.4 1.6 0.4]\n",
      " [5.2 3.5 1.5 0.2]\n",
      " [5.2 3.4 1.4 0.2]\n",
      " [4.7 3.2 1.6 0.2]\n",
      " [4.8 3.1 1.6 0.2]\n",
      " [5.4 3.4 1.5 0.4]\n",
      " [5.2 4.1 1.5 0.1]\n",
      " [5.5 4.2 1.4 0.2]\n",
      " [4.9 3.1 1.5 0.2]\n",
      " [5.  3.2 1.2 0.2]\n",
      " [5.5 3.5 1.3 0.2]\n",
      " [4.9 3.6 1.4 0.1]\n",
      " [4.4 3.  1.3 0.2]\n",
      " [5.1 3.4 1.5 0.2]\n",
      " [5.  3.5 1.3 0.3]\n",
      " [4.5 2.3 1.3 0.3]\n",
      " [4.4 3.2 1.3 0.2]\n",
      " [5.  3.5 1.6 0.6]\n",
      " [5.1 3.8 1.9 0.4]\n",
      " [4.8 3.  1.4 0.3]\n",
      " [5.1 3.8 1.6 0.2]\n",
      " [4.6 3.2 1.4 0.2]\n",
      " [5.3 3.7 1.5 0.2]\n",
      " [5.  3.3 1.4 0.2]\n",
      " [7.  3.2 4.7 1.4]\n",
      " [6.4 3.2 4.5 1.5]\n",
      " [6.9 3.1 4.9 1.5]\n",
      " [5.5 2.3 4.  1.3]\n",
      " [6.5 2.8 4.6 1.5]\n",
      " [5.7 2.8 4.5 1.3]\n",
      " [6.3 3.3 4.7 1.6]\n",
      " [4.9 2.4 3.3 1. ]\n",
      " [6.6 2.9 4.6 1.3]\n",
      " [5.2 2.7 3.9 1.4]\n",
      " [5.  2.  3.5 1. ]\n",
      " [5.9 3.  4.2 1.5]\n",
      " [6.  2.2 4.  1. ]\n",
      " [6.1 2.9 4.7 1.4]\n",
      " [5.6 2.9 3.6 1.3]\n",
      " [6.7 3.1 4.4 1.4]\n",
      " [5.6 3.  4.5 1.5]\n",
      " [5.8 2.7 4.1 1. ]\n",
      " [6.2 2.2 4.5 1.5]\n",
      " [5.6 2.5 3.9 1.1]\n",
      " [5.9 3.2 4.8 1.8]\n",
      " [6.1 2.8 4.  1.3]\n",
      " [6.3 2.5 4.9 1.5]\n",
      " [6.1 2.8 4.7 1.2]\n",
      " [6.4 2.9 4.3 1.3]\n",
      " [6.6 3.  4.4 1.4]\n",
      " [6.8 2.8 4.8 1.4]\n",
      " [6.7 3.  5.  1.7]\n",
      " [6.  2.9 4.5 1.5]\n",
      " [5.7 2.6 3.5 1. ]\n",
      " [5.5 2.4 3.8 1.1]\n",
      " [5.5 2.4 3.7 1. ]\n",
      " [5.8 2.7 3.9 1.2]\n",
      " [6.  2.7 5.1 1.6]\n",
      " [5.4 3.  4.5 1.5]\n",
      " [6.  3.4 4.5 1.6]\n",
      " [6.7 3.1 4.7 1.5]\n",
      " [6.3 2.3 4.4 1.3]\n",
      " [5.6 3.  4.1 1.3]\n",
      " [5.5 2.5 4.  1.3]\n",
      " [5.5 2.6 4.4 1.2]\n",
      " [6.1 3.  4.6 1.4]\n",
      " [5.8 2.6 4.  1.2]\n",
      " [5.  2.3 3.3 1. ]\n",
      " [5.6 2.7 4.2 1.3]\n",
      " [5.7 3.  4.2 1.2]\n",
      " [5.7 2.9 4.2 1.3]\n",
      " [6.2 2.9 4.3 1.3]\n",
      " [5.1 2.5 3.  1.1]\n",
      " [5.7 2.8 4.1 1.3]\n",
      " [6.3 3.3 6.  2.5]\n",
      " [5.8 2.7 5.1 1.9]\n",
      " [7.1 3.  5.9 2.1]\n",
      " [6.3 2.9 5.6 1.8]\n",
      " [6.5 3.  5.8 2.2]\n",
      " [7.6 3.  6.6 2.1]\n",
      " [4.9 2.5 4.5 1.7]\n",
      " [7.3 2.9 6.3 1.8]\n",
      " [6.7 2.5 5.8 1.8]\n",
      " [7.2 3.6 6.1 2.5]\n",
      " [6.5 3.2 5.1 2. ]\n",
      " [6.4 2.7 5.3 1.9]\n",
      " [6.8 3.  5.5 2.1]\n",
      " [5.7 2.5 5.  2. ]\n",
      " [5.8 2.8 5.1 2.4]\n",
      " [6.4 3.2 5.3 2.3]\n",
      " [6.5 3.  5.5 1.8]\n",
      " [7.7 3.8 6.7 2.2]\n",
      " [7.7 2.6 6.9 2.3]\n",
      " [6.  2.2 5.  1.5]\n",
      " [6.9 3.2 5.7 2.3]\n",
      " [5.6 2.8 4.9 2. ]\n",
      " [7.7 2.8 6.7 2. ]\n",
      " [6.3 2.7 4.9 1.8]\n",
      " [6.7 3.3 5.7 2.1]\n",
      " [7.2 3.2 6.  1.8]\n",
      " [6.2 2.8 4.8 1.8]\n",
      " [6.1 3.  4.9 1.8]\n",
      " [6.4 2.8 5.6 2.1]\n",
      " [7.2 3.  5.8 1.6]\n",
      " [7.4 2.8 6.1 1.9]\n",
      " [7.9 3.8 6.4 2. ]\n",
      " [6.4 2.8 5.6 2.2]\n",
      " [6.3 2.8 5.1 1.5]\n",
      " [6.1 2.6 5.6 1.4]\n",
      " [7.7 3.  6.1 2.3]\n",
      " [6.3 3.4 5.6 2.4]\n",
      " [6.4 3.1 5.5 1.8]\n",
      " [6.  3.  4.8 1.8]\n",
      " [6.9 3.1 5.4 2.1]\n",
      " [6.7 3.1 5.6 2.4]\n",
      " [6.9 3.1 5.1 2.3]\n",
      " [5.8 2.7 5.1 1.9]\n",
      " [6.8 3.2 5.9 2.3]\n",
      " [6.7 3.3 5.7 2.5]\n",
      " [6.7 3.  5.2 2.3]\n",
      " [6.3 2.5 5.  1.9]\n",
      " [6.5 3.  5.2 2. ]\n",
      " [6.2 3.4 5.4 2.3]\n",
      " [5.9 3.  5.1 1.8]]\n"
     ]
    },
    {
     "data": {
      "text/plain": [
       "array([0, 0, 0, 0, 0, 0, 0, 0, 0, 0, 0, 0, 0, 0, 0, 0, 0, 0, 0, 0, 0, 0,\n",
       "       0, 0, 0, 0, 0, 0, 0, 0, 0, 0, 0, 0, 0, 0, 0, 0, 0, 0, 0, 0, 0, 0,\n",
       "       0, 0, 0, 0, 0, 0, 1, 1, 1, 1, 1, 1, 1, 1, 1, 1, 1, 1, 1, 1, 1, 1,\n",
       "       1, 1, 1, 1, 1, 1, 1, 1, 1, 1, 1, 1, 1, 1, 1, 1, 1, 1, 1, 1, 1, 1,\n",
       "       1, 1, 1, 1, 1, 1, 1, 1, 1, 1, 1, 1, 2, 2, 2, 2, 2, 2, 2, 2, 2, 2,\n",
       "       2, 2, 2, 2, 2, 2, 2, 2, 2, 2, 2, 2, 2, 2, 2, 2, 2, 2, 2, 2, 2, 2,\n",
       "       2, 2, 2, 2, 2, 2, 2, 2, 2, 2, 2, 2, 2, 2, 2, 2, 2, 2])"
      ]
     },
     "execution_count": 86,
     "metadata": {},
     "output_type": "execute_result"
    }
   ],
   "source": [
    "X = df.data[:,:] \n",
    "print(X)\n",
    "Target=df.target\n",
    "Target\n"
   ]
  },
  {
   "cell_type": "code",
   "execution_count": 87,
   "id": "7714ba9c",
   "metadata": {},
   "outputs": [],
   "source": [
    "from sklearn.model_selection import train_test_split"
   ]
  },
  {
   "cell_type": "code",
   "execution_count": 88,
   "id": "5a3dad1b",
   "metadata": {},
   "outputs": [
    {
     "data": {
      "text/plain": [
       "((120, 4), (30, 4), (120,), (30,))"
      ]
     },
     "execution_count": 88,
     "metadata": {},
     "output_type": "execute_result"
    }
   ],
   "source": [
    "\n",
    "X_train, X_test, y_train, y_test = train_test_split(X,Target,test_size=0.2,random_state=100)\n",
    "X_train.shape, X_test.shape, y_train.shape, y_test.shape"
   ]
  },
  {
   "cell_type": "code",
   "execution_count": 89,
   "id": "2667b8ca",
   "metadata": {},
   "outputs": [
    {
     "data": {
      "text/plain": [
       "array([[5.5, 2.4, 3.7, 1. ],\n",
       "       [5.7, 2.8, 4.1, 1.3],\n",
       "       [6. , 2.2, 5. , 1.5],\n",
       "       [4.8, 3. , 1.4, 0.1],\n",
       "       [5.4, 3.9, 1.3, 0.4],\n",
       "       [6.4, 3.2, 4.5, 1.5],\n",
       "       [5.1, 3.8, 1.6, 0.2],\n",
       "       [5.5, 2.5, 4. , 1.3],\n",
       "       [6.3, 3.4, 5.6, 2.4],\n",
       "       [5.8, 2.8, 5.1, 2.4],\n",
       "       [4.5, 2.3, 1.3, 0.3],\n",
       "       [5.5, 2.6, 4.4, 1.2],\n",
       "       [7.1, 3. , 5.9, 2.1],\n",
       "       [7.2, 3.6, 6.1, 2.5],\n",
       "       [4.9, 3.6, 1.4, 0.1],\n",
       "       [4.6, 3.4, 1.4, 0.3],\n",
       "       [5. , 3. , 1.6, 0.2],\n",
       "       [5.1, 3.7, 1.5, 0.4],\n",
       "       [5.8, 2.6, 4. , 1.2],\n",
       "       [4.9, 3.1, 1.5, 0.1],\n",
       "       [5.1, 3.3, 1.7, 0.5],\n",
       "       [5. , 3.2, 1.2, 0.2],\n",
       "       [6.5, 2.8, 4.6, 1.5],\n",
       "       [7.9, 3.8, 6.4, 2. ],\n",
       "       [6.1, 3. , 4.9, 1.8],\n",
       "       [5.4, 3. , 4.5, 1.5],\n",
       "       [6.4, 2.7, 5.3, 1.9],\n",
       "       [5.7, 2.9, 4.2, 1.3],\n",
       "       [7.7, 3.8, 6.7, 2.2],\n",
       "       [6.5, 3.2, 5.1, 2. ],\n",
       "       [5.8, 2.7, 3.9, 1.2],\n",
       "       [4.6, 3.6, 1. , 0.2],\n",
       "       [6.9, 3.1, 5.4, 2.1],\n",
       "       [6.7, 3.3, 5.7, 2.1],\n",
       "       [6.3, 2.8, 5.1, 1.5],\n",
       "       [5.5, 4.2, 1.4, 0.2],\n",
       "       [4.4, 3.2, 1.3, 0.2],\n",
       "       [5.8, 2.7, 5.1, 1.9],\n",
       "       [5.4, 3.9, 1.7, 0.4],\n",
       "       [5.5, 3.5, 1.3, 0.2],\n",
       "       [5. , 3.5, 1.6, 0.6],\n",
       "       [6.9, 3.1, 4.9, 1.5],\n",
       "       [6.5, 3. , 5.8, 2.2],\n",
       "       [6.7, 3.3, 5.7, 2.5],\n",
       "       [6.1, 2.6, 5.6, 1.4],\n",
       "       [5.4, 3.7, 1.5, 0.2],\n",
       "       [6. , 3.4, 4.5, 1.6],\n",
       "       [5.9, 3.2, 4.8, 1.8],\n",
       "       [4.6, 3.1, 1.5, 0.2],\n",
       "       [6.8, 2.8, 4.8, 1.4],\n",
       "       [4.9, 2.4, 3.3, 1. ],\n",
       "       [6.2, 2.8, 4.8, 1.8],\n",
       "       [5.1, 3.5, 1.4, 0.2],\n",
       "       [6. , 2.9, 4.5, 1.5],\n",
       "       [5.6, 3. , 4.1, 1.3],\n",
       "       [6. , 2.7, 5.1, 1.6],\n",
       "       [7. , 3.2, 4.7, 1.4],\n",
       "       [6.2, 2.2, 4.5, 1.5],\n",
       "       [5.7, 3. , 4.2, 1.2],\n",
       "       [6.4, 2.8, 5.6, 2.2],\n",
       "       [5.7, 2.5, 5. , 2. ],\n",
       "       [4.3, 3. , 1.1, 0.1],\n",
       "       [6.3, 2.5, 4.9, 1.5],\n",
       "       [5.1, 3.5, 1.4, 0.3],\n",
       "       [6.4, 2.9, 4.3, 1.3],\n",
       "       [7.2, 3. , 5.8, 1.6],\n",
       "       [6.4, 3.1, 5.5, 1.8],\n",
       "       [4.9, 2.5, 4.5, 1.7],\n",
       "       [5.6, 2.9, 3.6, 1.3],\n",
       "       [5.7, 3.8, 1.7, 0.3],\n",
       "       [5.1, 3.8, 1.9, 0.4],\n",
       "       [4.4, 3. , 1.3, 0.2],\n",
       "       [5.1, 3.4, 1.5, 0.2],\n",
       "       [5.6, 2.8, 4.9, 2. ],\n",
       "       [5.3, 3.7, 1.5, 0.2],\n",
       "       [4.8, 3.1, 1.6, 0.2],\n",
       "       [6.3, 3.3, 4.7, 1.6],\n",
       "       [5.2, 3.5, 1.5, 0.2],\n",
       "       [6.7, 3.1, 5.6, 2.4],\n",
       "       [6.1, 2.9, 4.7, 1.4],\n",
       "       [6.9, 3.1, 5.1, 2.3],\n",
       "       [5.1, 3.8, 1.5, 0.3],\n",
       "       [5.8, 2.7, 5.1, 1.9],\n",
       "       [7.6, 3. , 6.6, 2.1],\n",
       "       [4.7, 3.2, 1.3, 0.2],\n",
       "       [5.5, 2.4, 3.8, 1.1],\n",
       "       [6.1, 2.8, 4. , 1.3],\n",
       "       [5.7, 2.8, 4.5, 1.3],\n",
       "       [6.8, 3.2, 5.9, 2.3],\n",
       "       [5.9, 3. , 4.2, 1.5],\n",
       "       [6.7, 3.1, 4.4, 1.4],\n",
       "       [4.6, 3.2, 1.4, 0.2],\n",
       "       [5. , 3.3, 1.4, 0.2],\n",
       "       [5. , 3.4, 1.5, 0.2],\n",
       "       [6.5, 3. , 5.2, 2. ],\n",
       "       [5.2, 2.7, 3.9, 1.4],\n",
       "       [6.1, 3. , 4.6, 1.4],\n",
       "       [5. , 3.6, 1.4, 0.2],\n",
       "       [6.3, 3.3, 6. , 2.5],\n",
       "       [6.7, 2.5, 5.8, 1.8],\n",
       "       [7.4, 2.8, 6.1, 1.9],\n",
       "       [6.7, 3.1, 4.7, 1.5],\n",
       "       [5. , 2.3, 3.3, 1. ],\n",
       "       [6.6, 2.9, 4.6, 1.3],\n",
       "       [5. , 2. , 3.5, 1. ],\n",
       "       [7.3, 2.9, 6.3, 1.8],\n",
       "       [6.2, 3.4, 5.4, 2.3],\n",
       "       [4.9, 3.1, 1.5, 0.2],\n",
       "       [5.8, 4. , 1.2, 0.2],\n",
       "       [5.6, 3. , 4.5, 1.5],\n",
       "       [5.5, 2.3, 4. , 1.3],\n",
       "       [5.1, 2.5, 3. , 1.1],\n",
       "       [5.6, 2.7, 4.2, 1.3],\n",
       "       [6. , 3. , 4.8, 1.8],\n",
       "       [5.7, 2.6, 3.5, 1. ],\n",
       "       [6.3, 2.3, 4.4, 1.3],\n",
       "       [6.3, 2.9, 5.6, 1.8],\n",
       "       [5.8, 2.7, 4.1, 1. ],\n",
       "       [4.8, 3.4, 1.9, 0.2],\n",
       "       [4.4, 2.9, 1.4, 0.2]])"
      ]
     },
     "execution_count": 89,
     "metadata": {},
     "output_type": "execute_result"
    }
   ],
   "source": [
    "X_train"
   ]
  },
  {
   "cell_type": "code",
   "execution_count": 90,
   "id": "fc446da1",
   "metadata": {},
   "outputs": [
    {
     "data": {
      "text/plain": [
       "array([[6.4, 2.8, 5.6, 2.1],\n",
       "       [4.8, 3.4, 1.6, 0.2],\n",
       "       [7.7, 2.6, 6.9, 2.3],\n",
       "       [5.7, 4.4, 1.5, 0.4],\n",
       "       [6.3, 2.7, 4.9, 1.8],\n",
       "       [7.7, 3. , 6.1, 2.3],\n",
       "       [5.2, 4.1, 1.5, 0.1],\n",
       "       [4.9, 3. , 1.4, 0.2],\n",
       "       [6.5, 3. , 5.5, 1.8],\n",
       "       [4.8, 3. , 1.4, 0.3],\n",
       "       [5. , 3.5, 1.3, 0.3],\n",
       "       [6.4, 3.2, 5.3, 2.3],\n",
       "       [5. , 3.4, 1.6, 0.4],\n",
       "       [5.2, 3.4, 1.4, 0.2],\n",
       "       [6.7, 3. , 5.2, 2.3],\n",
       "       [6.2, 2.9, 4.3, 1.3],\n",
       "       [6. , 2.2, 4. , 1. ],\n",
       "       [6.7, 3. , 5. , 1.7],\n",
       "       [7.7, 2.8, 6.7, 2. ],\n",
       "       [6.8, 3. , 5.5, 2.1],\n",
       "       [7.2, 3.2, 6. , 1.8],\n",
       "       [5.4, 3.4, 1.5, 0.4],\n",
       "       [6.3, 2.5, 5. , 1.9],\n",
       "       [4.7, 3.2, 1.6, 0.2],\n",
       "       [5.6, 2.5, 3.9, 1.1],\n",
       "       [5.9, 3. , 5.1, 1.8],\n",
       "       [6.6, 3. , 4.4, 1.4],\n",
       "       [5.4, 3.4, 1.7, 0.2],\n",
       "       [6.1, 2.8, 4.7, 1.2],\n",
       "       [6.9, 3.2, 5.7, 2.3]])"
      ]
     },
     "execution_count": 90,
     "metadata": {},
     "output_type": "execute_result"
    }
   ],
   "source": [
    "X_test\n"
   ]
  },
  {
   "cell_type": "code",
   "execution_count": 91,
   "id": "64a18a29",
   "metadata": {},
   "outputs": [
    {
     "data": {
      "text/plain": [
       "array([1, 1, 2, 0, 0, 1, 0, 1, 2, 2, 0, 1, 2, 2, 0, 0, 0, 0, 1, 0, 0, 0,\n",
       "       1, 2, 2, 1, 2, 1, 2, 2, 1, 0, 2, 2, 2, 0, 0, 2, 0, 0, 0, 1, 2, 2,\n",
       "       2, 0, 1, 1, 0, 1, 1, 2, 0, 1, 1, 1, 1, 1, 1, 2, 2, 0, 1, 0, 1, 2,\n",
       "       2, 2, 1, 0, 0, 0, 0, 2, 0, 0, 1, 0, 2, 1, 2, 0, 2, 2, 0, 1, 1, 1,\n",
       "       2, 1, 1, 0, 0, 0, 2, 1, 1, 0, 2, 2, 2, 1, 1, 1, 1, 2, 2, 0, 0, 1,\n",
       "       1, 1, 1, 2, 1, 1, 2, 1, 0, 0])"
      ]
     },
     "execution_count": 91,
     "metadata": {},
     "output_type": "execute_result"
    }
   ],
   "source": [
    "y_train"
   ]
  },
  {
   "cell_type": "code",
   "execution_count": 92,
   "id": "501b1467",
   "metadata": {},
   "outputs": [
    {
     "data": {
      "text/plain": [
       "array([2, 0, 2, 0, 2, 2, 0, 0, 2, 0, 0, 2, 0, 0, 2, 1, 1, 1, 2, 2, 2, 0,\n",
       "       2, 0, 1, 2, 1, 0, 1, 2])"
      ]
     },
     "execution_count": 92,
     "metadata": {},
     "output_type": "execute_result"
    }
   ],
   "source": [
    "y_test"
   ]
  },
  {
   "cell_type": "code",
   "execution_count": 93,
   "id": "b374e40f",
   "metadata": {},
   "outputs": [],
   "source": [
    "from sklearn.linear_model import LogisticRegression"
   ]
  },
  {
   "cell_type": "code",
   "execution_count": 94,
   "id": "07a5013f",
   "metadata": {},
   "outputs": [],
   "source": [
    "LogReg=LogisticRegression(max_iter = 500).fit(X_train,y_train)"
   ]
  },
  {
   "cell_type": "code",
   "execution_count": 95,
   "id": "d1f3d7f8",
   "metadata": {},
   "outputs": [
    {
     "data": {
      "text/plain": [
       "LogisticRegression(max_iter=500)"
      ]
     },
     "execution_count": 95,
     "metadata": {},
     "output_type": "execute_result"
    }
   ],
   "source": [
    "LogReg"
   ]
  },
  {
   "cell_type": "code",
   "execution_count": 96,
   "id": "8827bdb8",
   "metadata": {},
   "outputs": [
    {
     "data": {
      "text/plain": [
       "array([[1.70696414e-05, 4.90910394e-02, 9.50891891e-01],\n",
       "       [9.69205676e-01, 3.07941989e-02, 1.25174495e-07],\n",
       "       [7.44224266e-09, 1.63794801e-03, 9.98362045e-01],\n",
       "       [9.82796540e-01, 1.72034176e-02, 4.25874201e-08],\n",
       "       [7.09483373e-04, 4.25468753e-01, 5.73821764e-01],\n",
       "       [7.11446306e-07, 1.64793666e-02, 9.83519922e-01],\n",
       "       [9.85207949e-01, 1.47920271e-02, 2.37565973e-08],\n",
       "       [9.64234174e-01, 3.57657404e-02, 8.56988424e-08],\n",
       "       [7.74573209e-05, 1.42627905e-01, 8.57294637e-01],\n",
       "       [9.66542295e-01, 3.34575948e-02, 1.10495479e-07],\n",
       "       [9.82431467e-01, 1.75684978e-02, 3.49924119e-08],\n",
       "       [7.55937270e-05, 7.15546257e-02, 9.28369781e-01],\n",
       "       [9.61552854e-01, 3.84469108e-02, 2.35456013e-07],\n",
       "       [9.71217971e-01, 2.87819760e-02, 5.30618108e-08],\n",
       "       [8.07642500e-05, 1.03967506e-01, 8.95951730e-01],\n",
       "       [9.07810250e-03, 9.27223000e-01, 6.36988978e-02],\n",
       "       [9.85006525e-03, 9.72935617e-01, 1.72143181e-02],\n",
       "       [6.83874054e-04, 4.95254068e-01, 5.04062058e-01],\n",
       "       [6.34741498e-08, 6.55450780e-03, 9.93445429e-01],\n",
       "       [3.17505344e-05, 8.25365029e-02, 9.17431747e-01],\n",
       "       [7.43109765e-06, 6.06070589e-02, 9.39385510e-01],\n",
       "       [9.55640328e-01, 4.43595095e-02, 1.62929969e-07],\n",
       "       [2.97626178e-04, 2.91937449e-01, 7.07764924e-01],\n",
       "       [9.64115531e-01, 3.58843075e-02, 1.61543432e-07],\n",
       "       [2.47529690e-02, 9.55620515e-01, 1.96265160e-02],\n",
       "       [5.98048984e-04, 2.64168539e-01, 7.35233412e-01],\n",
       "       [5.49299510e-03, 9.11000057e-01, 8.35069483e-02],\n",
       "       [9.35725093e-01, 6.42746629e-02, 2.44013615e-07],\n",
       "       [3.42499778e-03, 8.48178585e-01, 1.48396417e-01],\n",
       "       [9.05293458e-06, 3.25817779e-02, 9.67409169e-01]])"
      ]
     },
     "execution_count": 96,
     "metadata": {},
     "output_type": "execute_result"
    }
   ],
   "source": [
    "LogReg.predict_proba(X_test)"
   ]
  },
  {
   "cell_type": "code",
   "execution_count": 97,
   "id": "5f1af3c5",
   "metadata": {},
   "outputs": [
    {
     "data": {
      "text/plain": [
       "(30, 3)"
      ]
     },
     "execution_count": 97,
     "metadata": {},
     "output_type": "execute_result"
    }
   ],
   "source": [
    "LogReg.predict_proba(X_test).shape"
   ]
  },
  {
   "cell_type": "code",
   "execution_count": 98,
   "id": "e1da1131",
   "metadata": {},
   "outputs": [
    {
     "name": "stdout",
     "output_type": "stream",
     "text": [
      "[  9.39877411   2.23931995 -11.63809406]\n"
     ]
    }
   ],
   "source": [
    "print(LogReg.intercept_)"
   ]
  },
  {
   "cell_type": "code",
   "execution_count": 99,
   "id": "cce59ab1",
   "metadata": {},
   "outputs": [
    {
     "name": "stdout",
     "output_type": "stream",
     "text": [
      "[[-0.42028189  0.90775844 -2.39052439 -1.02908818]\n",
      " [ 0.49992908 -0.3435444  -0.20184722 -0.79990247]\n",
      " [-0.0796472  -0.56421404  2.59237162  1.82899065]]\n"
     ]
    }
   ],
   "source": [
    "print(LogReg.coef_)"
   ]
  },
  {
   "cell_type": "code",
   "execution_count": 100,
   "id": "ad5a2f1a",
   "metadata": {},
   "outputs": [],
   "source": [
    "predict=LogReg.predict(X_test)"
   ]
  },
  {
   "cell_type": "code",
   "execution_count": 101,
   "id": "0094c014",
   "metadata": {},
   "outputs": [
    {
     "data": {
      "text/plain": [
       "array([2, 0, 2, 0, 2, 2, 0, 0, 2, 0, 0, 2, 0, 0, 2, 1, 1, 2, 2, 2, 2, 0,\n",
       "       2, 0, 1, 2, 1, 0, 1, 2])"
      ]
     },
     "execution_count": 101,
     "metadata": {},
     "output_type": "execute_result"
    }
   ],
   "source": [
    "predict"
   ]
  },
  {
   "cell_type": "code",
   "execution_count": 102,
   "id": "de246603",
   "metadata": {},
   "outputs": [],
   "source": [
    "df1 = pd.DataFrame({\"Actual\":y_test,\"Predict\":predict})"
   ]
  },
  {
   "cell_type": "code",
   "execution_count": 103,
   "id": "e7bf0d01",
   "metadata": {},
   "outputs": [
    {
     "data": {
      "text/html": [
       "<div>\n",
       "<style scoped>\n",
       "    .dataframe tbody tr th:only-of-type {\n",
       "        vertical-align: middle;\n",
       "    }\n",
       "\n",
       "    .dataframe tbody tr th {\n",
       "        vertical-align: top;\n",
       "    }\n",
       "\n",
       "    .dataframe thead th {\n",
       "        text-align: right;\n",
       "    }\n",
       "</style>\n",
       "<table border=\"1\" class=\"dataframe\">\n",
       "  <thead>\n",
       "    <tr style=\"text-align: right;\">\n",
       "      <th></th>\n",
       "      <th>Actual</th>\n",
       "      <th>Predict</th>\n",
       "    </tr>\n",
       "  </thead>\n",
       "  <tbody>\n",
       "    <tr>\n",
       "      <th>0</th>\n",
       "      <td>2</td>\n",
       "      <td>2</td>\n",
       "    </tr>\n",
       "    <tr>\n",
       "      <th>1</th>\n",
       "      <td>0</td>\n",
       "      <td>0</td>\n",
       "    </tr>\n",
       "    <tr>\n",
       "      <th>2</th>\n",
       "      <td>2</td>\n",
       "      <td>2</td>\n",
       "    </tr>\n",
       "    <tr>\n",
       "      <th>3</th>\n",
       "      <td>0</td>\n",
       "      <td>0</td>\n",
       "    </tr>\n",
       "    <tr>\n",
       "      <th>4</th>\n",
       "      <td>2</td>\n",
       "      <td>2</td>\n",
       "    </tr>\n",
       "    <tr>\n",
       "      <th>5</th>\n",
       "      <td>2</td>\n",
       "      <td>2</td>\n",
       "    </tr>\n",
       "    <tr>\n",
       "      <th>6</th>\n",
       "      <td>0</td>\n",
       "      <td>0</td>\n",
       "    </tr>\n",
       "    <tr>\n",
       "      <th>7</th>\n",
       "      <td>0</td>\n",
       "      <td>0</td>\n",
       "    </tr>\n",
       "    <tr>\n",
       "      <th>8</th>\n",
       "      <td>2</td>\n",
       "      <td>2</td>\n",
       "    </tr>\n",
       "    <tr>\n",
       "      <th>9</th>\n",
       "      <td>0</td>\n",
       "      <td>0</td>\n",
       "    </tr>\n",
       "    <tr>\n",
       "      <th>10</th>\n",
       "      <td>0</td>\n",
       "      <td>0</td>\n",
       "    </tr>\n",
       "    <tr>\n",
       "      <th>11</th>\n",
       "      <td>2</td>\n",
       "      <td>2</td>\n",
       "    </tr>\n",
       "    <tr>\n",
       "      <th>12</th>\n",
       "      <td>0</td>\n",
       "      <td>0</td>\n",
       "    </tr>\n",
       "    <tr>\n",
       "      <th>13</th>\n",
       "      <td>0</td>\n",
       "      <td>0</td>\n",
       "    </tr>\n",
       "    <tr>\n",
       "      <th>14</th>\n",
       "      <td>2</td>\n",
       "      <td>2</td>\n",
       "    </tr>\n",
       "    <tr>\n",
       "      <th>15</th>\n",
       "      <td>1</td>\n",
       "      <td>1</td>\n",
       "    </tr>\n",
       "    <tr>\n",
       "      <th>16</th>\n",
       "      <td>1</td>\n",
       "      <td>1</td>\n",
       "    </tr>\n",
       "    <tr>\n",
       "      <th>17</th>\n",
       "      <td>1</td>\n",
       "      <td>2</td>\n",
       "    </tr>\n",
       "    <tr>\n",
       "      <th>18</th>\n",
       "      <td>2</td>\n",
       "      <td>2</td>\n",
       "    </tr>\n",
       "    <tr>\n",
       "      <th>19</th>\n",
       "      <td>2</td>\n",
       "      <td>2</td>\n",
       "    </tr>\n",
       "    <tr>\n",
       "      <th>20</th>\n",
       "      <td>2</td>\n",
       "      <td>2</td>\n",
       "    </tr>\n",
       "    <tr>\n",
       "      <th>21</th>\n",
       "      <td>0</td>\n",
       "      <td>0</td>\n",
       "    </tr>\n",
       "    <tr>\n",
       "      <th>22</th>\n",
       "      <td>2</td>\n",
       "      <td>2</td>\n",
       "    </tr>\n",
       "    <tr>\n",
       "      <th>23</th>\n",
       "      <td>0</td>\n",
       "      <td>0</td>\n",
       "    </tr>\n",
       "    <tr>\n",
       "      <th>24</th>\n",
       "      <td>1</td>\n",
       "      <td>1</td>\n",
       "    </tr>\n",
       "    <tr>\n",
       "      <th>25</th>\n",
       "      <td>2</td>\n",
       "      <td>2</td>\n",
       "    </tr>\n",
       "    <tr>\n",
       "      <th>26</th>\n",
       "      <td>1</td>\n",
       "      <td>1</td>\n",
       "    </tr>\n",
       "    <tr>\n",
       "      <th>27</th>\n",
       "      <td>0</td>\n",
       "      <td>0</td>\n",
       "    </tr>\n",
       "    <tr>\n",
       "      <th>28</th>\n",
       "      <td>1</td>\n",
       "      <td>1</td>\n",
       "    </tr>\n",
       "    <tr>\n",
       "      <th>29</th>\n",
       "      <td>2</td>\n",
       "      <td>2</td>\n",
       "    </tr>\n",
       "  </tbody>\n",
       "</table>\n",
       "</div>"
      ],
      "text/plain": [
       "    Actual  Predict\n",
       "0        2        2\n",
       "1        0        0\n",
       "2        2        2\n",
       "3        0        0\n",
       "4        2        2\n",
       "5        2        2\n",
       "6        0        0\n",
       "7        0        0\n",
       "8        2        2\n",
       "9        0        0\n",
       "10       0        0\n",
       "11       2        2\n",
       "12       0        0\n",
       "13       0        0\n",
       "14       2        2\n",
       "15       1        1\n",
       "16       1        1\n",
       "17       1        2\n",
       "18       2        2\n",
       "19       2        2\n",
       "20       2        2\n",
       "21       0        0\n",
       "22       2        2\n",
       "23       0        0\n",
       "24       1        1\n",
       "25       2        2\n",
       "26       1        1\n",
       "27       0        0\n",
       "28       1        1\n",
       "29       2        2"
      ]
     },
     "execution_count": 103,
     "metadata": {},
     "output_type": "execute_result"
    }
   ],
   "source": [
    "df1"
   ]
  },
  {
   "cell_type": "code",
   "execution_count": 104,
   "id": "4552d46a",
   "metadata": {},
   "outputs": [],
   "source": [
    "CrossTab = pd.crosstab(df1[\"Actual\"],df1[\"Predict\"])"
   ]
  },
  {
   "cell_type": "code",
   "execution_count": 105,
   "id": "6f516f85",
   "metadata": {},
   "outputs": [
    {
     "data": {
      "text/html": [
       "<div>\n",
       "<style scoped>\n",
       "    .dataframe tbody tr th:only-of-type {\n",
       "        vertical-align: middle;\n",
       "    }\n",
       "\n",
       "    .dataframe tbody tr th {\n",
       "        vertical-align: top;\n",
       "    }\n",
       "\n",
       "    .dataframe thead th {\n",
       "        text-align: right;\n",
       "    }\n",
       "</style>\n",
       "<table border=\"1\" class=\"dataframe\">\n",
       "  <thead>\n",
       "    <tr style=\"text-align: right;\">\n",
       "      <th>Predict</th>\n",
       "      <th>0</th>\n",
       "      <th>1</th>\n",
       "      <th>2</th>\n",
       "    </tr>\n",
       "    <tr>\n",
       "      <th>Actual</th>\n",
       "      <th></th>\n",
       "      <th></th>\n",
       "      <th></th>\n",
       "    </tr>\n",
       "  </thead>\n",
       "  <tbody>\n",
       "    <tr>\n",
       "      <th>0</th>\n",
       "      <td>11</td>\n",
       "      <td>0</td>\n",
       "      <td>0</td>\n",
       "    </tr>\n",
       "    <tr>\n",
       "      <th>1</th>\n",
       "      <td>0</td>\n",
       "      <td>5</td>\n",
       "      <td>1</td>\n",
       "    </tr>\n",
       "    <tr>\n",
       "      <th>2</th>\n",
       "      <td>0</td>\n",
       "      <td>0</td>\n",
       "      <td>13</td>\n",
       "    </tr>\n",
       "  </tbody>\n",
       "</table>\n",
       "</div>"
      ],
      "text/plain": [
       "Predict   0  1   2\n",
       "Actual            \n",
       "0        11  0   0\n",
       "1         0  5   1\n",
       "2         0  0  13"
      ]
     },
     "execution_count": 105,
     "metadata": {},
     "output_type": "execute_result"
    }
   ],
   "source": [
    "CrossTab"
   ]
  },
  {
   "cell_type": "code",
   "execution_count": 106,
   "id": "6b6436e1",
   "metadata": {},
   "outputs": [],
   "source": [
    "from sklearn import metrics as sm"
   ]
  },
  {
   "cell_type": "code",
   "execution_count": 107,
   "id": "c9ad578c",
   "metadata": {},
   "outputs": [],
   "source": [
    "from sklearn.metrics import accuracy_score, precision_score, f1_score,recall_score ,roc_auc_score"
   ]
  },
  {
   "cell_type": "code",
   "execution_count": 108,
   "id": "baaa68c8",
   "metadata": {},
   "outputs": [],
   "source": [
    "from sklearn.metrics import confusion_matrix"
   ]
  },
  {
   "cell_type": "code",
   "execution_count": 109,
   "id": "ea02cb88",
   "metadata": {},
   "outputs": [
    {
     "data": {
      "text/plain": [
       "array([[11,  0,  0],\n",
       "       [ 0,  5,  1],\n",
       "       [ 0,  0, 13]], dtype=int64)"
      ]
     },
     "execution_count": 109,
     "metadata": {},
     "output_type": "execute_result"
    }
   ],
   "source": [
    "confusion_matrix(y_test,predict)"
   ]
  },
  {
   "cell_type": "code",
   "execution_count": 110,
   "id": "c3ef4f1c",
   "metadata": {},
   "outputs": [],
   "source": [
    "Accuracy = sm.accuracy_score(y_test,predict)"
   ]
  },
  {
   "cell_type": "code",
   "execution_count": 111,
   "id": "42622971",
   "metadata": {},
   "outputs": [
    {
     "data": {
      "text/plain": [
       "0.9666666666666667"
      ]
     },
     "execution_count": 111,
     "metadata": {},
     "output_type": "execute_result"
    }
   ],
   "source": [
    "Accuracy"
   ]
  },
  {
   "cell_type": "markdown",
   "id": "1c252469",
   "metadata": {},
   "source": [
    "# Question no - 2"
   ]
  },
  {
   "cell_type": "markdown",
   "id": "a67f6ac6",
   "metadata": {},
   "source": [
    "Write a Python program using Scikit-learn to split the attached dataset (Income & expenses data) into 80% train and 20% test data. Train or fit the data into the model and calculate the accuracy of the model using the Multiple Linear Regression Model?"
   ]
  },
  {
   "cell_type": "code",
   "execution_count": 112,
   "id": "ce09c4f4",
   "metadata": {},
   "outputs": [],
   "source": [
    "gf = pd.read_csv('Inc_Exp_Data.csv')"
   ]
  },
  {
   "cell_type": "code",
   "execution_count": 113,
   "id": "bd8c6812",
   "metadata": {},
   "outputs": [
    {
     "data": {
      "text/html": [
       "<div>\n",
       "<style scoped>\n",
       "    .dataframe tbody tr th:only-of-type {\n",
       "        vertical-align: middle;\n",
       "    }\n",
       "\n",
       "    .dataframe tbody tr th {\n",
       "        vertical-align: top;\n",
       "    }\n",
       "\n",
       "    .dataframe thead th {\n",
       "        text-align: right;\n",
       "    }\n",
       "</style>\n",
       "<table border=\"1\" class=\"dataframe\">\n",
       "  <thead>\n",
       "    <tr style=\"text-align: right;\">\n",
       "      <th></th>\n",
       "      <th>Mthly_HH_Income</th>\n",
       "      <th>Mthly_HH_Expense</th>\n",
       "      <th>No_of_Fly_Members</th>\n",
       "      <th>Emi_or_Rent_Amt</th>\n",
       "      <th>Annual_HH_Income</th>\n",
       "    </tr>\n",
       "  </thead>\n",
       "  <tbody>\n",
       "    <tr>\n",
       "      <th>0</th>\n",
       "      <td>5000</td>\n",
       "      <td>8000</td>\n",
       "      <td>3</td>\n",
       "      <td>2000</td>\n",
       "      <td>64200</td>\n",
       "    </tr>\n",
       "    <tr>\n",
       "      <th>1</th>\n",
       "      <td>6000</td>\n",
       "      <td>7000</td>\n",
       "      <td>2</td>\n",
       "      <td>3000</td>\n",
       "      <td>79920</td>\n",
       "    </tr>\n",
       "    <tr>\n",
       "      <th>2</th>\n",
       "      <td>10000</td>\n",
       "      <td>4500</td>\n",
       "      <td>2</td>\n",
       "      <td>0</td>\n",
       "      <td>112800</td>\n",
       "    </tr>\n",
       "    <tr>\n",
       "      <th>3</th>\n",
       "      <td>10000</td>\n",
       "      <td>2000</td>\n",
       "      <td>1</td>\n",
       "      <td>0</td>\n",
       "      <td>97200</td>\n",
       "    </tr>\n",
       "    <tr>\n",
       "      <th>4</th>\n",
       "      <td>12500</td>\n",
       "      <td>12000</td>\n",
       "      <td>2</td>\n",
       "      <td>3000</td>\n",
       "      <td>147000</td>\n",
       "    </tr>\n",
       "    <tr>\n",
       "      <th>5</th>\n",
       "      <td>14000</td>\n",
       "      <td>8000</td>\n",
       "      <td>2</td>\n",
       "      <td>0</td>\n",
       "      <td>196560</td>\n",
       "    </tr>\n",
       "    <tr>\n",
       "      <th>6</th>\n",
       "      <td>15000</td>\n",
       "      <td>16000</td>\n",
       "      <td>3</td>\n",
       "      <td>35000</td>\n",
       "      <td>167400</td>\n",
       "    </tr>\n",
       "    <tr>\n",
       "      <th>7</th>\n",
       "      <td>18000</td>\n",
       "      <td>20000</td>\n",
       "      <td>5</td>\n",
       "      <td>8000</td>\n",
       "      <td>216000</td>\n",
       "    </tr>\n",
       "    <tr>\n",
       "      <th>8</th>\n",
       "      <td>19000</td>\n",
       "      <td>9000</td>\n",
       "      <td>2</td>\n",
       "      <td>0</td>\n",
       "      <td>218880</td>\n",
       "    </tr>\n",
       "    <tr>\n",
       "      <th>9</th>\n",
       "      <td>20000</td>\n",
       "      <td>9000</td>\n",
       "      <td>4</td>\n",
       "      <td>0</td>\n",
       "      <td>220800</td>\n",
       "    </tr>\n",
       "    <tr>\n",
       "      <th>10</th>\n",
       "      <td>20000</td>\n",
       "      <td>18000</td>\n",
       "      <td>4</td>\n",
       "      <td>8000</td>\n",
       "      <td>278400</td>\n",
       "    </tr>\n",
       "    <tr>\n",
       "      <th>11</th>\n",
       "      <td>22000</td>\n",
       "      <td>25000</td>\n",
       "      <td>6</td>\n",
       "      <td>12000</td>\n",
       "      <td>279840</td>\n",
       "    </tr>\n",
       "    <tr>\n",
       "      <th>12</th>\n",
       "      <td>23400</td>\n",
       "      <td>5000</td>\n",
       "      <td>3</td>\n",
       "      <td>0</td>\n",
       "      <td>292032</td>\n",
       "    </tr>\n",
       "    <tr>\n",
       "      <th>13</th>\n",
       "      <td>24000</td>\n",
       "      <td>10500</td>\n",
       "      <td>6</td>\n",
       "      <td>0</td>\n",
       "      <td>316800</td>\n",
       "    </tr>\n",
       "    <tr>\n",
       "      <th>14</th>\n",
       "      <td>24000</td>\n",
       "      <td>10000</td>\n",
       "      <td>4</td>\n",
       "      <td>0</td>\n",
       "      <td>244800</td>\n",
       "    </tr>\n",
       "    <tr>\n",
       "      <th>15</th>\n",
       "      <td>25000</td>\n",
       "      <td>12300</td>\n",
       "      <td>3</td>\n",
       "      <td>0</td>\n",
       "      <td>246000</td>\n",
       "    </tr>\n",
       "    <tr>\n",
       "      <th>16</th>\n",
       "      <td>25000</td>\n",
       "      <td>20000</td>\n",
       "      <td>3</td>\n",
       "      <td>3500</td>\n",
       "      <td>261000</td>\n",
       "    </tr>\n",
       "    <tr>\n",
       "      <th>17</th>\n",
       "      <td>25000</td>\n",
       "      <td>10000</td>\n",
       "      <td>6</td>\n",
       "      <td>0</td>\n",
       "      <td>258000</td>\n",
       "    </tr>\n",
       "    <tr>\n",
       "      <th>18</th>\n",
       "      <td>29000</td>\n",
       "      <td>6600</td>\n",
       "      <td>2</td>\n",
       "      <td>2000</td>\n",
       "      <td>348000</td>\n",
       "    </tr>\n",
       "    <tr>\n",
       "      <th>19</th>\n",
       "      <td>30000</td>\n",
       "      <td>13000</td>\n",
       "      <td>4</td>\n",
       "      <td>0</td>\n",
       "      <td>385200</td>\n",
       "    </tr>\n",
       "    <tr>\n",
       "      <th>20</th>\n",
       "      <td>30500</td>\n",
       "      <td>25000</td>\n",
       "      <td>5</td>\n",
       "      <td>5000</td>\n",
       "      <td>351360</td>\n",
       "    </tr>\n",
       "    <tr>\n",
       "      <th>21</th>\n",
       "      <td>32000</td>\n",
       "      <td>15000</td>\n",
       "      <td>4</td>\n",
       "      <td>0</td>\n",
       "      <td>445440</td>\n",
       "    </tr>\n",
       "    <tr>\n",
       "      <th>22</th>\n",
       "      <td>34000</td>\n",
       "      <td>19000</td>\n",
       "      <td>6</td>\n",
       "      <td>0</td>\n",
       "      <td>330480</td>\n",
       "    </tr>\n",
       "    <tr>\n",
       "      <th>23</th>\n",
       "      <td>34000</td>\n",
       "      <td>25000</td>\n",
       "      <td>3</td>\n",
       "      <td>4000</td>\n",
       "      <td>469200</td>\n",
       "    </tr>\n",
       "    <tr>\n",
       "      <th>24</th>\n",
       "      <td>35000</td>\n",
       "      <td>12000</td>\n",
       "      <td>3</td>\n",
       "      <td>0</td>\n",
       "      <td>466200</td>\n",
       "    </tr>\n",
       "    <tr>\n",
       "      <th>25</th>\n",
       "      <td>35000</td>\n",
       "      <td>25000</td>\n",
       "      <td>4</td>\n",
       "      <td>0</td>\n",
       "      <td>449400</td>\n",
       "    </tr>\n",
       "    <tr>\n",
       "      <th>26</th>\n",
       "      <td>39000</td>\n",
       "      <td>8000</td>\n",
       "      <td>4</td>\n",
       "      <td>0</td>\n",
       "      <td>556920</td>\n",
       "    </tr>\n",
       "    <tr>\n",
       "      <th>27</th>\n",
       "      <td>40000</td>\n",
       "      <td>10000</td>\n",
       "      <td>4</td>\n",
       "      <td>0</td>\n",
       "      <td>412800</td>\n",
       "    </tr>\n",
       "    <tr>\n",
       "      <th>28</th>\n",
       "      <td>42000</td>\n",
       "      <td>15000</td>\n",
       "      <td>4</td>\n",
       "      <td>0</td>\n",
       "      <td>488880</td>\n",
       "    </tr>\n",
       "    <tr>\n",
       "      <th>29</th>\n",
       "      <td>43000</td>\n",
       "      <td>12000</td>\n",
       "      <td>4</td>\n",
       "      <td>0</td>\n",
       "      <td>619200</td>\n",
       "    </tr>\n",
       "    <tr>\n",
       "      <th>30</th>\n",
       "      <td>45000</td>\n",
       "      <td>25000</td>\n",
       "      <td>6</td>\n",
       "      <td>0</td>\n",
       "      <td>523800</td>\n",
       "    </tr>\n",
       "    <tr>\n",
       "      <th>31</th>\n",
       "      <td>45000</td>\n",
       "      <td>40000</td>\n",
       "      <td>6</td>\n",
       "      <td>3500</td>\n",
       "      <td>507600</td>\n",
       "    </tr>\n",
       "    <tr>\n",
       "      <th>32</th>\n",
       "      <td>45000</td>\n",
       "      <td>10000</td>\n",
       "      <td>2</td>\n",
       "      <td>1000</td>\n",
       "      <td>437400</td>\n",
       "    </tr>\n",
       "    <tr>\n",
       "      <th>33</th>\n",
       "      <td>45000</td>\n",
       "      <td>22000</td>\n",
       "      <td>4</td>\n",
       "      <td>2500</td>\n",
       "      <td>610200</td>\n",
       "    </tr>\n",
       "    <tr>\n",
       "      <th>34</th>\n",
       "      <td>46000</td>\n",
       "      <td>25000</td>\n",
       "      <td>5</td>\n",
       "      <td>3500</td>\n",
       "      <td>596160</td>\n",
       "    </tr>\n",
       "    <tr>\n",
       "      <th>35</th>\n",
       "      <td>47000</td>\n",
       "      <td>15000</td>\n",
       "      <td>7</td>\n",
       "      <td>0</td>\n",
       "      <td>456840</td>\n",
       "    </tr>\n",
       "    <tr>\n",
       "      <th>36</th>\n",
       "      <td>50000</td>\n",
       "      <td>20000</td>\n",
       "      <td>4</td>\n",
       "      <td>0</td>\n",
       "      <td>570000</td>\n",
       "    </tr>\n",
       "    <tr>\n",
       "      <th>37</th>\n",
       "      <td>50500</td>\n",
       "      <td>20000</td>\n",
       "      <td>3</td>\n",
       "      <td>0</td>\n",
       "      <td>581760</td>\n",
       "    </tr>\n",
       "    <tr>\n",
       "      <th>38</th>\n",
       "      <td>55000</td>\n",
       "      <td>45000</td>\n",
       "      <td>6</td>\n",
       "      <td>12000</td>\n",
       "      <td>600600</td>\n",
       "    </tr>\n",
       "    <tr>\n",
       "      <th>39</th>\n",
       "      <td>60000</td>\n",
       "      <td>10000</td>\n",
       "      <td>3</td>\n",
       "      <td>0</td>\n",
       "      <td>590400</td>\n",
       "    </tr>\n",
       "    <tr>\n",
       "      <th>40</th>\n",
       "      <td>60000</td>\n",
       "      <td>50000</td>\n",
       "      <td>6</td>\n",
       "      <td>10000</td>\n",
       "      <td>590400</td>\n",
       "    </tr>\n",
       "    <tr>\n",
       "      <th>41</th>\n",
       "      <td>65000</td>\n",
       "      <td>20000</td>\n",
       "      <td>4</td>\n",
       "      <td>5000</td>\n",
       "      <td>647400</td>\n",
       "    </tr>\n",
       "    <tr>\n",
       "      <th>42</th>\n",
       "      <td>70000</td>\n",
       "      <td>9000</td>\n",
       "      <td>2</td>\n",
       "      <td>0</td>\n",
       "      <td>756000</td>\n",
       "    </tr>\n",
       "    <tr>\n",
       "      <th>43</th>\n",
       "      <td>80000</td>\n",
       "      <td>20000</td>\n",
       "      <td>4</td>\n",
       "      <td>0</td>\n",
       "      <td>1075200</td>\n",
       "    </tr>\n",
       "    <tr>\n",
       "      <th>44</th>\n",
       "      <td>85000</td>\n",
       "      <td>25000</td>\n",
       "      <td>5</td>\n",
       "      <td>0</td>\n",
       "      <td>1142400</td>\n",
       "    </tr>\n",
       "    <tr>\n",
       "      <th>45</th>\n",
       "      <td>90000</td>\n",
       "      <td>48000</td>\n",
       "      <td>7</td>\n",
       "      <td>0</td>\n",
       "      <td>885600</td>\n",
       "    </tr>\n",
       "    <tr>\n",
       "      <th>46</th>\n",
       "      <td>98000</td>\n",
       "      <td>25000</td>\n",
       "      <td>5</td>\n",
       "      <td>0</td>\n",
       "      <td>1152480</td>\n",
       "    </tr>\n",
       "    <tr>\n",
       "      <th>47</th>\n",
       "      <td>100000</td>\n",
       "      <td>30000</td>\n",
       "      <td>6</td>\n",
       "      <td>0</td>\n",
       "      <td>1404000</td>\n",
       "    </tr>\n",
       "    <tr>\n",
       "      <th>48</th>\n",
       "      <td>100000</td>\n",
       "      <td>50000</td>\n",
       "      <td>4</td>\n",
       "      <td>20000</td>\n",
       "      <td>1032000</td>\n",
       "    </tr>\n",
       "    <tr>\n",
       "      <th>49</th>\n",
       "      <td>100000</td>\n",
       "      <td>40000</td>\n",
       "      <td>6</td>\n",
       "      <td>10000</td>\n",
       "      <td>1320000</td>\n",
       "    </tr>\n",
       "  </tbody>\n",
       "</table>\n",
       "</div>"
      ],
      "text/plain": [
       "    Mthly_HH_Income  Mthly_HH_Expense  No_of_Fly_Members  Emi_or_Rent_Amt  \\\n",
       "0              5000              8000                  3             2000   \n",
       "1              6000              7000                  2             3000   \n",
       "2             10000              4500                  2                0   \n",
       "3             10000              2000                  1                0   \n",
       "4             12500             12000                  2             3000   \n",
       "5             14000              8000                  2                0   \n",
       "6             15000             16000                  3            35000   \n",
       "7             18000             20000                  5             8000   \n",
       "8             19000              9000                  2                0   \n",
       "9             20000              9000                  4                0   \n",
       "10            20000             18000                  4             8000   \n",
       "11            22000             25000                  6            12000   \n",
       "12            23400              5000                  3                0   \n",
       "13            24000             10500                  6                0   \n",
       "14            24000             10000                  4                0   \n",
       "15            25000             12300                  3                0   \n",
       "16            25000             20000                  3             3500   \n",
       "17            25000             10000                  6                0   \n",
       "18            29000              6600                  2             2000   \n",
       "19            30000             13000                  4                0   \n",
       "20            30500             25000                  5             5000   \n",
       "21            32000             15000                  4                0   \n",
       "22            34000             19000                  6                0   \n",
       "23            34000             25000                  3             4000   \n",
       "24            35000             12000                  3                0   \n",
       "25            35000             25000                  4                0   \n",
       "26            39000              8000                  4                0   \n",
       "27            40000             10000                  4                0   \n",
       "28            42000             15000                  4                0   \n",
       "29            43000             12000                  4                0   \n",
       "30            45000             25000                  6                0   \n",
       "31            45000             40000                  6             3500   \n",
       "32            45000             10000                  2             1000   \n",
       "33            45000             22000                  4             2500   \n",
       "34            46000             25000                  5             3500   \n",
       "35            47000             15000                  7                0   \n",
       "36            50000             20000                  4                0   \n",
       "37            50500             20000                  3                0   \n",
       "38            55000             45000                  6            12000   \n",
       "39            60000             10000                  3                0   \n",
       "40            60000             50000                  6            10000   \n",
       "41            65000             20000                  4             5000   \n",
       "42            70000              9000                  2                0   \n",
       "43            80000             20000                  4                0   \n",
       "44            85000             25000                  5                0   \n",
       "45            90000             48000                  7                0   \n",
       "46            98000             25000                  5                0   \n",
       "47           100000             30000                  6                0   \n",
       "48           100000             50000                  4            20000   \n",
       "49           100000             40000                  6            10000   \n",
       "\n",
       "    Annual_HH_Income  \n",
       "0              64200  \n",
       "1              79920  \n",
       "2             112800  \n",
       "3              97200  \n",
       "4             147000  \n",
       "5             196560  \n",
       "6             167400  \n",
       "7             216000  \n",
       "8             218880  \n",
       "9             220800  \n",
       "10            278400  \n",
       "11            279840  \n",
       "12            292032  \n",
       "13            316800  \n",
       "14            244800  \n",
       "15            246000  \n",
       "16            261000  \n",
       "17            258000  \n",
       "18            348000  \n",
       "19            385200  \n",
       "20            351360  \n",
       "21            445440  \n",
       "22            330480  \n",
       "23            469200  \n",
       "24            466200  \n",
       "25            449400  \n",
       "26            556920  \n",
       "27            412800  \n",
       "28            488880  \n",
       "29            619200  \n",
       "30            523800  \n",
       "31            507600  \n",
       "32            437400  \n",
       "33            610200  \n",
       "34            596160  \n",
       "35            456840  \n",
       "36            570000  \n",
       "37            581760  \n",
       "38            600600  \n",
       "39            590400  \n",
       "40            590400  \n",
       "41            647400  \n",
       "42            756000  \n",
       "43           1075200  \n",
       "44           1142400  \n",
       "45            885600  \n",
       "46           1152480  \n",
       "47           1404000  \n",
       "48           1032000  \n",
       "49           1320000  "
      ]
     },
     "execution_count": 113,
     "metadata": {},
     "output_type": "execute_result"
    }
   ],
   "source": [
    "gf"
   ]
  },
  {
   "cell_type": "code",
   "execution_count": 114,
   "id": "3415db20",
   "metadata": {},
   "outputs": [
    {
     "data": {
      "text/plain": [
       "Mthly_HH_Income      0\n",
       "Mthly_HH_Expense     0\n",
       "No_of_Fly_Members    0\n",
       "Emi_or_Rent_Amt      0\n",
       "Annual_HH_Income     0\n",
       "dtype: int64"
      ]
     },
     "execution_count": 114,
     "metadata": {},
     "output_type": "execute_result"
    }
   ],
   "source": [
    "gf.isnull().sum()"
   ]
  },
  {
   "cell_type": "code",
   "execution_count": 115,
   "id": "4e9b9d6a",
   "metadata": {},
   "outputs": [
    {
     "name": "stdout",
     "output_type": "stream",
     "text": [
      "<class 'pandas.core.frame.DataFrame'>\n",
      "RangeIndex: 50 entries, 0 to 49\n",
      "Data columns (total 5 columns):\n",
      " #   Column             Non-Null Count  Dtype\n",
      "---  ------             --------------  -----\n",
      " 0   Mthly_HH_Income    50 non-null     int64\n",
      " 1   Mthly_HH_Expense   50 non-null     int64\n",
      " 2   No_of_Fly_Members  50 non-null     int64\n",
      " 3   Emi_or_Rent_Amt    50 non-null     int64\n",
      " 4   Annual_HH_Income   50 non-null     int64\n",
      "dtypes: int64(5)\n",
      "memory usage: 2.1 KB\n"
     ]
    }
   ],
   "source": [
    "gf.info()"
   ]
  },
  {
   "cell_type": "code",
   "execution_count": 116,
   "id": "82e1f551",
   "metadata": {},
   "outputs": [
    {
     "data": {
      "text/plain": [
       "Mthly_HH_Income       35000.0\n",
       "Mthly_HH_Expense      15500.0\n",
       "No_of_Fly_Members         4.0\n",
       "Emi_or_Rent_Amt           0.0\n",
       "Annual_HH_Income     447420.0\n",
       "dtype: float64"
      ]
     },
     "execution_count": 116,
     "metadata": {},
     "output_type": "execute_result"
    }
   ],
   "source": [
    "gf.median()"
   ]
  },
  {
   "cell_type": "code",
   "execution_count": 117,
   "id": "000db5b9",
   "metadata": {},
   "outputs": [
    {
     "data": {
      "text/html": [
       "<div>\n",
       "<style scoped>\n",
       "    .dataframe tbody tr th:only-of-type {\n",
       "        vertical-align: middle;\n",
       "    }\n",
       "\n",
       "    .dataframe tbody tr th {\n",
       "        vertical-align: top;\n",
       "    }\n",
       "\n",
       "    .dataframe thead th {\n",
       "        text-align: right;\n",
       "    }\n",
       "</style>\n",
       "<table border=\"1\" class=\"dataframe\">\n",
       "  <thead>\n",
       "    <tr style=\"text-align: right;\">\n",
       "      <th></th>\n",
       "      <th>Mthly_HH_Income</th>\n",
       "      <th>Mthly_HH_Expense</th>\n",
       "      <th>No_of_Fly_Members</th>\n",
       "      <th>Emi_or_Rent_Amt</th>\n",
       "      <th>Annual_HH_Income</th>\n",
       "    </tr>\n",
       "  </thead>\n",
       "  <tbody>\n",
       "    <tr>\n",
       "      <th>count</th>\n",
       "      <td>50.000000</td>\n",
       "      <td>50.000000</td>\n",
       "      <td>50.000000</td>\n",
       "      <td>50.000000</td>\n",
       "      <td>5.000000e+01</td>\n",
       "    </tr>\n",
       "    <tr>\n",
       "      <th>mean</th>\n",
       "      <td>41558.000000</td>\n",
       "      <td>18818.000000</td>\n",
       "      <td>4.060000</td>\n",
       "      <td>3060.000000</td>\n",
       "      <td>4.900190e+05</td>\n",
       "    </tr>\n",
       "    <tr>\n",
       "      <th>std</th>\n",
       "      <td>26097.908979</td>\n",
       "      <td>12090.216824</td>\n",
       "      <td>1.517382</td>\n",
       "      <td>6241.434948</td>\n",
       "      <td>3.201358e+05</td>\n",
       "    </tr>\n",
       "    <tr>\n",
       "      <th>min</th>\n",
       "      <td>5000.000000</td>\n",
       "      <td>2000.000000</td>\n",
       "      <td>1.000000</td>\n",
       "      <td>0.000000</td>\n",
       "      <td>6.420000e+04</td>\n",
       "    </tr>\n",
       "    <tr>\n",
       "      <th>25%</th>\n",
       "      <td>23550.000000</td>\n",
       "      <td>10000.000000</td>\n",
       "      <td>3.000000</td>\n",
       "      <td>0.000000</td>\n",
       "      <td>2.587500e+05</td>\n",
       "    </tr>\n",
       "    <tr>\n",
       "      <th>50%</th>\n",
       "      <td>35000.000000</td>\n",
       "      <td>15500.000000</td>\n",
       "      <td>4.000000</td>\n",
       "      <td>0.000000</td>\n",
       "      <td>4.474200e+05</td>\n",
       "    </tr>\n",
       "    <tr>\n",
       "      <th>75%</th>\n",
       "      <td>50375.000000</td>\n",
       "      <td>25000.000000</td>\n",
       "      <td>5.000000</td>\n",
       "      <td>3500.000000</td>\n",
       "      <td>5.947200e+05</td>\n",
       "    </tr>\n",
       "    <tr>\n",
       "      <th>max</th>\n",
       "      <td>100000.000000</td>\n",
       "      <td>50000.000000</td>\n",
       "      <td>7.000000</td>\n",
       "      <td>35000.000000</td>\n",
       "      <td>1.404000e+06</td>\n",
       "    </tr>\n",
       "  </tbody>\n",
       "</table>\n",
       "</div>"
      ],
      "text/plain": [
       "       Mthly_HH_Income  Mthly_HH_Expense  No_of_Fly_Members  Emi_or_Rent_Amt  \\\n",
       "count        50.000000         50.000000          50.000000        50.000000   \n",
       "mean      41558.000000      18818.000000           4.060000      3060.000000   \n",
       "std       26097.908979      12090.216824           1.517382      6241.434948   \n",
       "min        5000.000000       2000.000000           1.000000         0.000000   \n",
       "25%       23550.000000      10000.000000           3.000000         0.000000   \n",
       "50%       35000.000000      15500.000000           4.000000         0.000000   \n",
       "75%       50375.000000      25000.000000           5.000000      3500.000000   \n",
       "max      100000.000000      50000.000000           7.000000     35000.000000   \n",
       "\n",
       "       Annual_HH_Income  \n",
       "count      5.000000e+01  \n",
       "mean       4.900190e+05  \n",
       "std        3.201358e+05  \n",
       "min        6.420000e+04  \n",
       "25%        2.587500e+05  \n",
       "50%        4.474200e+05  \n",
       "75%        5.947200e+05  \n",
       "max        1.404000e+06  "
      ]
     },
     "execution_count": 117,
     "metadata": {},
     "output_type": "execute_result"
    }
   ],
   "source": [
    "gf.describe()"
   ]
  },
  {
   "cell_type": "code",
   "execution_count": 118,
   "id": "df0812cf",
   "metadata": {},
   "outputs": [
    {
     "name": "stderr",
     "output_type": "stream",
     "text": [
      "C:\\Users\\hp\\anaconda3\\lib\\site-packages\\seaborn\\_decorators.py:36: FutureWarning: Pass the following variables as keyword args: x, y. From version 0.12, the only valid positional argument will be `data`, and passing other arguments without an explicit keyword will result in an error or misinterpretation.\n",
      "  warnings.warn(\n"
     ]
    },
    {
     "data": {
      "text/plain": [
       "<AxesSubplot:xlabel='Mthly_HH_Income', ylabel='Mthly_HH_Expense'>"
      ]
     },
     "execution_count": 118,
     "metadata": {},
     "output_type": "execute_result"
    },
    {
     "data": {
      "image/png": "[encoded data removed]",
      "text/plain": [
       "<Figure size 432x288 with 1 Axes>"
      ]
     },
     "metadata": {
      "needs_background": "light"
     },
     "output_type": "display_data"
    }
   ],
   "source": [
    "#Monthly income vs Monthly Expense represented in graph\n",
    "sns.regplot(gf.Mthly_HH_Income,gf.Mthly_HH_Expense)"
   ]
  },
  {
   "cell_type": "code",
   "execution_count": 119,
   "id": "b30a3693",
   "metadata": {},
   "outputs": [
    {
     "name": "stderr",
     "output_type": "stream",
     "text": [
      "C:\\Users\\hp\\anaconda3\\lib\\site-packages\\seaborn\\_decorators.py:36: FutureWarning: Pass the following variables as keyword args: x, y. From version 0.12, the only valid positional argument will be `data`, and passing other arguments without an explicit keyword will result in an error or misinterpretation.\n",
      "  warnings.warn(\n"
     ]
    },
    {
     "data": {
      "text/plain": [
       "<AxesSubplot:xlabel='No_of_Fly_Members', ylabel='Mthly_HH_Expense'>"
      ]
     },
     "execution_count": 119,
     "metadata": {},
     "output_type": "execute_result"
    },
    {
     "data": {
      "image/png": "[encoded data removed]",
      "text/plain": [
       "<Figure size 432x288 with 1 Axes>"
      ]
     },
     "metadata": {
      "needs_background": "light"
     },
     "output_type": "display_data"
    }
   ],
   "source": [
    "sns.regplot(gf.No_of_Fly_Members, gf.Mthly_HH_Expense)"
   ]
  },
  {
   "cell_type": "code",
   "execution_count": 120,
   "id": "ca6ce240",
   "metadata": {},
   "outputs": [
    {
     "name": "stderr",
     "output_type": "stream",
     "text": [
      "C:\\Users\\hp\\anaconda3\\lib\\site-packages\\seaborn\\_decorators.py:36: FutureWarning: Pass the following variables as keyword args: x, y. From version 0.12, the only valid positional argument will be `data`, and passing other arguments without an explicit keyword will result in an error or misinterpretation.\n",
      "  warnings.warn(\n"
     ]
    },
    {
     "data": {
      "text/plain": [
       "<AxesSubplot:xlabel='Emi_or_Rent_Amt', ylabel='Mthly_HH_Expense'>"
      ]
     },
     "execution_count": 120,
     "metadata": {},
     "output_type": "execute_result"
    },
    {
     "data": {
      "image/png": "[encoded data removed]",
      "text/plain": [
       "<Figure size 432x288 with 1 Axes>"
      ]
     },
     "metadata": {
      "needs_background": "light"
     },
     "output_type": "display_data"
    }
   ],
   "source": [
    "sns.regplot(gf.Emi_or_Rent_Amt,gf.Mthly_HH_Expense)"
   ]
  },
  {
   "cell_type": "code",
   "execution_count": 121,
   "id": "720d28bc",
   "metadata": {},
   "outputs": [
    {
     "name": "stderr",
     "output_type": "stream",
     "text": [
      "C:\\Users\\hp\\anaconda3\\lib\\site-packages\\seaborn\\_decorators.py:36: FutureWarning: Pass the following variables as keyword args: x, y. From version 0.12, the only valid positional argument will be `data`, and passing other arguments without an explicit keyword will result in an error or misinterpretation.\n",
      "  warnings.warn(\n"
     ]
    },
    {
     "data": {
      "text/plain": [
       "<AxesSubplot:xlabel='Annual_HH_Income', ylabel='Mthly_HH_Expense'>"
      ]
     },
     "execution_count": 121,
     "metadata": {},
     "output_type": "execute_result"
    },
    {
     "data": {
      "image/png": "[encoded data removed]",
      "text/plain": [
       "<Figure size 432x288 with 1 Axes>"
      ]
     },
     "metadata": {
      "needs_background": "light"
     },
     "output_type": "display_data"
    }
   ],
   "source": [
    "sns.regplot(gf.Annual_HH_Income,gf.Mthly_HH_Expense)"
   ]
  },
  {
   "cell_type": "code",
   "execution_count": 122,
   "id": "ec793b3b",
   "metadata": {},
   "outputs": [
    {
     "name": "stderr",
     "output_type": "stream",
     "text": [
      "C:\\Users\\hp\\anaconda3\\lib\\site-packages\\seaborn\\_decorators.py:36: FutureWarning: Pass the following variables as keyword args: x, y. From version 0.12, the only valid positional argument will be `data`, and passing other arguments without an explicit keyword will result in an error or misinterpretation.\n",
      "  warnings.warn(\n"
     ]
    },
    {
     "data": {
      "text/plain": [
       "<AxesSubplot:xlabel='Mthly_HH_Income', ylabel='Annual_HH_Income'>"
      ]
     },
     "execution_count": 122,
     "metadata": {},
     "output_type": "execute_result"
    },
    {
     "data": {
      "image/png": "[encoded data removed]",
      "text/plain": [
       "<Figure size 432x288 with 1 Axes>"
      ]
     },
     "metadata": {
      "needs_background": "light"
     },
     "output_type": "display_data"
    }
   ],
   "source": [
    "sns.regplot(gf.Mthly_HH_Income,gf.Annual_HH_Income)"
   ]
  },
  {
   "cell_type": "code",
   "execution_count": 123,
   "id": "180cec30",
   "metadata": {},
   "outputs": [
    {
     "name": "stderr",
     "output_type": "stream",
     "text": [
      "C:\\Users\\hp\\anaconda3\\lib\\site-packages\\seaborn\\_decorators.py:36: FutureWarning: Pass the following variables as keyword args: x, y. From version 0.12, the only valid positional argument will be `data`, and passing other arguments without an explicit keyword will result in an error or misinterpretation.\n",
      "  warnings.warn(\n"
     ]
    },
    {
     "data": {
      "text/plain": [
       "<AxesSubplot:xlabel='Mthly_HH_Income', ylabel='Emi_or_Rent_Amt'>"
      ]
     },
     "execution_count": 123,
     "metadata": {},
     "output_type": "execute_result"
    },
    {
     "data": {
      "image/png": "[encoded data removed]",
      "text/plain": [
       "<Figure size 432x288 with 1 Axes>"
      ]
     },
     "metadata": {
      "needs_background": "light"
     },
     "output_type": "display_data"
    }
   ],
   "source": [
    "sns.regplot(gf.Mthly_HH_Income,gf.Emi_or_Rent_Amt)"
   ]
  },
  {
   "cell_type": "code",
   "execution_count": 124,
   "id": "db322d55",
   "metadata": {},
   "outputs": [
    {
     "name": "stderr",
     "output_type": "stream",
     "text": [
      "C:\\Users\\hp\\anaconda3\\lib\\site-packages\\seaborn\\_decorators.py:36: FutureWarning: Pass the following variables as keyword args: x, y. From version 0.12, the only valid positional argument will be `data`, and passing other arguments without an explicit keyword will result in an error or misinterpretation.\n",
      "  warnings.warn(\n"
     ]
    },
    {
     "data": {
      "text/plain": [
       "<AxesSubplot:xlabel='Mthly_HH_Income', ylabel='No_of_Fly_Members'>"
      ]
     },
     "execution_count": 124,
     "metadata": {},
     "output_type": "execute_result"
    },
    {
     "data": {
      "image/png": "[encoded data removed]",
      "text/plain": [
       "<Figure size 432x288 with 1 Axes>"
      ]
     },
     "metadata": {
      "needs_background": "light"
     },
     "output_type": "display_data"
    }
   ],
   "source": [
    "sns.regplot(gf.Mthly_HH_Income,gf.No_of_Fly_Members)"
   ]
  },
  {
   "cell_type": "code",
   "execution_count": 125,
   "id": "63e31ab7",
   "metadata": {},
   "outputs": [
    {
     "data": {
      "text/html": [
       "<div>\n",
       "<style scoped>\n",
       "    .dataframe tbody tr th:only-of-type {\n",
       "        vertical-align: middle;\n",
       "    }\n",
       "\n",
       "    .dataframe tbody tr th {\n",
       "        vertical-align: top;\n",
       "    }\n",
       "\n",
       "    .dataframe thead th {\n",
       "        text-align: right;\n",
       "    }\n",
       "</style>\n",
       "<table border=\"1\" class=\"dataframe\">\n",
       "  <thead>\n",
       "    <tr style=\"text-align: right;\">\n",
       "      <th></th>\n",
       "      <th>Mthly_HH_Income</th>\n",
       "      <th>Mthly_HH_Expense</th>\n",
       "      <th>No_of_Fly_Members</th>\n",
       "      <th>Emi_or_Rent_Amt</th>\n",
       "      <th>Annual_HH_Income</th>\n",
       "    </tr>\n",
       "  </thead>\n",
       "  <tbody>\n",
       "    <tr>\n",
       "      <th>Mthly_HH_Income</th>\n",
       "      <td>1.000000</td>\n",
       "      <td>0.649215</td>\n",
       "      <td>0.448317</td>\n",
       "      <td>0.036976</td>\n",
       "      <td>0.970315</td>\n",
       "    </tr>\n",
       "    <tr>\n",
       "      <th>Mthly_HH_Expense</th>\n",
       "      <td>0.649215</td>\n",
       "      <td>1.000000</td>\n",
       "      <td>0.639702</td>\n",
       "      <td>0.405280</td>\n",
       "      <td>0.591222</td>\n",
       "    </tr>\n",
       "    <tr>\n",
       "      <th>No_of_Fly_Members</th>\n",
       "      <td>0.448317</td>\n",
       "      <td>0.639702</td>\n",
       "      <td>1.000000</td>\n",
       "      <td>0.085808</td>\n",
       "      <td>0.430868</td>\n",
       "    </tr>\n",
       "    <tr>\n",
       "      <th>Emi_or_Rent_Amt</th>\n",
       "      <td>0.036976</td>\n",
       "      <td>0.405280</td>\n",
       "      <td>0.085808</td>\n",
       "      <td>1.000000</td>\n",
       "      <td>0.002716</td>\n",
       "    </tr>\n",
       "    <tr>\n",
       "      <th>Annual_HH_Income</th>\n",
       "      <td>0.970315</td>\n",
       "      <td>0.591222</td>\n",
       "      <td>0.430868</td>\n",
       "      <td>0.002716</td>\n",
       "      <td>1.000000</td>\n",
       "    </tr>\n",
       "  </tbody>\n",
       "</table>\n",
       "</div>"
      ],
      "text/plain": [
       "                   Mthly_HH_Income  Mthly_HH_Expense  No_of_Fly_Members  \\\n",
       "Mthly_HH_Income           1.000000          0.649215           0.448317   \n",
       "Mthly_HH_Expense          0.649215          1.000000           0.639702   \n",
       "No_of_Fly_Members         0.448317          0.639702           1.000000   \n",
       "Emi_or_Rent_Amt           0.036976          0.405280           0.085808   \n",
       "Annual_HH_Income          0.970315          0.591222           0.430868   \n",
       "\n",
       "                   Emi_or_Rent_Amt  Annual_HH_Income  \n",
       "Mthly_HH_Income           0.036976          0.970315  \n",
       "Mthly_HH_Expense          0.405280          0.591222  \n",
       "No_of_Fly_Members         0.085808          0.430868  \n",
       "Emi_or_Rent_Amt           1.000000          0.002716  \n",
       "Annual_HH_Income          0.002716          1.000000  "
      ]
     },
     "execution_count": 125,
     "metadata": {},
     "output_type": "execute_result"
    }
   ],
   "source": [
    "gf.corr()"
   ]
  },
  {
   "cell_type": "code",
   "execution_count": 126,
   "id": "d1b0bc06",
   "metadata": {},
   "outputs": [
    {
     "data": {
      "text/plain": [
       "<AxesSubplot:>"
      ]
     },
     "execution_count": 126,
     "metadata": {},
     "output_type": "execute_result"
    },
    {
     "data": {
      "image/png": "[encoded data removed]",
      "text/plain": [
       "<Figure size 432x288 with 2 Axes>"
      ]
     },
     "metadata": {
      "needs_background": "light"
     },
     "output_type": "display_data"
    }
   ],
   "source": [
    "sns.heatmap(gf.corr())"
   ]
  },
  {
   "cell_type": "markdown",
   "id": "6cef90fd",
   "metadata": {},
   "source": [
    "Since the correlation between Monthly Income and Annual Income is near to 1, then we can drop any columns from it. Now we are dropping Annual Income."
   ]
  },
  {
   "cell_type": "code",
   "execution_count": 127,
   "id": "825ab237",
   "metadata": {},
   "outputs": [
    {
     "data": {
      "text/plain": [
       "(50, 4)"
      ]
     },
     "execution_count": 127,
     "metadata": {},
     "output_type": "execute_result"
    }
   ],
   "source": [
    "gf2 = gf.drop(['Annual_HH_Income'], axis = 1,inplace=False)\n",
    "gf2.shape"
   ]
  },
  {
   "cell_type": "code",
   "execution_count": 128,
   "id": "394a095b",
   "metadata": {},
   "outputs": [
    {
     "name": "stderr",
     "output_type": "stream",
     "text": [
      "C:\\Users\\hp\\anaconda3\\lib\\site-packages\\seaborn\\_decorators.py:36: FutureWarning: Pass the following variable as a keyword arg: x. From version 0.12, the only valid positional argument will be `data`, and passing other arguments without an explicit keyword will result in an error or misinterpretation.\n",
      "  warnings.warn(\n"
     ]
    },
    {
     "data": {
      "text/plain": [
       "<AxesSubplot:xlabel='Mthly_HH_Income'>"
      ]
     },
     "execution_count": 128,
     "metadata": {},
     "output_type": "execute_result"
    },
    {
     "data": {
      "image/png": "[encoded data removed]",
      "text/plain": [
       "<Figure size 432x288 with 1 Axes>"
      ]
     },
     "metadata": {
      "needs_background": "light"
     },
     "output_type": "display_data"
    }
   ],
   "source": [
    "sns.boxplot(gf2['Mthly_HH_Income'])"
   ]
  },
  {
   "cell_type": "code",
   "execution_count": 129,
   "id": "34b2895e",
   "metadata": {},
   "outputs": [
    {
     "name": "stderr",
     "output_type": "stream",
     "text": [
      "C:\\Users\\hp\\anaconda3\\lib\\site-packages\\seaborn\\_decorators.py:36: FutureWarning: Pass the following variable as a keyword arg: x. From version 0.12, the only valid positional argument will be `data`, and passing other arguments without an explicit keyword will result in an error or misinterpretation.\n",
      "  warnings.warn(\n"
     ]
    },
    {
     "data": {
      "text/plain": [
       "<AxesSubplot:xlabel='Mthly_HH_Expense'>"
      ]
     },
     "execution_count": 129,
     "metadata": {},
     "output_type": "execute_result"
    },
    {
     "data": {
      "image/png": "[encoded data removed]",
      "text/plain": [
       "<Figure size 432x288 with 1 Axes>"
      ]
     },
     "metadata": {
      "needs_background": "light"
     },
     "output_type": "display_data"
    }
   ],
   "source": [
    "sns.boxplot(gf2['Mthly_HH_Expense'])"
   ]
  },
  {
   "cell_type": "code",
   "execution_count": 130,
   "id": "e257b463",
   "metadata": {},
   "outputs": [
    {
     "name": "stderr",
     "output_type": "stream",
     "text": [
      "C:\\Users\\hp\\anaconda3\\lib\\site-packages\\seaborn\\_decorators.py:36: FutureWarning: Pass the following variable as a keyword arg: x. From version 0.12, the only valid positional argument will be `data`, and passing other arguments without an explicit keyword will result in an error or misinterpretation.\n",
      "  warnings.warn(\n"
     ]
    },
    {
     "data": {
      "text/plain": [
       "<AxesSubplot:xlabel='No_of_Fly_Members'>"
      ]
     },
     "execution_count": 130,
     "metadata": {},
     "output_type": "execute_result"
    },
    {
     "data": {
      "image/png": "[encoded data removed]",
      "text/plain": [
       "<Figure size 432x288 with 1 Axes>"
      ]
     },
     "metadata": {
      "needs_background": "light"
     },
     "output_type": "display_data"
    }
   ],
   "source": [
    "sns.boxplot(gf2['No_of_Fly_Members'])"
   ]
  },
  {
   "cell_type": "code",
   "execution_count": 131,
   "id": "dc38757d",
   "metadata": {},
   "outputs": [
    {
     "name": "stderr",
     "output_type": "stream",
     "text": [
      "C:\\Users\\hp\\anaconda3\\lib\\site-packages\\seaborn\\_decorators.py:36: FutureWarning: Pass the following variable as a keyword arg: x. From version 0.12, the only valid positional argument will be `data`, and passing other arguments without an explicit keyword will result in an error or misinterpretation.\n",
      "  warnings.warn(\n"
     ]
    },
    {
     "data": {
      "text/plain": [
       "<AxesSubplot:xlabel='Emi_or_Rent_Amt'>"
      ]
     },
     "execution_count": 131,
     "metadata": {},
     "output_type": "execute_result"
    },
    {
     "data": {
      "image/png": "[encoded data removed]",
      "text/plain": [
       "<Figure size 432x288 with 1 Axes>"
      ]
     },
     "metadata": {
      "needs_background": "light"
     },
     "output_type": "display_data"
    }
   ],
   "source": [
    "sns.boxplot(gf2['Emi_or_Rent_Amt'])"
   ]
  },
  {
   "cell_type": "markdown",
   "id": "ae3d0b9c",
   "metadata": {},
   "source": [
    "We have to remove the outliers as we can see in the boxplot."
   ]
  },
  {
   "cell_type": "code",
   "execution_count": 132,
   "id": "ebff935b",
   "metadata": {},
   "outputs": [],
   "source": [
    "Q1 = gf2.quantile(.25)\n",
    "Q2 = gf2.median()\n",
    "Q3 = gf2.quantile(.75)\n",
    "IQR = Q3-Q1\n",
    "Qmin = Q1 - 1.5*IQR\n",
    "Qmax = Q3 + 1.5*IQR"
   ]
  },
  {
   "cell_type": "code",
   "execution_count": 133,
   "id": "a2c1f200",
   "metadata": {},
   "outputs": [
    {
     "name": "stdout",
     "output_type": "stream",
     "text": [
      "Quartile 1 = \n",
      " Mthly_HH_Income      23550.0\n",
      "Mthly_HH_Expense     10000.0\n",
      "No_of_Fly_Members        3.0\n",
      "Emi_or_Rent_Amt          0.0\n",
      "Name: 0.25, dtype: float64\n",
      "Quartile 2 = \n",
      " Mthly_HH_Income      35000.0\n",
      "Mthly_HH_Expense     15500.0\n",
      "No_of_Fly_Members        4.0\n",
      "Emi_or_Rent_Amt          0.0\n",
      "dtype: float64\n",
      "Quartile 3 =\n",
      " Mthly_HH_Income      50375.0\n",
      "Mthly_HH_Expense     25000.0\n",
      "No_of_Fly_Members        5.0\n",
      "Emi_or_Rent_Amt       3500.0\n",
      "Name: 0.75, dtype: float64\n",
      "Quartile range = \n",
      " Mthly_HH_Income      26825.0\n",
      "Mthly_HH_Expense     15000.0\n",
      "No_of_Fly_Members        2.0\n",
      "Emi_or_Rent_Amt       3500.0\n",
      "dtype: float64\n",
      "Qmin = \n",
      "  Mthly_HH_Income     -16687.5\n",
      "Mthly_HH_Expense    -12500.0\n",
      "No_of_Fly_Members        0.0\n",
      "Emi_or_Rent_Amt      -5250.0\n",
      "dtype: float64\n",
      "Qmax = \n",
      "  Mthly_HH_Income      90612.5\n",
      "Mthly_HH_Expense     47500.0\n",
      "No_of_Fly_Members        8.0\n",
      "Emi_or_Rent_Amt       8750.0\n",
      "dtype: float64\n"
     ]
    }
   ],
   "source": [
    "print(\"Quartile 1 = \\n\",Q1)\n",
    "print(\"Quartile 2 = \\n\",Q2)\n",
    "print(\"Quartile 3 =\\n\", Q3)\n",
    "print(\"Quartile range = \\n\",IQR)\n",
    "print(\"Qmin = \\n \", Qmin)\n",
    "print(\"Qmax = \\n \",Qmax)"
   ]
  },
  {
   "cell_type": "code",
   "execution_count": 134,
   "id": "8bafbf9e",
   "metadata": {},
   "outputs": [
    {
     "name": "stdout",
     "output_type": "stream",
     "text": [
      "    Mthly_HH_Income  Mthly_HH_Expense  No_of_Fly_Members  Emi_or_Rent_Amt\n",
      "0              5000              8000                  3             2000\n",
      "1              6000              7000                  2             3000\n",
      "2             10000              4500                  2                0\n",
      "3             10000              2000                  1                0\n",
      "4             12500             12000                  2             3000\n",
      "5             14000              8000                  2                0\n",
      "7             18000             20000                  5             8000\n",
      "8             19000              9000                  2                0\n",
      "9             20000              9000                  4                0\n",
      "10            20000             18000                  4             8000\n",
      "12            23400              5000                  3                0\n",
      "13            24000             10500                  6                0\n",
      "14            24000             10000                  4                0\n",
      "15            25000             12300                  3                0\n",
      "16            25000             20000                  3             3500\n",
      "17            25000             10000                  6                0\n",
      "18            29000              6600                  2             2000\n",
      "19            30000             13000                  4                0\n",
      "20            30500             25000                  5             5000\n",
      "21            32000             15000                  4                0\n",
      "22            34000             19000                  6                0\n",
      "23            34000             25000                  3             4000\n",
      "24            35000             12000                  3                0\n",
      "25            35000             25000                  4                0\n",
      "26            39000              8000                  4                0\n",
      "27            40000             10000                  4                0\n",
      "28            42000             15000                  4                0\n",
      "29            43000             12000                  4                0\n",
      "30            45000             25000                  6                0\n",
      "31            45000             40000                  6             3500\n",
      "32            45000             10000                  2             1000\n",
      "33            45000             22000                  4             2500\n",
      "34            46000             25000                  5             3500\n",
      "35            47000             15000                  7                0\n",
      "36            50000             20000                  4                0\n",
      "37            50500             20000                  3                0\n",
      "39            60000             10000                  3                0\n",
      "41            65000             20000                  4             5000\n",
      "42            70000              9000                  2                0\n",
      "43            80000             20000                  4                0\n",
      "44            85000             25000                  5                0\n"
     ]
    },
    {
     "data": {
      "text/plain": [
       "(41, 4)"
      ]
     },
     "execution_count": 134,
     "metadata": {},
     "output_type": "execute_result"
    }
   ],
   "source": [
    "Xm = gf2[(gf2.Mthly_HH_Income>Qmin.Mthly_HH_Income)&(gf2.Mthly_HH_Income<Qmax.Mthly_HH_Income)]\n",
    "Xm = Xm[(Xm.Mthly_HH_Expense>Qmin.Mthly_HH_Expense)&(Xm.Mthly_HH_Expense<Qmax.Mthly_HH_Expense)]\n",
    "Xm = Xm[(Xm.No_of_Fly_Members>Qmin.No_of_Fly_Members)&(Xm.No_of_Fly_Members<Qmax.No_of_Fly_Members)]\n",
    "Xm = Xm[(Xm.Emi_or_Rent_Amt>Qmin.Emi_or_Rent_Amt)&(Xm.Emi_or_Rent_Amt<Qmax.Emi_or_Rent_Amt)]\n",
    "print(Xm)\n",
    "Xm.shape\n"
   ]
  },
  {
   "cell_type": "markdown",
   "id": "a1669e86",
   "metadata": {},
   "source": [
    "Now we will define Train and Test Data"
   ]
  },
  {
   "cell_type": "code",
   "execution_count": 135,
   "id": "d21f7565",
   "metadata": {},
   "outputs": [
    {
     "data": {
      "text/html": [
       "<div>\n",
       "<style scoped>\n",
       "    .dataframe tbody tr th:only-of-type {\n",
       "        vertical-align: middle;\n",
       "    }\n",
       "\n",
       "    .dataframe tbody tr th {\n",
       "        vertical-align: top;\n",
       "    }\n",
       "\n",
       "    .dataframe thead th {\n",
       "        text-align: right;\n",
       "    }\n",
       "</style>\n",
       "<table border=\"1\" class=\"dataframe\">\n",
       "  <thead>\n",
       "    <tr style=\"text-align: right;\">\n",
       "      <th></th>\n",
       "      <th>Mthly_HH_Income</th>\n",
       "      <th>No_of_Fly_Members</th>\n",
       "      <th>Emi_or_Rent_Amt</th>\n",
       "    </tr>\n",
       "  </thead>\n",
       "  <tbody>\n",
       "    <tr>\n",
       "      <th>0</th>\n",
       "      <td>5000</td>\n",
       "      <td>3</td>\n",
       "      <td>2000</td>\n",
       "    </tr>\n",
       "    <tr>\n",
       "      <th>1</th>\n",
       "      <td>6000</td>\n",
       "      <td>2</td>\n",
       "      <td>3000</td>\n",
       "    </tr>\n",
       "    <tr>\n",
       "      <th>2</th>\n",
       "      <td>10000</td>\n",
       "      <td>2</td>\n",
       "      <td>0</td>\n",
       "    </tr>\n",
       "    <tr>\n",
       "      <th>3</th>\n",
       "      <td>10000</td>\n",
       "      <td>1</td>\n",
       "      <td>0</td>\n",
       "    </tr>\n",
       "    <tr>\n",
       "      <th>4</th>\n",
       "      <td>12500</td>\n",
       "      <td>2</td>\n",
       "      <td>3000</td>\n",
       "    </tr>\n",
       "  </tbody>\n",
       "</table>\n",
       "</div>"
      ],
      "text/plain": [
       "   Mthly_HH_Income  No_of_Fly_Members  Emi_or_Rent_Amt\n",
       "0             5000                  3             2000\n",
       "1             6000                  2             3000\n",
       "2            10000                  2                0\n",
       "3            10000                  1                0\n",
       "4            12500                  2             3000"
      ]
     },
     "execution_count": 135,
     "metadata": {},
     "output_type": "execute_result"
    }
   ],
   "source": [
    "X_gf = Xm.drop([\"Mthly_HH_Expense\"],axis =1 , inplace=False)\n",
    "X_gf.head()"
   ]
  },
  {
   "cell_type": "code",
   "execution_count": 136,
   "id": "76f559bf",
   "metadata": {},
   "outputs": [],
   "source": [
    "Y_gf = Xm[\"Mthly_HH_Expense\"]\n"
   ]
  },
  {
   "cell_type": "code",
   "execution_count": 137,
   "id": "50f7e163",
   "metadata": {},
   "outputs": [
    {
     "data": {
      "text/plain": [
       "0      8000\n",
       "1      7000\n",
       "2      4500\n",
       "3      2000\n",
       "4     12000\n",
       "5      8000\n",
       "7     20000\n",
       "8      9000\n",
       "9      9000\n",
       "10    18000\n",
       "12     5000\n",
       "13    10500\n",
       "14    10000\n",
       "15    12300\n",
       "16    20000\n",
       "17    10000\n",
       "18     6600\n",
       "19    13000\n",
       "20    25000\n",
       "21    15000\n",
       "22    19000\n",
       "23    25000\n",
       "24    12000\n",
       "25    25000\n",
       "26     8000\n",
       "27    10000\n",
       "28    15000\n",
       "29    12000\n",
       "30    25000\n",
       "31    40000\n",
       "32    10000\n",
       "33    22000\n",
       "34    25000\n",
       "35    15000\n",
       "36    20000\n",
       "37    20000\n",
       "39    10000\n",
       "41    20000\n",
       "42     9000\n",
       "43    20000\n",
       "44    25000\n",
       "Name: Mthly_HH_Expense, dtype: int64"
      ]
     },
     "execution_count": 137,
     "metadata": {},
     "output_type": "execute_result"
    }
   ],
   "source": [
    "Y_gf"
   ]
  },
  {
   "cell_type": "code",
   "execution_count": 138,
   "id": "45e74939",
   "metadata": {},
   "outputs": [
    {
     "name": "stdout",
     "output_type": "stream",
     "text": [
      "Independent variable = [[-1.61235006 -0.54277485  0.31486523]\n",
      " [-1.55873147 -1.26063836  0.77591788]\n",
      " [-1.34425714 -1.26063836 -0.60724008]\n",
      " [-1.34425714 -1.97850187 -0.60724008]\n",
      " [-1.21021068 -1.26063836  0.77591788]\n",
      " [-1.1297828  -1.26063836 -0.60724008]\n",
      " [-0.91530846  0.89295217  3.08118115]\n",
      " [-0.86168988 -1.26063836 -0.60724008]\n",
      " [-0.8080713   0.17508866 -0.60724008]\n",
      " [-0.8080713   0.17508866  3.08118115]\n",
      " [-0.62576811 -0.54277485 -0.60724008]\n",
      " [-0.59359696  1.61081568 -0.60724008]\n",
      " [-0.59359696  0.17508866 -0.60724008]\n",
      " [-0.53997838 -0.54277485 -0.60724008]\n",
      " [-0.53997838 -0.54277485  1.00644421]\n",
      " [-0.53997838  1.61081568 -0.60724008]\n",
      " [-0.32550404 -1.26063836  0.31486523]\n",
      " [-0.27188545  0.17508866 -0.60724008]\n",
      " [-0.24507616  0.89295217  1.69802319]\n",
      " [-0.16464829  0.17508866 -0.60724008]\n",
      " [-0.05741112  1.61081568 -0.60724008]\n",
      " [-0.05741112 -0.54277485  1.23697054]\n",
      " [-0.00379253 -0.54277485 -0.60724008]\n",
      " [-0.00379253  0.17508866 -0.60724008]\n",
      " [ 0.2106818   0.17508866 -0.60724008]\n",
      " [ 0.26430039  0.17508866 -0.60724008]\n",
      " [ 0.37153755  0.17508866 -0.60724008]\n",
      " [ 0.42515614  0.17508866 -0.60724008]\n",
      " [ 0.53239331  1.61081568 -0.60724008]\n",
      " [ 0.53239331  1.61081568  1.00644421]\n",
      " [ 0.53239331 -1.26063836 -0.14618743]\n",
      " [ 0.53239331  0.17508866  0.54539155]\n",
      " [ 0.58601189  0.89295217  1.00644421]\n",
      " [ 0.63963048  2.32867919 -0.60724008]\n",
      " [ 0.80048623  0.17508866 -0.60724008]\n",
      " [ 0.82729552 -0.54277485 -0.60724008]\n",
      " [ 1.33667207 -0.54277485 -0.60724008]\n",
      " [ 1.60476499  0.17508866  1.69802319]\n",
      " [ 1.87285791 -1.26063836 -0.60724008]\n",
      " [ 2.40904375  0.17508866 -0.60724008]\n",
      " [ 2.67713667  0.89295217 -0.60724008]]\n",
      "Target = [-0.90482987 -1.03550273 -1.36218488 -1.68886702 -0.38213843 -0.90482987\n",
      "  0.66324444 -0.77415701 -0.77415701  0.40189872 -1.29684845 -0.57814772\n",
      " -0.64348415 -0.34293658  0.66324444 -0.64348415 -1.08777187 -0.25146557\n",
      "  1.31660873  0.00988014  0.53257158  1.31660873 -0.38213843  1.31660873\n",
      " -0.90482987 -0.64348415  0.00988014 -0.38213843  1.31660873  3.27670162\n",
      " -0.64348415  0.92459016  1.31660873  0.00988014  0.66324444  0.66324444\n",
      " -0.64348415  0.66324444 -0.77415701  0.66324444  1.31660873]\n"
     ]
    }
   ],
   "source": [
    "#Scaling\n",
    "\n",
    "X_gf = scale(X_gf)\n",
    "Y_gf = scale(Y_gf)\n",
    "print(\"Independent variable =\", X_gf)\n",
    "print(\"Target =\", Y_gf)"
   ]
  },
  {
   "cell_type": "code",
   "execution_count": 140,
   "id": "b0e355f6",
   "metadata": {},
   "outputs": [],
   "source": [
    "from sklearn.model_selection import train_test_split"
   ]
  },
  {
   "cell_type": "code",
   "execution_count": 141,
   "id": "7b19ab19",
   "metadata": {},
   "outputs": [],
   "source": [
    "#Spliting data\n",
    "X_gfTrain, Xgf_Target, Y_gfTrain, Y_gfTarget = train_test_split(X_gf, Y_gf ,test_size=0.2,random_state=10)"
   ]
  },
  {
   "cell_type": "code",
   "execution_count": 142,
   "id": "335b9ffa",
   "metadata": {},
   "outputs": [
    {
     "data": {
      "text/plain": [
       "(array([[-0.53997838, -0.54277485, -0.60724008],\n",
       "        [ 0.53239331,  0.17508866,  0.54539155],\n",
       "        [ 0.2106818 ,  0.17508866, -0.60724008],\n",
       "        [-1.1297828 , -1.26063836, -0.60724008],\n",
       "        [-0.91530846,  0.89295217,  3.08118115],\n",
       "        [-1.34425714, -1.97850187, -0.60724008],\n",
       "        [ 0.82729552, -0.54277485, -0.60724008],\n",
       "        [-0.53997838, -0.54277485,  1.00644421],\n",
       "        [-0.00379253,  0.17508866, -0.60724008],\n",
       "        [ 2.40904375,  0.17508866, -0.60724008],\n",
       "        [-1.55873147, -1.26063836,  0.77591788],\n",
       "        [-0.05741112, -0.54277485,  1.23697054],\n",
       "        [-0.59359696,  1.61081568, -0.60724008],\n",
       "        [ 1.87285791, -1.26063836, -0.60724008],\n",
       "        [ 0.37153755,  0.17508866, -0.60724008],\n",
       "        [-0.32550404, -1.26063836,  0.31486523],\n",
       "        [-0.16464829,  0.17508866, -0.60724008],\n",
       "        [-1.21021068, -1.26063836,  0.77591788],\n",
       "        [-0.00379253, -0.54277485, -0.60724008],\n",
       "        [ 0.58601189,  0.89295217,  1.00644421],\n",
       "        [-0.62576811, -0.54277485, -0.60724008],\n",
       "        [ 1.60476499,  0.17508866,  1.69802319],\n",
       "        [ 2.67713667,  0.89295217, -0.60724008],\n",
       "        [-0.8080713 ,  0.17508866, -0.60724008],\n",
       "        [ 0.80048623,  0.17508866, -0.60724008],\n",
       "        [ 0.53239331,  1.61081568,  1.00644421],\n",
       "        [ 0.26430039,  0.17508866, -0.60724008],\n",
       "        [ 0.53239331,  1.61081568, -0.60724008],\n",
       "        [-1.61235006, -0.54277485,  0.31486523],\n",
       "        [-0.53997838,  1.61081568, -0.60724008],\n",
       "        [ 1.33667207, -0.54277485, -0.60724008],\n",
       "        [-0.8080713 ,  0.17508866,  3.08118115]]),\n",
       " array([[ 0.53239331, -1.26063836, -0.14618743],\n",
       "        [-0.59359696,  0.17508866, -0.60724008],\n",
       "        [ 0.63963048,  2.32867919, -0.60724008],\n",
       "        [-1.34425714, -1.26063836, -0.60724008],\n",
       "        [-0.05741112,  1.61081568, -0.60724008],\n",
       "        [-0.27188545,  0.17508866, -0.60724008],\n",
       "        [-0.24507616,  0.89295217,  1.69802319],\n",
       "        [-0.86168988, -1.26063836, -0.60724008],\n",
       "        [ 0.42515614,  0.17508866, -0.60724008]]),\n",
       " array([-0.34293658,  0.92459016, -0.90482987, -0.90482987,  0.66324444,\n",
       "        -1.68886702,  0.66324444,  0.66324444,  1.31660873,  0.66324444,\n",
       "        -1.03550273,  1.31660873, -0.57814772, -0.77415701,  0.00988014,\n",
       "        -1.08777187,  0.00988014, -0.38213843, -0.38213843,  1.31660873,\n",
       "        -1.29684845,  0.66324444,  1.31660873, -0.77415701,  0.66324444,\n",
       "         3.27670162, -0.64348415,  1.31660873, -0.90482987, -0.64348415,\n",
       "        -0.64348415,  0.40189872]),\n",
       " array([-0.64348415, -0.64348415,  0.00988014, -1.36218488,  0.53257158,\n",
       "        -0.25146557,  1.31660873, -0.77415701, -0.38213843]))"
      ]
     },
     "execution_count": 142,
     "metadata": {},
     "output_type": "execute_result"
    }
   ],
   "source": [
    "X_gfTrain, Xgf_Target, Y_gfTrain, Y_gfTarget"
   ]
  },
  {
   "cell_type": "code",
   "execution_count": 144,
   "id": "bede838c",
   "metadata": {},
   "outputs": [
    {
     "data": {
      "text/plain": [
       "((32, 3), (9, 3), (32,), (9,))"
      ]
     },
     "execution_count": 144,
     "metadata": {},
     "output_type": "execute_result"
    }
   ],
   "source": [
    "X_gfTrain.shape, Xgf_Target.shape, Y_gfTrain.shape, Y_gfTarget.shape"
   ]
  },
  {
   "cell_type": "code",
   "execution_count": 145,
   "id": "71bbb2ec",
   "metadata": {},
   "outputs": [],
   "source": [
    "#Applying multiple linear model\n",
    "from sklearn.linear_model import LinearRegression"
   ]
  },
  {
   "cell_type": "code",
   "execution_count": 146,
   "id": "a092fb0e",
   "metadata": {},
   "outputs": [],
   "source": [
    "LR = LinearRegression()"
   ]
  },
  {
   "cell_type": "code",
   "execution_count": 147,
   "id": "3ea99263",
   "metadata": {},
   "outputs": [
    {
     "data": {
      "text/plain": [
       "LinearRegression()"
      ]
     },
     "execution_count": 147,
     "metadata": {},
     "output_type": "execute_result"
    }
   ],
   "source": [
    "LR.fit(X_gfTrain,Y_gfTrain)"
   ]
  },
  {
   "cell_type": "code",
   "execution_count": 148,
   "id": "897d984b",
   "metadata": {},
   "outputs": [
    {
     "data": {
      "text/plain": [
       "0.036144190640325966"
      ]
     },
     "execution_count": 148,
     "metadata": {},
     "output_type": "execute_result"
    }
   ],
   "source": [
    "LR.intercept_"
   ]
  },
  {
   "cell_type": "code",
   "execution_count": 149,
   "id": "83d0556b",
   "metadata": {},
   "outputs": [
    {
     "data": {
      "text/plain": [
       "array([0.40844225, 0.48525953, 0.40025134])"
      ]
     },
     "execution_count": 149,
     "metadata": {},
     "output_type": "execute_result"
    }
   ],
   "source": [
    "LR.coef_"
   ]
  },
  {
   "cell_type": "code",
   "execution_count": 152,
   "id": "6a58b6aa",
   "metadata": {},
   "outputs": [],
   "source": [
    "gf_Predict = LR.predict(Xgf_Target)"
   ]
  },
  {
   "cell_type": "code",
   "execution_count": 153,
   "id": "29e12c10",
   "metadata": {},
   "outputs": [
    {
     "data": {
      "text/plain": [
       "array([-0.41665238, -0.3643911 ,  1.18436142, -1.36769265,  0.55131007,\n",
       "       -0.23299053,  1.04899433, -1.1705918 ,  0.05171071])"
      ]
     },
     "execution_count": 153,
     "metadata": {},
     "output_type": "execute_result"
    }
   ],
   "source": [
    "gf_Predict"
   ]
  },
  {
   "cell_type": "code",
   "execution_count": 154,
   "id": "1df73486",
   "metadata": {},
   "outputs": [],
   "source": [
    "from sklearn.metrics import r2_score"
   ]
  },
  {
   "cell_type": "code",
   "execution_count": 155,
   "id": "1a0dbbab",
   "metadata": {},
   "outputs": [
    {
     "data": {
      "text/plain": [
       "0.6125919002712419"
      ]
     },
     "execution_count": 155,
     "metadata": {},
     "output_type": "execute_result"
    }
   ],
   "source": [
    "r2_score(Y_gfTarget,gf_Predict)"
   ]
  },
  {
   "cell_type": "code",
   "execution_count": 163,
   "id": "5196921d",
   "metadata": {},
   "outputs": [
    {
     "name": "stdout",
     "output_type": "stream",
     "text": [
      "Mean squared error: 0.21\n"
     ]
    }
   ],
   "source": [
    "print(\"Mean squared error: %.2f\" % np.mean((LR.predict(Xgf_Target) - Y_gfTarget) ** 2))"
   ]
  },
  {
   "cell_type": "markdown",
   "id": "0b91de58",
   "metadata": {},
   "source": [
    "# Question no - 3"
   ]
  },
  {
   "cell_type": "markdown",
   "id": "3da03754",
   "metadata": {},
   "source": [
    "3A.)What is the difference in the conventional programming and Machine learning Programming? "
   ]
  },
  {
   "cell_type": "markdown",
   "id": "1e80c254",
   "metadata": {},
   "source": [
    "Answer.) Conventional Programming (CP) Versus Machine Learning Programming (MLP):"
   ]
  },
  {
   "cell_type": "markdown",
   "id": "fda60875",
   "metadata": {},
   "source": [
    "Machine Learning programming (MLP) and conventional programming (CP) are two different approaches of programming. The approaches are quite\n",
    "different and so should be the expectation of outcomes."
   ]
  },
  {
   "cell_type": "markdown",
   "id": "24b48a91",
   "metadata": {},
   "source": [
    "- Conventional Programming is writing a program in a traditional procedural language, such as assembly language or a high-level compiler\n",
    "language (C, C++, Java, JavaScript, Python, etc), while Machine learning (ML) is the scientific study of algorithms and statistical models that\n",
    "computer systems use to effectively perform a specific task without using explicit instructions, relying on patterns and inference instead.\n"
   ]
  },
  {
   "cell_type": "markdown",
   "id": "308e560d",
   "metadata": {},
   "source": [
    "- While CP stresses on the exact right answer, the MLP focuses on providing the satisfactory solution. Achieving 100% accuracy is nearly impossible\n",
    "in MLP and hence the focus is on getting upwards of 90%"
   ]
  },
  {
   "cell_type": "markdown",
   "id": "cb57ed38",
   "metadata": {},
   "source": [
    "- The knowledge of the system in conventional system is precise, whereas MLP systems are assumed to be living with some degree of imprecise\n",
    "knowledge"
   ]
  },
  {
   "cell_type": "markdown",
   "id": "56269dcb",
   "metadata": {},
   "source": [
    "- Conventional systems are based on functional/algorithmic programming - any change in the business rules requires likely change in the\n",
    "programming. MLP systems are based on heuristic approach and changes are typically adopted by the system per re-modelling"
   ]
  },
  {
   "cell_type": "markdown",
   "id": "1d6d1a1f",
   "metadata": {},
   "source": [
    "- MLP systems rely a lot of the real-life data provided to learn, and model. Conventional systems follow programming logic.\n"
   ]
  },
  {
   "cell_type": "markdown",
   "id": "3c1ce598",
   "metadata": {},
   "source": [
    "3B.)Explain various steps involved in Machine Learning Process?"
   ]
  },
  {
   "cell_type": "markdown",
   "id": "5bfa6eff",
   "metadata": {},
   "source": [
    "There are three process invlove in Machine Learning Process :"
   ]
  },
  {
   "cell_type": "markdown",
   "id": "224db1bd",
   "metadata": {},
   "source": [
    "- Define the Problem : First we need to define the proble, which type and what do want in output"
   ]
  },
  {
   "cell_type": "markdown",
   "id": "462a2247",
   "metadata": {},
   "source": [
    "- Data Collection : Collect the data according to your define problem which can be load by using pandas library in python\n"
   ]
  },
  {
   "cell_type": "markdown",
   "id": "32e65785",
   "metadata": {},
   "source": [
    "- Model Building : followed by the Data collection, we've to define the model based on our given data and problem."
   ]
  },
  {
   "cell_type": "markdown",
   "id": "206d2ffb",
   "metadata": {},
   "source": [
    "Model Building : followed by the Data collection, we've to define the model based on our given data and problem."
   ]
  },
  {
   "cell_type": "markdown",
   "id": "ec47aab3",
   "metadata": {},
   "source": [
    "1) Loading and Understanding your Data : This is the frst step to help the build the model based on your dataframe and given different type of\n",
    "variables such as independent variable and dependent variables."
   ]
  },
  {
   "cell_type": "markdown",
   "id": "96db16bd",
   "metadata": {},
   "source": [
    "2) Exploratory Data Analysis (EDA): EDA analysis helps to identify the data cleaning and filling the data if some data are missing from your uploaded\n",
    "dataframe"
   ]
  },
  {
   "cell_type": "markdown",
   "id": "6fb40b7d",
   "metadata": {},
   "source": [
    "3) Splitting the Data into train and test data: Splitting the data into train and test data, carried out by followed the EDA analysis, it devide the the into\n",
    "train data and test data by importing the \"train_test_split\" function from the scikit library of Machine learning."
   ]
  },
  {
   "cell_type": "markdown",
   "id": "239035f7",
   "metadata": {},
   "source": [
    "4) Create the train model : It carried out, followed by the splitting the data and create the train model based on your dependent variable, based on\n",
    "that we can import the model such as linear or logistic regression."
   ]
  },
  {
   "cell_type": "markdown",
   "id": "76efbc31",
   "metadata": {},
   "source": [
    "5) Evaluate the model: After train the model, evaluation must needed and for that, ML create the model and prdicted the coefficient after evaluating\n",
    "the SSE, MSE, RMSE, MAE , and R2 values, etc.."
   ]
  },
  {
   "cell_type": "markdown",
   "id": "3de1b416",
   "metadata": {},
   "source": [
    "6) Deploy/ Operationalize Model: It helps to predict the model is robust or fragile, and It defind by the R2 score or accuracy of the model."
   ]
  },
  {
   "cell_type": "markdown",
   "id": "38bfcb99",
   "metadata": {},
   "source": [
    "# Question no - 4"
   ]
  },
  {
   "cell_type": "markdown",
   "id": "7724b236",
   "metadata": {},
   "source": [
    "Describe the evaluation techniques used for Linear Regression?"
   ]
  },
  {
   "cell_type": "markdown",
   "id": "ed2d5b8e",
   "metadata": {},
   "source": [
    "- Evalution metrices helps to understand the how's the model is behaving with given your data: basically it evaluate by calculating the following terms:"
   ]
  },
  {
   "cell_type": "markdown",
   "id": "dc150fb5",
   "metadata": {},
   "source": [
    "1) Sum of Square error(SSE): SSE is defined as the sum of square of difference's between the observed value that is actual value and predicted values.\n",
    "It measure the how much variation is there in predicted model from our actual one."
   ]
  },
  {
   "cell_type": "markdown",
   "id": "43e249c7",
   "metadata": {},
   "source": [
    "2) Mean Square Error (MSE): MSE is defind as the ratio of sum of square Error (SSE) to the number of observation. smaller the MSE, the closer you are\n",
    "to finding the line of best fitted model."
   ]
  },
  {
   "cell_type": "markdown",
   "id": "6e54039a",
   "metadata": {},
   "source": [
    "3) Root mean square Error (RMSE): RMSE evaluate by taken the square root of MSE, called RMSE. RMSE is measure the how spread out the data from\n",
    "best fitted model"
   ]
  },
  {
   "cell_type": "markdown",
   "id": "a32f19ab",
   "metadata": {},
   "source": [
    "4) R2 (R square) Score: This metric represents the part of the variance of the dependent variable explained by the independent variables of the model.\n",
    "It measures the strength of the relationship between your model and the dependent variable"
   ]
  },
  {
   "cell_type": "markdown",
   "id": "cdaf3848",
   "metadata": {},
   "source": [
    "- If R² is high (say 1), then the model represents the variance of the dependent variable."
   ]
  },
  {
   "cell_type": "markdown",
   "id": "4b6c4a5c",
   "metadata": {},
   "source": [
    "- If R² is very low, then the model does not represent the variance of the dependent variable and regression is no better than taking the mean\n",
    "value, i.e. you are not using any information from the other variables."
   ]
  },
  {
   "cell_type": "markdown",
   "id": "e24b81e4",
   "metadata": {},
   "source": [
    "- A Negative R² means you are doing worse than the mean value. It can have a negative value if the predictors do not explain the dependent\n",
    "variables at all such that RSS ~ TSS."
   ]
  },
  {
   "cell_type": "markdown",
   "id": "7f18b61b",
   "metadata": {},
   "source": [
    "# Question no - 5"
   ]
  },
  {
   "cell_type": "markdown",
   "id": "2513322a",
   "metadata": {},
   "source": [
    "Describe the evaluation techniques for Logistics Regression?"
   ]
  },
  {
   "cell_type": "markdown",
   "id": "19df8029",
   "metadata": {},
   "source": [
    "Evaluation Technique used in Logistic Regression:"
   ]
  },
  {
   "cell_type": "markdown",
   "id": "10891617",
   "metadata": {},
   "source": [
    "- logistic regression predicts the dichotomous outcome where input variable can be continuous or dicontinuous"
   ]
  },
  {
   "cell_type": "markdown",
   "id": "8ce918ca",
   "metadata": {},
   "source": [
    "Regression find outs the relationship between variables and assess what are the variables which help in classification. after creating the model i\n",
    "will explain how to evaluate that model."
   ]
  },
  {
   "cell_type": "markdown",
   "id": "25bd9b1e",
   "metadata": {},
   "source": [
    "In Linear Regression, we check adjusted R², F Statistics, MAE, and RMSE to evaluate model fit and accuracy. But, Logistic Regression employs all\n",
    "different sets of metrics. Here, we deal with probabilities and categorical values. Following are the evaluation metrics used for Logistic Regression:"
   ]
  },
  {
   "cell_type": "markdown",
   "id": "e9a66a5e",
   "metadata": {},
   "source": [
    "- Confusion matrix"
   ]
  },
  {
   "cell_type": "markdown",
   "id": "e8aebf1a",
   "metadata": {},
   "source": [
    "- ROC"
   ]
  },
  {
   "cell_type": "markdown",
   "id": "176395cf",
   "metadata": {},
   "source": [
    "- AIC"
   ]
  },
  {
   "cell_type": "markdown",
   "id": "700e9e0d",
   "metadata": {},
   "source": [
    "# Question no - 6"
   ]
  },
  {
   "cell_type": "markdown",
   "id": "19bc10ea",
   "metadata": {},
   "source": [
    "What do you understand by imputation of missing values. Write a note on the methods of Imputation techniques?"
   ]
  },
  {
   "cell_type": "markdown",
   "id": "9723f195",
   "metadata": {},
   "source": [
    "Imputation:"
   ]
  },
  {
   "cell_type": "markdown",
   "id": "5c2cc6a6",
   "metadata": {},
   "source": [
    "Imputation is a technique used for replacing the missing data with some substitute value to retain most of the\n",
    "data/information of the dataset."
   ]
  },
  {
   "cell_type": "markdown",
   "id": "61c37308",
   "metadata": {},
   "source": [
    "These techniques are used because removing the data from the dataset every time is not feasible and can lead to a reduction in the size of the\n",
    "dataset to a large extend, which not only raises concerns for biasing the dataset but also leads to incorrect analysis. there lot off imputation methods\n",
    "available, some of them is given below:"
   ]
  },
  {
   "cell_type": "markdown",
   "id": "c318b93f",
   "metadata": {},
   "source": [
    "- Mean Imputation: Simply calculate the mean of the observed values for that variable for all individuals who are non-missing."
   ]
  },
  {
   "cell_type": "markdown",
   "id": "bf7f6a2f",
   "metadata": {},
   "source": [
    "- Substitution: Impute the value from a new individual who was not selected to be in the sample. In other words, go find a new subject and use\n",
    "their value instead."
   ]
  },
  {
   "cell_type": "markdown",
   "id": "d1185701",
   "metadata": {},
   "source": [
    "- Hot Deck Imputation: A randomly chosen value from an individual in the sample who has similar values on other variables. such as find all the\n",
    "sample subjects who are similar on other variables, then randomly choose one of their values on the missing variable."
   ]
  },
  {
   "cell_type": "markdown",
   "id": "9324cc43",
   "metadata": {},
   "source": [
    "- Cold Deck Imputation: A systematically chosen value from an individual who has similar values on other variables. This is similar to Hot Deck in\n",
    "most ways, but removes the random variation."
   ]
  },
  {
   "cell_type": "markdown",
   "id": "909bd854",
   "metadata": {},
   "source": [
    "- Regression Imputation: The predicted value obtained by regressing the missing variable on other variables."
   ]
  },
  {
   "cell_type": "markdown",
   "id": "eb9ed641",
   "metadata": {},
   "source": [
    "# Question no - 7"
   ]
  },
  {
   "cell_type": "markdown",
   "id": "ed2628bd",
   "metadata": {},
   "source": [
    "Discuss some of the ways we can find the normality of the  Numerical data?"
   ]
  },
  {
   "cell_type": "markdown",
   "id": "a37bdfde",
   "metadata": {},
   "source": [
    "Normality:"
   ]
  },
  {
   "cell_type": "markdown",
   "id": "25a5448d",
   "metadata": {},
   "source": [
    "In statistics, normality tests are used to determine if a data set is well-modeled by a normal distribution and to compute how likely it is for a random\n",
    "variable underlying the data set to be normally distributed."
   ]
  },
  {
   "cell_type": "markdown",
   "id": "8340a22d",
   "metadata": {},
   "source": [
    "- The standard normal distribution is the most important continuous probability distribution has a bell-shaped density curve described by its mean\n",
    "and SD and extreme values in the data set have no significant impact on the mean value. If a continuous data is follow normal distribution then\n",
    "68.2%, 95.4%, and 99.7% observations are lie between mean +/- 1 SD, mean +/- 2 SD, and mean +/- 3 SD, respectively.\n"
   ]
  },
  {
   "cell_type": "markdown",
   "id": "f77840ca",
   "metadata": {},
   "source": [
    "We can observe the normality of the numerical data by using the different types of test, like T type test, Anova Test, Z test, chi2(chi square test), In\n",
    "those test we have to find the probability by using repective table and find out the learning rate that is alpha. If the measured probability is lesser\n",
    "than the learning rate, then we can't accept the sample, and vice-versa is true"
   ]
  },
  {
   "cell_type": "markdown",
   "id": "0831fb2d",
   "metadata": {},
   "source": [
    "Box plots, Histogram, QQ plot are the major plot which helps significantly to test the normality test of numerical data"
   ]
  },
  {
   "cell_type": "markdown",
   "id": "5c8d3e67",
   "metadata": {},
   "source": [
    "# Question no - 8"
   ]
  },
  {
   "cell_type": "markdown",
   "id": "ee8ef974",
   "metadata": {},
   "source": [
    "What is meant by balanced and unbalanced data?"
   ]
  },
  {
   "cell_type": "markdown",
   "id": "ed12b188",
   "metadata": {},
   "source": [
    "Balanced Dataset: — A balanced dataset is a dataset where each output class (or target class) is represented by the same number of input samples.\n",
    "Balancing can be performed by exploiting one of the following techniques: oversampling. undersampling. class weight."
   ]
  },
  {
   "cell_type": "markdown",
   "id": "127c2de4",
   "metadata": {},
   "source": [
    "Unbalanced Dataset: —an unbalanced dataset is one in which the target variable has more observations in one specific class than the others"
   ]
  },
  {
   "cell_type": "markdown",
   "id": "b5caa240",
   "metadata": {},
   "source": [
    "# Question no - 9"
   ]
  },
  {
   "cell_type": "markdown",
   "id": "2ae6ef67",
   "metadata": {},
   "source": [
    " Which of the following statement is TRUE."
   ]
  },
  {
   "cell_type": "markdown",
   "id": "448918bd",
   "metadata": {},
   "source": [
    "A)\tOutliers should be identified and removed always from the dataset. \n",
    "\n"
   ]
  },
  {
   "cell_type": "markdown",
   "id": "1983da87",
   "metadata": {},
   "source": [
    "B)\tOutliers can never be present in the testing dataset"
   ]
  },
  {
   "cell_type": "markdown",
   "id": "c81ab2e9",
   "metadata": {},
   "source": [
    "C)\tOutlier is a data point which is significantly close to other data points."
   ]
  },
  {
   "cell_type": "markdown",
   "id": "f74db4b6",
   "metadata": {},
   "source": [
    "D)\tThe nature of our business problem determines how outliers are used."
   ]
  },
  {
   "cell_type": "markdown",
   "id": "1b86bcac",
   "metadata": {},
   "source": [
    "Answer.) D)\tThe nature of our business problem determines how outliers are used."
   ]
  },
  {
   "cell_type": "markdown",
   "id": "468bf499",
   "metadata": {},
   "source": [
    "# Question no - 10"
   ]
  },
  {
   "cell_type": "markdown",
   "id": "3c8dbbfa",
   "metadata": {},
   "source": [
    "Q.)In Regression modelling we develop a mathematical equation that\n",
    "describes how, (Predictor-Independent variable, Response-Dependent variable)\n"
   ]
  },
  {
   "cell_type": "markdown",
   "id": "3467d444",
   "metadata": {},
   "source": [
    " (A) one predictor and one or more response variables are related."
   ]
  },
  {
   "cell_type": "markdown",
   "id": "6b376494",
   "metadata": {},
   "source": [
    " (B) several predictors and several response variables response is related."
   ]
  },
  {
   "cell_type": "markdown",
   "id": "59e4599a",
   "metadata": {},
   "source": [
    " (C) one response and one or more predictors are related."
   ]
  },
  {
   "cell_type": "markdown",
   "id": "7568fec6",
   "metadata": {},
   "source": [
    " (D) All of these are correct."
   ]
  },
  {
   "cell_type": "markdown",
   "id": "3e769f39",
   "metadata": {},
   "source": [
    "Answer.) C.)one response and one or more predictors are related."
   ]
  },
  {
   "cell_type": "markdown",
   "id": "e7bdb7ea",
   "metadata": {},
   "source": [
    "# Submitted by - "
   ]
  },
  {
   "cell_type": "markdown",
   "id": "a5bc2642",
   "metadata": {},
   "source": [
    "# Hemant Singh Dangi"
   ]
  },
  {
   "cell_type": "code",
   "execution_count": null,
   "id": "2da137fb",
   "metadata": {},
   "outputs": [],
   "source": []
  }
 ],
 "metadata": {
  "kernelspec": {
   "display_name": "Python 3",
   "language": "python",
   "name": "python3"
  },
  "language_info": {
   "codemirror_mode": {
    "name": "ipython",
    "version": 3
   },
   "file_extension": ".py",
   "mimetype": "text/x-python",
   "name": "python",
   "nbconvert_exporter": "python",
   "pygments_lexer": "ipython3",
   "version": "3.8.8"
  }
 },
 "nbformat": 4,
 "nbformat_minor": 5
}
