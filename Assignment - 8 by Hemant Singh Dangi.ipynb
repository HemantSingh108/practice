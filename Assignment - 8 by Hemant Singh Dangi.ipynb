{
 "cells": [
  {
   "cell_type": "markdown",
   "id": "d273a6bc",
   "metadata": {},
   "source": [
    "# Assignment (Text Mining, Forecasting & Tableau)"
   ]
  },
  {
   "cell_type": "markdown",
   "id": "45d02b1b",
   "metadata": {},
   "source": [
    "# Question no - 1"
   ]
  },
  {
   "cell_type": "markdown",
   "id": "f92c750c",
   "metadata": {},
   "source": [
    " Explain the steps involved in Bag of Words Model? "
   ]
  },
  {
   "cell_type": "markdown",
   "id": "de6815e4",
   "metadata": {},
   "source": [
    "Answer.) Bag-of-words : A bag-of-words model, or BoW for short, is a way of extracting features from text for use in modeling, such as with machine learning algorithms."
   ]
  },
  {
   "cell_type": "markdown",
   "id": "849538da",
   "metadata": {},
   "source": [
    "The approach is very simple and flexible, and can be used in a myriad of ways for extracting features from documents."
   ]
  },
  {
   "cell_type": "markdown",
   "id": "bd64707a",
   "metadata": {},
   "source": [
    "After collecting the data or sentences in BOW two steps are involved:"
   ]
  },
  {
   "cell_type": "markdown",
   "id": "0ded9dc4",
   "metadata": {},
   "source": [
    "- Tokenisation : It make the list of all unique words, whichever words are available in given data or sentances."
   ]
  },
  {
   "cell_type": "markdown",
   "id": "50dd635c",
   "metadata": {},
   "source": [
    "- Vectorisation : Process of converting NLP Text into numbering."
   ]
  },
  {
   "cell_type": "markdown",
   "id": "a5502848",
   "metadata": {},
   "source": [
    "Example:"
   ]
  },
  {
   "cell_type": "markdown",
   "id": "bc465ad3",
   "metadata": {},
   "source": [
    "Step 1: Collecting the Data"
   ]
  },
  {
   "cell_type": "markdown",
   "id": "c7fd034f",
   "metadata": {},
   "source": [
    "a) It was the best of times,"
   ]
  },
  {
   "cell_type": "markdown",
   "id": "bf273124",
   "metadata": {},
   "source": [
    "b) it was the worst of times,"
   ]
  },
  {
   "cell_type": "markdown",
   "id": "d8e15d2b",
   "metadata": {},
   "source": [
    "c) it was the age of wisdom,"
   ]
  },
  {
   "cell_type": "markdown",
   "id": "eaf6bec4",
   "metadata": {},
   "source": [
    "d) it was the age of foolishness,"
   ]
  },
  {
   "cell_type": "markdown",
   "id": "83e60619",
   "metadata": {},
   "source": [
    "Step 2: Tokenisation -> List of unique word in given sentences:"
   ]
  },
  {
   "cell_type": "markdown",
   "id": "9e762421",
   "metadata": {},
   "source": [
    "Token = [“it”, “was”, “the”, “best”, “of”, “times”, “worst”, “age”, “wisdom”, “foolishness”]"
   ]
  },
  {
   "cell_type": "markdown",
   "id": "95e6e9d0",
   "metadata": {},
   "source": [
    "here in token have 10 unique words and those word will be as the dictionary or vocabulary for NLP processing of Given data"
   ]
  },
  {
   "cell_type": "markdown",
   "id": "8af76a66",
   "metadata": {},
   "source": [
    "Step 3: Vectorisation -> To vectorize our documents or given sentences, we've to count each word how many times appear in our sentences."
   ]
  },
  {
   "cell_type": "markdown",
   "id": "6d2930e0",
   "metadata": {},
   "source": [
    "- \"it was the best of times\" = [1, 1, 1, 1, 1, 1, 0, 0, 0, 0]"
   ]
  },
  {
   "cell_type": "markdown",
   "id": "aa7495b8",
   "metadata": {},
   "source": [
    "- \"it was the worst of times\" = [1, 1, 1, 0, 1, 1, 1, 0, 0, 0]"
   ]
  },
  {
   "cell_type": "markdown",
   "id": "ad4734dd",
   "metadata": {},
   "source": [
    "- \"it was the age of wisdom\" = [1, 1, 1, 0, 1, 0, 0, 1, 1, 0]"
   ]
  },
  {
   "cell_type": "markdown",
   "id": "a7a133c9",
   "metadata": {},
   "source": [
    "- \"it was the age of foolishness \" =[1, 1, 1, 0, 1, 0, 0, 1, 0, 1]"
   ]
  },
  {
   "cell_type": "markdown",
   "id": "c76cc95f",
   "metadata": {},
   "source": [
    "now we have vectorize the all sentences."
   ]
  },
  {
   "cell_type": "markdown",
   "id": "617bb211",
   "metadata": {},
   "source": [
    "BOW : A more sophisticated approach is to create a vocabulary of grouped words. This both changes the scope of the vocabulary and allows the bag-of-words to capture a little bit more meaning from the document."
   ]
  },
  {
   "cell_type": "markdown",
   "id": "fbc87f1b",
   "metadata": {},
   "source": [
    "# Question no - 2"
   ]
  },
  {
   "cell_type": "markdown",
   "id": "258229cf",
   "metadata": {},
   "source": [
    "Explain about Count vectorizer and TDF-IDF vectorizer with example? "
   ]
  },
  {
   "cell_type": "markdown",
   "id": "4b822c86",
   "metadata": {},
   "source": [
    "**TfidfVectorizer** and **CountVectorizer** both are methods for converting text data into vectors as model can process only numerical data.\n",
    "\n",
    "**CountVectorizer** we only count the number of times a word appears in the document which results in biasing in favour of most frequent words. this ends up in ignoring rare words which could have helped is in processing our data more efficiently.\n",
    "\n",
    "\n"
   ]
  },
  {
   "cell_type": "markdown",
   "id": "2495b2ee",
   "metadata": {},
   "source": [
    "# Question no - 3"
   ]
  },
  {
   "cell_type": "markdown",
   "id": "ebac3897",
   "metadata": {},
   "source": [
    "What is semantic analysis. Explain the techniques to achieve semantic \n",
    "analysis 1) Name Entity Recognition 2) Co Reference Resolution? \n"
   ]
  },
  {
   "cell_type": "markdown",
   "id": "ac5b6822",
   "metadata": {},
   "source": [
    "Semantic Analysis : Semantic analysis is the process of finding the meaning from text. This analysis gives the power to computers to understand and interpret sentences, paragraphs, or whole documents, by analyzing their grammatical structure, and identifying the relationships between individual words of the sentence in a particular context."
   ]
  },
  {
   "cell_type": "markdown",
   "id": "ca18778e",
   "metadata": {},
   "source": [
    "Therefore, the goal of semantic analysis is to draw exact meaning or dictionary meaning from the text. The work of a semantic analyzer is to check the text for meaningfulness."
   ]
  },
  {
   "cell_type": "markdown",
   "id": "aa26f82c",
   "metadata": {},
   "source": [
    "There are Two Techniques involve in semantic analysis:"
   ]
  },
  {
   "cell_type": "markdown",
   "id": "60247c1b",
   "metadata": {},
   "source": [
    "- Name Entity Recognition"
   ]
  },
  {
   "cell_type": "markdown",
   "id": "2019260f",
   "metadata": {},
   "source": [
    "- Co Reference Resolution"
   ]
  },
  {
   "cell_type": "markdown",
   "id": "74f7af1b",
   "metadata": {},
   "source": [
    "Name Entity Recognition : This focuses on identification of named entities such as persons, locations, organizations which are denoted by proper nouns.\n",
    "\n",
    "See the below example."
   ]
  },
  {
   "cell_type": "markdown",
   "id": "becee127",
   "metadata": {},
   "source": [
    "\"Michael Jordan is a professor at Berkeley.\""
   ]
  },
  {
   "cell_type": "markdown",
   "id": "b241b24f",
   "metadata": {},
   "source": [
    "- There we can identify two named entities as \"Michael Jordan\", a person and \"Berkeley\", a location."
   ]
  },
  {
   "cell_type": "markdown",
   "id": "6de79594",
   "metadata": {},
   "source": [
    "- Named entity recognition can be used in text classification, topic modelling, content recommendations, trend detection.\n",
    "\n"
   ]
  },
  {
   "cell_type": "markdown",
   "id": "8a872c2e",
   "metadata": {},
   "source": [
    "Co Reference Resolution : What we do in co-reference resolution is, finding which phrases refer to which entities. Here we need to find all the references to an entity within a text document. The words used for referring need not be pronouns."
   ]
  },
  {
   "cell_type": "markdown",
   "id": "31cb1139",
   "metadata": {},
   "source": [
    "# Question no - 4"
   ]
  },
  {
   "cell_type": "markdown",
   "id": "8e90185a",
   "metadata": {},
   "source": [
    "Write a note on Word Embedding? \n"
   ]
  },
  {
   "cell_type": "markdown",
   "id": "8c5c4192",
   "metadata": {},
   "source": [
    "Word embedding : It is an approach for representing words and documents. Word Embedding or Word Vector is a numeric vector input that represents a word in a lower-dimensional space. It allows words with similar meaning to have a similar representation. They can also approximate meaning. A word vector with 50 values can represent 50 unique features."
   ]
  },
  {
   "cell_type": "markdown",
   "id": "0160f21b",
   "metadata": {},
   "source": [
    "- Embeddings translate large sparse vectors into a lower-dimensional space that preserves semantic relationships."
   ]
  },
  {
   "cell_type": "markdown",
   "id": "f3ec0f3e",
   "metadata": {},
   "source": [
    "- Word embeddings is a technique where individual words of a domain or language are represented as real-valued vectors in a lower dimensional space."
   ]
  },
  {
   "cell_type": "markdown",
   "id": "4c2c4b44",
   "metadata": {},
   "source": [
    "- Sparse Matrix problem with BOW is solved by mapping high-dimensional data into a lower-dimensional space."
   ]
  },
  {
   "cell_type": "markdown",
   "id": "c1685a37",
   "metadata": {},
   "source": [
    "Lack of meaningful relationship issue of BOW is solved by placing vectors of semantically similar items close to each other. This way words that have similar meaning have similar distances in the vector space."
   ]
  },
  {
   "cell_type": "markdown",
   "id": "676b002f",
   "metadata": {},
   "source": [
    "# Question no - 5"
   ]
  },
  {
   "cell_type": "markdown",
   "id": "025e301c",
   "metadata": {},
   "source": [
    "Using the dataset of twitter ‘disaster-tweets’. Create a classification model \n",
    "(Logistics Regression) which predicts the tweets about disaster using Count \n",
    "vectorization and TDF-IDF vectorization? Explain the difference in outcome? \n"
   ]
  },
  {
   "cell_type": "code",
   "execution_count": 5,
   "id": "c9c80c25",
   "metadata": {},
   "outputs": [],
   "source": [
    "import pandas as pd\n",
    "import numpy as np\n",
    "import seaborn as sns\n",
    "import matplotlib.pyplot as plt\n",
    "%matplotlib inline\n",
    "from sklearn import datasets\n",
    "\n",
    "## Ignoring Warning during trainings \n",
    "import warnings\n",
    "warnings.filterwarnings('ignore')"
   ]
  },
  {
   "cell_type": "code",
   "execution_count": 6,
   "id": "f229bcdf",
   "metadata": {},
   "outputs": [
    {
     "name": "stderr",
     "output_type": "stream",
     "text": [
      "[nltk_data] Downloading package stopwords to\n",
      "[nltk_data]     C:\\Users\\hp\\AppData\\Roaming\\nltk_data...\n",
      "[nltk_data]   Package stopwords is already up-to-date!\n",
      "[nltk_data] Downloading package wordnet to\n",
      "[nltk_data]     C:\\Users\\hp\\AppData\\Roaming\\nltk_data...\n",
      "[nltk_data]   Package wordnet is already up-to-date!\n"
     ]
    },
    {
     "data": {
      "text/plain": [
       "True"
      ]
     },
     "execution_count": 6,
     "metadata": {},
     "output_type": "execute_result"
    }
   ],
   "source": [
    "import nltk\n",
    "import string\n",
    "import re\n",
    "from nltk.corpus import stopwords\n",
    "from nltk.stem import WordNetLemmatizer\n",
    "from tqdm import tqdm\n",
    "nltk.download('stopwords')\n",
    "nltk.download('wordnet')"
   ]
  },
  {
   "cell_type": "code",
   "execution_count": 7,
   "id": "2a141121",
   "metadata": {},
   "outputs": [],
   "source": [
    "from sklearn.feature_extraction.text import TfidfVectorizer\n",
    "from sklearn.linear_model import LogisticRegression\n",
    "from sklearn.model_selection import train_test_split\n",
    "from sklearn.metrics import accuracy_score, confusion_matrix, classification_report"
   ]
  },
  {
   "cell_type": "code",
   "execution_count": 8,
   "id": "4d5340f9",
   "metadata": {},
   "outputs": [],
   "source": [
    "ts = pd.read_csv('disaster-tweets.csv')"
   ]
  },
  {
   "cell_type": "code",
   "execution_count": 9,
   "id": "5d7f63f3",
   "metadata": {},
   "outputs": [
    {
     "data": {
      "text/html": [
       "<div>\n",
       "<style scoped>\n",
       "    .dataframe tbody tr th:only-of-type {\n",
       "        vertical-align: middle;\n",
       "    }\n",
       "\n",
       "    .dataframe tbody tr th {\n",
       "        vertical-align: top;\n",
       "    }\n",
       "\n",
       "    .dataframe thead th {\n",
       "        text-align: right;\n",
       "    }\n",
       "</style>\n",
       "<table border=\"1\" class=\"dataframe\">\n",
       "  <thead>\n",
       "    <tr style=\"text-align: right;\">\n",
       "      <th></th>\n",
       "      <th>choose_one</th>\n",
       "      <th>choose_one:confidence</th>\n",
       "      <th>text</th>\n",
       "    </tr>\n",
       "  </thead>\n",
       "  <tbody>\n",
       "    <tr>\n",
       "      <th>0</th>\n",
       "      <td>Relevant</td>\n",
       "      <td>1.0000</td>\n",
       "      <td>Just happened a terrible car crash</td>\n",
       "    </tr>\n",
       "    <tr>\n",
       "      <th>1</th>\n",
       "      <td>Relevant</td>\n",
       "      <td>1.0000</td>\n",
       "      <td>Our Deeds are the Reason of this #earthquake M...</td>\n",
       "    </tr>\n",
       "    <tr>\n",
       "      <th>2</th>\n",
       "      <td>Relevant</td>\n",
       "      <td>1.0000</td>\n",
       "      <td>Heard about #earthquake is different cities, s...</td>\n",
       "    </tr>\n",
       "    <tr>\n",
       "      <th>3</th>\n",
       "      <td>Relevant</td>\n",
       "      <td>0.9603</td>\n",
       "      <td>there is a forest fire at spot pond, geese are...</td>\n",
       "    </tr>\n",
       "    <tr>\n",
       "      <th>4</th>\n",
       "      <td>Relevant</td>\n",
       "      <td>1.0000</td>\n",
       "      <td>Forest fire near La Ronge Sask. Canada</td>\n",
       "    </tr>\n",
       "    <tr>\n",
       "      <th>...</th>\n",
       "      <td>...</td>\n",
       "      <td>...</td>\n",
       "      <td>...</td>\n",
       "    </tr>\n",
       "    <tr>\n",
       "      <th>10871</th>\n",
       "      <td>Relevant</td>\n",
       "      <td>0.7629</td>\n",
       "      <td>M1.94 [01:04 UTC]?5km S of Volcano Hawaii. htt...</td>\n",
       "    </tr>\n",
       "    <tr>\n",
       "      <th>10872</th>\n",
       "      <td>Relevant</td>\n",
       "      <td>0.9203</td>\n",
       "      <td>Police investigating after an e-bike collided ...</td>\n",
       "    </tr>\n",
       "    <tr>\n",
       "      <th>10873</th>\n",
       "      <td>Relevant</td>\n",
       "      <td>1.0000</td>\n",
       "      <td>The Latest: More Homes Razed by Northern Calif...</td>\n",
       "    </tr>\n",
       "    <tr>\n",
       "      <th>10874</th>\n",
       "      <td>Relevant</td>\n",
       "      <td>0.8419</td>\n",
       "      <td>MEG issues Hazardous Weather Outlook (HWO) htt...</td>\n",
       "    </tr>\n",
       "    <tr>\n",
       "      <th>10875</th>\n",
       "      <td>Relevant</td>\n",
       "      <td>0.8812</td>\n",
       "      <td>#CityofCalgary has activated its Municipal Eme...</td>\n",
       "    </tr>\n",
       "  </tbody>\n",
       "</table>\n",
       "<p>10876 rows × 3 columns</p>\n",
       "</div>"
      ],
      "text/plain": [
       "      choose_one  choose_one:confidence  \\\n",
       "0       Relevant                 1.0000   \n",
       "1       Relevant                 1.0000   \n",
       "2       Relevant                 1.0000   \n",
       "3       Relevant                 0.9603   \n",
       "4       Relevant                 1.0000   \n",
       "...          ...                    ...   \n",
       "10871   Relevant                 0.7629   \n",
       "10872   Relevant                 0.9203   \n",
       "10873   Relevant                 1.0000   \n",
       "10874   Relevant                 0.8419   \n",
       "10875   Relevant                 0.8812   \n",
       "\n",
       "                                                    text  \n",
       "0                     Just happened a terrible car crash  \n",
       "1      Our Deeds are the Reason of this #earthquake M...  \n",
       "2      Heard about #earthquake is different cities, s...  \n",
       "3      there is a forest fire at spot pond, geese are...  \n",
       "4                 Forest fire near La Ronge Sask. Canada  \n",
       "...                                                  ...  \n",
       "10871  M1.94 [01:04 UTC]?5km S of Volcano Hawaii. htt...  \n",
       "10872  Police investigating after an e-bike collided ...  \n",
       "10873  The Latest: More Homes Razed by Northern Calif...  \n",
       "10874  MEG issues Hazardous Weather Outlook (HWO) htt...  \n",
       "10875  #CityofCalgary has activated its Municipal Eme...  \n",
       "\n",
       "[10876 rows x 3 columns]"
      ]
     },
     "execution_count": 9,
     "metadata": {},
     "output_type": "execute_result"
    }
   ],
   "source": [
    "ts"
   ]
  },
  {
   "cell_type": "code",
   "execution_count": 10,
   "id": "771d84b0",
   "metadata": {},
   "outputs": [
    {
     "name": "stdout",
     "output_type": "stream",
     "text": [
      "Train Dataset missing data:\n",
      " choose_one               0\n",
      "choose_one:confidence    0\n",
      "text                     0\n",
      "dtype: int64 \n",
      "\n"
     ]
    }
   ],
   "source": [
    "print(\"Train Dataset missing data:\\n\",ts.isnull().sum(),\"\\n\")"
   ]
  },
  {
   "cell_type": "code",
   "execution_count": 11,
   "id": "22df3182",
   "metadata": {},
   "outputs": [
    {
     "data": {
      "text/plain": [
       "Not Relevant    6187\n",
       "Relevant        4673\n",
       "Can't Decide      16\n",
       "Name: choose_one, dtype: int64"
      ]
     },
     "execution_count": 11,
     "metadata": {},
     "output_type": "execute_result"
    }
   ],
   "source": [
    "ts.choose_one.value_counts()"
   ]
  },
  {
   "cell_type": "code",
   "execution_count": 13,
   "id": "8c96fae2",
   "metadata": {},
   "outputs": [
    {
     "data": {
      "text/html": [
       "<div>\n",
       "<style scoped>\n",
       "    .dataframe tbody tr th:only-of-type {\n",
       "        vertical-align: middle;\n",
       "    }\n",
       "\n",
       "    .dataframe tbody tr th {\n",
       "        vertical-align: top;\n",
       "    }\n",
       "\n",
       "    .dataframe thead th {\n",
       "        text-align: right;\n",
       "    }\n",
       "</style>\n",
       "<table border=\"1\" class=\"dataframe\">\n",
       "  <thead>\n",
       "    <tr style=\"text-align: right;\">\n",
       "      <th></th>\n",
       "      <th>target</th>\n",
       "      <th>choose_one:confidence</th>\n",
       "      <th>text</th>\n",
       "    </tr>\n",
       "  </thead>\n",
       "  <tbody>\n",
       "    <tr>\n",
       "      <th>0</th>\n",
       "      <td>1</td>\n",
       "      <td>1.0</td>\n",
       "      <td>Just happened a terrible car crash</td>\n",
       "    </tr>\n",
       "    <tr>\n",
       "      <th>1</th>\n",
       "      <td>1</td>\n",
       "      <td>1.0</td>\n",
       "      <td>Our Deeds are the Reason of this #earthquake M...</td>\n",
       "    </tr>\n",
       "  </tbody>\n",
       "</table>\n",
       "</div>"
      ],
      "text/plain": [
       "   target  choose_one:confidence  \\\n",
       "0       1                    1.0   \n",
       "1       1                    1.0   \n",
       "\n",
       "                                                text  \n",
       "0                 Just happened a terrible car crash  \n",
       "1  Our Deeds are the Reason of this #earthquake M...  "
      ]
     },
     "execution_count": 13,
     "metadata": {},
     "output_type": "execute_result"
    }
   ],
   "source": [
    "tweet = ts[(ts['choose_one'] == 'Relevant')|(ts['choose_one'] == 'Not Relevant')]\n",
    "tweet = tweet.replace(['Relevant', 'Not Relevant'],[1,0])\n",
    "tweet = tweet.rename(columns= {'choose_one' : 'target'})\n",
    "tweet.head(2)"
   ]
  },
  {
   "cell_type": "code",
   "execution_count": 14,
   "id": "e046d627",
   "metadata": {},
   "outputs": [
    {
     "data": {
      "text/html": [
       "<div>\n",
       "<style scoped>\n",
       "    .dataframe tbody tr th:only-of-type {\n",
       "        vertical-align: middle;\n",
       "    }\n",
       "\n",
       "    .dataframe tbody tr th {\n",
       "        vertical-align: top;\n",
       "    }\n",
       "\n",
       "    .dataframe thead th {\n",
       "        text-align: right;\n",
       "    }\n",
       "</style>\n",
       "<table border=\"1\" class=\"dataframe\">\n",
       "  <thead>\n",
       "    <tr style=\"text-align: right;\">\n",
       "      <th></th>\n",
       "      <th>target</th>\n",
       "    </tr>\n",
       "  </thead>\n",
       "  <tbody>\n",
       "    <tr>\n",
       "      <th>0</th>\n",
       "      <td>6187</td>\n",
       "    </tr>\n",
       "    <tr>\n",
       "      <th>1</th>\n",
       "      <td>4673</td>\n",
       "    </tr>\n",
       "  </tbody>\n",
       "</table>\n",
       "</div>"
      ],
      "text/plain": [
       "   target\n",
       "0    6187\n",
       "1    4673"
      ]
     },
     "execution_count": 14,
     "metadata": {},
     "output_type": "execute_result"
    },
    {
     "data": {
      "image/png": "[encoded data removed]",
      "text/plain": [
       "<Figure size 432x288 with 1 Axes>"
      ]
     },
     "metadata": {
      "needs_background": "light"
     },
     "output_type": "display_data"
    }
   ],
   "source": [
    "tweet_trend = tweet['target'].value_counts().to_frame()\n",
    "sns.barplot(data=tweet_trend,x=tweet_trend.index,y=\"target\",palette=\"viridis\")\n",
    "tweet_trend"
   ]
  },
  {
   "cell_type": "code",
   "execution_count": 15,
   "id": "6dfd3caf",
   "metadata": {},
   "outputs": [],
   "source": [
    "texts = tweet['text'].to_list()\n",
    "labels = tweet['target'].to_list()"
   ]
  },
  {
   "cell_type": "code",
   "execution_count": 16,
   "id": "ce3bdcb2",
   "metadata": {},
   "outputs": [],
   "source": [
    "lemmatizer = WordNetLemmatizer()\n",
    "stop_words = stopwords.words('english')"
   ]
  },
  {
   "cell_type": "code",
   "execution_count": 17,
   "id": "eb573ed3",
   "metadata": {},
   "outputs": [],
   "source": [
    "def preprocess(texts):\n",
    "    x_train = []\n",
    "    for sent in tqdm(texts):\n",
    "        sent = re.sub(\"[^a-zA-Z]\", \" \", sent)\n",
    "        sent = sent.lower().split()\n",
    "        sent = [lemmatizer.lemmatize(word) for word in sent if word not in set(stop_words)]\n",
    "        sent = ' '.join(sent)\n",
    "        x_train.append(sent)\n",
    "    return x_train"
   ]
  },
  {
   "cell_type": "code",
   "execution_count": 18,
   "id": "4edfa80b",
   "metadata": {},
   "outputs": [
    {
     "name": "stderr",
     "output_type": "stream",
     "text": [
      "100%|██████████████████████████████████████████████████████████████████████████| 10860/10860 [00:03<00:00, 2975.63it/s]\n"
     ]
    }
   ],
   "source": [
    "tweet_train = preprocess(texts)"
   ]
  },
  {
   "cell_type": "code",
   "execution_count": 19,
   "id": "890b6520",
   "metadata": {},
   "outputs": [],
   "source": [
    "tfidf = TfidfVectorizer(max_features=5000, analyzer='word', ngram_range=(1,2), stop_words='english')\n",
    "X_train = tfidf.fit_transform(tweet_train).toarray()"
   ]
  },
  {
   "cell_type": "code",
   "execution_count": 20,
   "id": "07916d95",
   "metadata": {},
   "outputs": [],
   "source": [
    "x_train, x_test, y_train, y_test = train_test_split(X_train, labels, test_size=0.2, random_state=0)"
   ]
  },
  {
   "cell_type": "code",
   "execution_count": 21,
   "id": "e5448f3b",
   "metadata": {},
   "outputs": [
    {
     "name": "stdout",
     "output_type": "stream",
     "text": [
      "Classifier: LogisticRegression \tAccuracy score: 0.8158379373848987%\n",
      "Classification report: \n",
      "              precision    recall  f1-score   support\n",
      "\n",
      "           0       0.81      0.89      0.85      1251\n",
      "           1       0.83      0.72      0.77       921\n",
      "\n",
      "    accuracy                           0.82      2172\n",
      "   macro avg       0.82      0.80      0.81      2172\n",
      "weighted avg       0.82      0.82      0.81      2172\n",
      "\n"
     ]
    }
   ],
   "source": [
    "clf = LogisticRegression(max_iter=500, random_state=0)\n",
    "clf.fit(x_train, y_train)\n",
    "y_pred = clf.predict(x_test)\n",
    "print('Classifier: {} \\tAccuracy score: {}%'.format(clf.__class__.__name__, \n",
    "                                                        accuracy_score(y_pred, y_test)))\n",
    "print('Classification report: ')\n",
    "print(classification_report(y_test, y_pred))    "
   ]
  },
  {
   "cell_type": "markdown",
   "id": "6b6594cf",
   "metadata": {},
   "source": [
    "# Question no - 6"
   ]
  },
  {
   "cell_type": "markdown",
   "id": "922a951e",
   "metadata": {},
   "source": [
    "What are the four components of time Series. Give 5 example of time series data?"
   ]
  },
  {
   "cell_type": "markdown",
   "id": "41711256",
   "metadata": {},
   "source": [
    "Ans.) Uses of Time Series"
   ]
  },
  {
   "cell_type": "markdown",
   "id": "b6e6520e",
   "metadata": {},
   "source": [
    "- The most important use of studying time series is that it helps us to predict the future behaviour of the variable based on past experience"
   ]
  },
  {
   "cell_type": "markdown",
   "id": "731e48c0",
   "metadata": {},
   "source": [
    "- It is helpful for business planning as it helps in comparing the actual current performance with the expected one"
   ]
  },
  {
   "cell_type": "markdown",
   "id": "67c27dbc",
   "metadata": {},
   "source": [
    "- From time series, we get to study the past behaviour of the phenomenon or the variable under consideration"
   ]
  },
  {
   "cell_type": "markdown",
   "id": "03b63956",
   "metadata": {},
   "source": [
    "- We can compare the changes in the values of different variables at different times or places, etc."
   ]
  },
  {
   "cell_type": "markdown",
   "id": "3444513e",
   "metadata": {},
   "source": [
    "Components for Time Series Analysis : The various reasons or the forces which affect the values of an observation in a time series are the components of a time series. The four categories of the components of time series are"
   ]
  },
  {
   "cell_type": "markdown",
   "id": "5d064441",
   "metadata": {},
   "source": [
    "- Trend"
   ]
  },
  {
   "cell_type": "markdown",
   "id": "6b05529e",
   "metadata": {},
   "source": [
    "- Seasonal Variations"
   ]
  },
  {
   "cell_type": "markdown",
   "id": "d67364f9",
   "metadata": {},
   "source": [
    "- Cyclic Variations"
   ]
  },
  {
   "cell_type": "markdown",
   "id": "a64f74d0",
   "metadata": {},
   "source": [
    "- Random or Irregular movements"
   ]
  },
  {
   "cell_type": "markdown",
   "id": "72cf195c",
   "metadata": {},
   "source": [
    "- Trend : The trend shows the general tendency of the data to increase or decrease during a long period of time. A trend is a smooth, general, long-term, average tendency. It is not always necessary that the increase or decrease is in the same direction throughout the given period of time."
   ]
  },
  {
   "cell_type": "markdown",
   "id": "526f1abf",
   "metadata": {},
   "source": [
    "- Seasonal Variations : These are the rhythmic forces which operate in a regular and periodic manner over a span of less than a year. They have the same or almost the same pattern during a period of 12 months. This variation will be present in a time series if the data are recorded hourly, daily, weekly, quarterly, or monthly."
   ]
  },
  {
   "cell_type": "markdown",
   "id": "eef35de6",
   "metadata": {},
   "source": [
    "- Cyclic Variations : The variations in a time series which operate themselves over a span of more than one year are the cyclic variations. This oscillatory movement has a period of oscillation of more than a year. One complete period is a cycle. This cyclic movement is sometimes called the ‘Business Cycle’."
   ]
  },
  {
   "cell_type": "markdown",
   "id": "82efb7ee",
   "metadata": {},
   "source": [
    "- Random or Irregular Movements : There is another factor which causes the variation in the variable under study. They are not regular variations and are purely random or irregular. These fluctuations are unforeseen, uncontrollable, unpredictable, and are erratic. These forces are earthquakes, wars, flood, famines, and any other disasters."
   ]
  },
  {
   "cell_type": "markdown",
   "id": "ab0d7633",
   "metadata": {},
   "source": [
    "Example of time series:"
   ]
  },
  {
   "cell_type": "markdown",
   "id": "8f139cf8",
   "metadata": {},
   "source": [
    "- Tracking daily, hourly, or weekly weather data"
   ]
  },
  {
   "cell_type": "markdown",
   "id": "e3cc0bf1",
   "metadata": {},
   "source": [
    "- Forcasting of the salesnamaste for a store"
   ]
  },
  {
   "cell_type": "markdown",
   "id": "1fdfe2b1",
   "metadata": {},
   "source": [
    "- prediction of the GDP based on growth of the country"
   ]
  },
  {
   "cell_type": "markdown",
   "id": "6cd732bb",
   "metadata": {},
   "source": [
    "- prediction of the growth in business"
   ]
  },
  {
   "cell_type": "markdown",
   "id": "8331a1eb",
   "metadata": {},
   "source": [
    "- forcasting the share price of a stocks"
   ]
  },
  {
   "cell_type": "markdown",
   "id": "9f83a453",
   "metadata": {},
   "source": [
    "# Question no - 7"
   ]
  },
  {
   "cell_type": "markdown",
   "id": "0f561a84",
   "metadata": {},
   "source": [
    "Explain the Exponential Smoothing Models in Time Series? \n"
   ]
  },
  {
   "cell_type": "markdown",
   "id": "c64f5165",
   "metadata": {},
   "source": [
    "Answer .) Exponential smoothing models : Exponential smoothing is a time series forecasting method for univariate data."
   ]
  },
  {
   "cell_type": "markdown",
   "id": "cd52725a",
   "metadata": {},
   "source": [
    "Time series methods like the Box-Jenkins ARIMA family of methods develop a model where the prediction is a weighted linear sum of recent past observations or lags."
   ]
  },
  {
   "cell_type": "markdown",
   "id": "62df8040",
   "metadata": {},
   "source": [
    "Exponential smoothing forecasting methods are similar in that a prediction is a weighted sum of past observations, but the model explicitly uses an exponentially decreasing weight for past observations."
   ]
  },
  {
   "cell_type": "markdown",
   "id": "7648e4e0",
   "metadata": {},
   "source": [
    "Types of Exponential Models :"
   ]
  },
  {
   "cell_type": "markdown",
   "id": "faa84f77",
   "metadata": {},
   "source": [
    "- Single Exponential Smoothing Model"
   ]
  },
  {
   "cell_type": "markdown",
   "id": "02b7ea04",
   "metadata": {},
   "source": [
    "- double exponential Smoothing Model"
   ]
  },
  {
   "cell_type": "markdown",
   "id": "959493f6",
   "metadata": {},
   "source": [
    "- tripple exponential Smoothing model"
   ]
  },
  {
   "cell_type": "markdown",
   "id": "1dd98133",
   "metadata": {},
   "source": [
    "Single Exponential Smoothing Model : Single Exponential Smoothing, SES for short, also called Simple Exponential Smoothing, is a time series forecasting method for univariate data without a trend or seasonality."
   ]
  },
  {
   "cell_type": "markdown",
   "id": "12d77484",
   "metadata": {},
   "source": [
    "It requires a single parameter, called alpha (a), also called the smoothing factor or smoothing coefficient."
   ]
  },
  {
   "cell_type": "markdown",
   "id": "f9e42512",
   "metadata": {},
   "source": [
    "This parameter controls the rate at which the influence of the observations at prior time steps decay exponentially. Alpha is often set to a value between 0 and 1. Large values mean that the model pays attention mainly to the most recent past observations, whereas smaller values mean more of the history is taken into account when making a prediction."
   ]
  },
  {
   "cell_type": "markdown",
   "id": "92ca5f99",
   "metadata": {},
   "source": [
    "Double Exponential Smoothing Model : Double Exponential Smoothing is an extension to Exponential Smoothing that explicitly adds support for trends in the univariate time series."
   ]
  },
  {
   "cell_type": "markdown",
   "id": "4fca6fbc",
   "metadata": {},
   "source": [
    "In addition to the alpha parameter for controlling smoothing factor for the level, an additional smoothing factor is added to control the decay of the influence of the change in trend called beta (b)."
   ]
  },
  {
   "cell_type": "markdown",
   "id": "83cac7ad",
   "metadata": {},
   "source": [
    "The method supports trends that change in different ways: an additive and a multiplicative, depending on whether the trend is linear or exponential respectively."
   ]
  },
  {
   "cell_type": "markdown",
   "id": "fe3c0403",
   "metadata": {},
   "source": [
    "Double Exponential Smoothing with an additive trend is classically referred to as Holt’s linear trend model, named for the developer of the method Charles Holt."
   ]
  },
  {
   "cell_type": "markdown",
   "id": "7cc6ab05",
   "metadata": {},
   "source": [
    "- Additive Trend: Double Exponential Smoothing with a linear trend."
   ]
  },
  {
   "cell_type": "markdown",
   "id": "bcc26568",
   "metadata": {},
   "source": [
    "- Multiplicative Trend: Double Exponential Smoothing with an exponential trend."
   ]
  },
  {
   "cell_type": "markdown",
   "id": "32739bc9",
   "metadata": {},
   "source": [
    "For longer range (multi-step) forecasts, the trend may continue on unrealistically. As such, it can be useful to dampen the trend over time."
   ]
  },
  {
   "cell_type": "markdown",
   "id": "4a9a5e4d",
   "metadata": {},
   "source": [
    "Dampening means reducing the size of the trend over future time steps down to a straight line (no trend)."
   ]
  },
  {
   "cell_type": "markdown",
   "id": "d568c598",
   "metadata": {},
   "source": [
    "Triple Exponential Smoothing model : Triple Exponential Smoothing is an extension of Exponential Smoothing that explicitly adds support for seasonality to the univariate time series."
   ]
  },
  {
   "cell_type": "markdown",
   "id": "fee23586",
   "metadata": {},
   "source": [
    "This method is sometimes called Holt-Winters Exponential Smoothing, named for two contributors to the method: Charles Holt and Peter Winters."
   ]
  },
  {
   "cell_type": "markdown",
   "id": "5edcf8cd",
   "metadata": {},
   "source": [
    "In addition to the alpha and beta smoothing factors, a new parameter is added called gamma (g) that controls the influence on the seasonal component."
   ]
  },
  {
   "cell_type": "markdown",
   "id": "fedc0363",
   "metadata": {},
   "source": [
    "As with the trend, the seasonality may be modeled as either an additive or multiplicative process for a linear or exponential change in the seasonality."
   ]
  },
  {
   "cell_type": "markdown",
   "id": "91e45034",
   "metadata": {},
   "source": [
    "- Additive Seasonality: Triple Exponential Smoothing with a linear seasonality."
   ]
  },
  {
   "cell_type": "markdown",
   "id": "7751e869",
   "metadata": {},
   "source": [
    "- Multiplicative Seasonality: Triple Exponential Smoothing with an exponential seasonality."
   ]
  },
  {
   "cell_type": "markdown",
   "id": "cf8dfb20",
   "metadata": {},
   "source": [
    "Triple exponential smoothing is the most advanced variation of exponential smoothing and through configuration, it can also develop double and single exponential smoothing models."
   ]
  },
  {
   "cell_type": "markdown",
   "id": "7c94ec1e",
   "metadata": {},
   "source": [
    "# Question - 8"
   ]
  },
  {
   "cell_type": "markdown",
   "id": "6c0779b5",
   "metadata": {},
   "source": [
    " Explain the ARIMA models in Time Series? "
   ]
  },
  {
   "cell_type": "markdown",
   "id": "c82e24a6",
   "metadata": {},
   "source": [
    "ARIMA : ARIMA is a method for forecasting or predicting future outcomes based on a historical time series. It is based on the statistical concept of serial correlation, where past data points influence future data points."
   ]
  },
  {
   "cell_type": "markdown",
   "id": "b29a3bde",
   "metadata": {},
   "source": [
    "ARIMA forecasting is achieved by plugging in time series data for the variable of interest. Statistical software will identify the appropriate number of lags or amount of differencing to be applied to the data and check for stationarity. It will then output the results, which are often interpreted similarly to that of a multiple linear regression model."
   ]
  },
  {
   "cell_type": "markdown",
   "id": "cb03711d",
   "metadata": {},
   "source": [
    "Autoregressive Integrated Moving Average Model : An ARIMA model is a class of statistical models for analyzing and forecasting time series data. It explicitly caters to a suite of standard structures in time series data, and as such provides a simple yet powerful method for making skillful time series forecasts."
   ]
  },
  {
   "cell_type": "markdown",
   "id": "40fe213b",
   "metadata": {},
   "source": [
    "ARIMA acronym for Auto Regressive Intigrated Moving Average"
   ]
  },
  {
   "cell_type": "markdown",
   "id": "21d7f813",
   "metadata": {},
   "source": [
    "This acronym is descriptive, capturing the key aspects of the model itself. Briefly, they are:"
   ]
  },
  {
   "cell_type": "markdown",
   "id": "7f165d3f",
   "metadata": {},
   "source": [
    "- AR (Autoregression) : A model that uses the dependent relationship between an observation and some number of lagged observations."
   ]
  },
  {
   "cell_type": "markdown",
   "id": "2149023d",
   "metadata": {},
   "source": [
    "- I (Integrated) : The use of differencing of raw observations (e.g. subtracting an observation from an observation at the previous time step) in order to make the time series stationary."
   ]
  },
  {
   "cell_type": "markdown",
   "id": "45393a94",
   "metadata": {},
   "source": [
    "- MA (Moving Average) : A model that uses the dependency between an observation and a residual error from a moving average model applied to lagged observations."
   ]
  },
  {
   "cell_type": "markdown",
   "id": "e968bd56",
   "metadata": {},
   "source": [
    "Each of these components are explicitly specified in the model as a parameter. A standard notation is used of ARIMA(p,d,q) where the parameters are substituted with integer values to quickly indicate the specific ARIMA model being used."
   ]
  },
  {
   "cell_type": "markdown",
   "id": "9e1c8c67",
   "metadata": {},
   "source": [
    "The parameters of the ARIMA model are defined as follows:"
   ]
  },
  {
   "cell_type": "markdown",
   "id": "7791fd8a",
   "metadata": {},
   "source": [
    "- p: The number of lag observations included in the model, also called the lag order."
   ]
  },
  {
   "cell_type": "markdown",
   "id": "6cbad2a9",
   "metadata": {},
   "source": [
    "- d: The number of times that the raw observations are differenced, also called the degree of differencing."
   ]
  },
  {
   "cell_type": "markdown",
   "id": "4b2a9880",
   "metadata": {},
   "source": [
    "- q: The size of the moving average window, also called the order of moving average."
   ]
  },
  {
   "cell_type": "markdown",
   "id": "c04e89d1",
   "metadata": {},
   "source": [
    "A linear regression model is constructed including the specified number and type of terms, and the data is prepared by a degree of differencing in order to make it stationary, i.e. to remove trend and seasonal structures that negatively affect the regression model."
   ]
  },
  {
   "cell_type": "markdown",
   "id": "ed77775b",
   "metadata": {},
   "source": [
    "A value of 0 can be used for a parameter, which indicates to not use that element of the model. This way, the ARIMA model can be configured to perform the function of an ARMA model, and even a simple AR, I, or MA model."
   ]
  },
  {
   "cell_type": "markdown",
   "id": "f91f0165",
   "metadata": {},
   "source": [
    "Adopting an ARIMA model for a time series assumes that the underlying process that generated the observations is an ARIMA process. This may seem obvious, but helps to motivate the need to confirm the assumptions of the model in the raw observations and in the residual errors of forecasts from the model."
   ]
  },
  {
   "cell_type": "markdown",
   "id": "ddb3b38c",
   "metadata": {},
   "source": [
    "# Question - 9"
   ]
  },
  {
   "cell_type": "markdown",
   "id": "bb8ad5b0",
   "metadata": {},
   "source": [
    " Using the attached ‘Tractor-Sales.csv’ dataset, Plot the line chart for time \n",
    "series. \n"
   ]
  },
  {
   "cell_type": "code",
   "execution_count": 25,
   "id": "2762c8cc",
   "metadata": {},
   "outputs": [
    {
     "data": {
      "text/html": [
       "<div>\n",
       "<style scoped>\n",
       "    .dataframe tbody tr th:only-of-type {\n",
       "        vertical-align: middle;\n",
       "    }\n",
       "\n",
       "    .dataframe tbody tr th {\n",
       "        vertical-align: top;\n",
       "    }\n",
       "\n",
       "    .dataframe thead th {\n",
       "        text-align: right;\n",
       "    }\n",
       "</style>\n",
       "<table border=\"1\" class=\"dataframe\">\n",
       "  <thead>\n",
       "    <tr style=\"text-align: right;\">\n",
       "      <th></th>\n",
       "      <th>Month-Year</th>\n",
       "      <th>Number of Tractor Sold</th>\n",
       "    </tr>\n",
       "  </thead>\n",
       "  <tbody>\n",
       "    <tr>\n",
       "      <th>0</th>\n",
       "      <td>Jan-03</td>\n",
       "      <td>141</td>\n",
       "    </tr>\n",
       "    <tr>\n",
       "      <th>1</th>\n",
       "      <td>Feb-03</td>\n",
       "      <td>157</td>\n",
       "    </tr>\n",
       "    <tr>\n",
       "      <th>2</th>\n",
       "      <td>Mar-03</td>\n",
       "      <td>185</td>\n",
       "    </tr>\n",
       "    <tr>\n",
       "      <th>3</th>\n",
       "      <td>Apr-03</td>\n",
       "      <td>199</td>\n",
       "    </tr>\n",
       "    <tr>\n",
       "      <th>4</th>\n",
       "      <td>May-03</td>\n",
       "      <td>203</td>\n",
       "    </tr>\n",
       "  </tbody>\n",
       "</table>\n",
       "</div>"
      ],
      "text/plain": [
       "  Month-Year  Number of Tractor Sold\n",
       "0     Jan-03                     141\n",
       "1     Feb-03                     157\n",
       "2     Mar-03                     185\n",
       "3     Apr-03                     199\n",
       "4     May-03                     203"
      ]
     },
     "execution_count": 25,
     "metadata": {},
     "output_type": "execute_result"
    }
   ],
   "source": [
    "tractor = pd.read_csv('Tractor_Sales.csv')\n",
    "tractor.head()"
   ]
  },
  {
   "cell_type": "code",
   "execution_count": 26,
   "id": "8cc006e7",
   "metadata": {},
   "outputs": [
    {
     "data": {
      "image/png": "[encoded data removed]",
      "text/plain": [
       "<Figure size 1440x576 with 1 Axes>"
      ]
     },
     "metadata": {
      "needs_background": "light"
     },
     "output_type": "display_data"
    }
   ],
   "source": [
    "tractor.plot('Month-Year','Number of Tractor Sold',figsize = (20,8))\n",
    "plt.title('Number of Tractor Sold Vs Time Period \\n')\n",
    "plt.ylabel('Number of Tractor Sold \\n')\n",
    "plt.xlabel('\\n Time-Period')\n",
    "plt.xticks(rotation = 30)\n",
    "plt.show()"
   ]
  },
  {
   "cell_type": "markdown",
   "id": "06894c63",
   "metadata": {},
   "source": [
    "# Submitted by - "
   ]
  },
  {
   "cell_type": "markdown",
   "id": "206913f2",
   "metadata": {},
   "source": [
    "# Hemant Singh Dangi"
   ]
  },
  {
   "cell_type": "code",
   "execution_count": null,
   "id": "cdae23c1",
   "metadata": {},
   "outputs": [],
   "source": []
  }
 ],
 "metadata": {
  "kernelspec": {
   "display_name": "Python 3",
   "language": "python",
   "name": "python3"
  },
  "language_info": {
   "codemirror_mode": {
    "name": "ipython",
    "version": 3
   },
   "file_extension": ".py",
   "mimetype": "text/x-python",
   "name": "python",
   "nbconvert_exporter": "python",
   "pygments_lexer": "ipython3",
   "version": "3.8.8"
  }
 },
 "nbformat": 4,
 "nbformat_minor": 5
}
