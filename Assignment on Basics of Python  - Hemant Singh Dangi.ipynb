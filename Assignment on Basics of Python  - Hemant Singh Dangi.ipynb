{
 "cells": [
  {
   "cell_type": "markdown",
   "id": "70bde16a",
   "metadata": {},
   "source": [
    "# First Question -\n",
    "Operations on List:-"
   ]
  },
  {
   "cell_type": "code",
   "execution_count": 2,
   "id": "3b23809f",
   "metadata": {},
   "outputs": [],
   "source": [
    "L1 = [1,\"hello\",2,\"hii\"]"
   ]
  },
  {
   "cell_type": "code",
   "execution_count": 3,
   "id": "7a8a8188",
   "metadata": {},
   "outputs": [
    {
     "data": {
      "text/plain": [
       "[1, 'hello', 2, 'hii']"
      ]
     },
     "execution_count": 3,
     "metadata": {},
     "output_type": "execute_result"
    }
   ],
   "source": [
    "L1"
   ]
  },
  {
   "cell_type": "code",
   "execution_count": 4,
   "id": "291f911d",
   "metadata": {},
   "outputs": [
    {
     "data": {
      "text/plain": [
       "['hii', 2, 'hello', 1]"
      ]
     },
     "execution_count": 4,
     "metadata": {},
     "output_type": "execute_result"
    }
   ],
   "source": [
    "L1.reverse()\n",
    "L1"
   ]
  },
  {
   "cell_type": "code",
   "execution_count": 5,
   "id": "b079861f",
   "metadata": {},
   "outputs": [
    {
     "data": {
      "text/plain": [
       "['hii', 2, 'hello', 1, 3]"
      ]
     },
     "execution_count": 5,
     "metadata": {},
     "output_type": "execute_result"
    }
   ],
   "source": [
    "L1.append(3)\n",
    "L1"
   ]
  },
  {
   "cell_type": "code",
   "execution_count": 6,
   "id": "bbd3930e",
   "metadata": {},
   "outputs": [],
   "source": [
    "L2=[\"hemant\",123,234]\n",
    "L1.extend(L2)"
   ]
  },
  {
   "cell_type": "code",
   "execution_count": 7,
   "id": "28152f31",
   "metadata": {},
   "outputs": [
    {
     "data": {
      "text/plain": [
       "['hii', 2, 'hello', 1, 3, 'hemant', 123, 234]"
      ]
     },
     "execution_count": 7,
     "metadata": {},
     "output_type": "execute_result"
    }
   ],
   "source": [
    "L1"
   ]
  },
  {
   "cell_type": "code",
   "execution_count": 8,
   "id": "57e95486",
   "metadata": {},
   "outputs": [
    {
     "data": {
      "text/plain": [
       "['hii', 2, 'hello', 4, 1, 3, 'hemant', 123, 234]"
      ]
     },
     "execution_count": 8,
     "metadata": {},
     "output_type": "execute_result"
    }
   ],
   "source": [
    "L1.insert(3,4)\n",
    "L1"
   ]
  },
  {
   "cell_type": "code",
   "execution_count": 9,
   "id": "97856285",
   "metadata": {},
   "outputs": [],
   "source": [
    "L3=[8,2,5,6,7,15]\n",
    "L3.sort()\n",
    "L3.reverse()\n"
   ]
  },
  {
   "cell_type": "code",
   "execution_count": 10,
   "id": "f2da91f1",
   "metadata": {},
   "outputs": [
    {
     "data": {
      "text/plain": [
       "[15, 8, 7, 6, 5, 2]"
      ]
     },
     "execution_count": 10,
     "metadata": {},
     "output_type": "execute_result"
    }
   ],
   "source": [
    "L3 #List sorted in descending order"
   ]
  },
  {
   "cell_type": "code",
   "execution_count": 11,
   "id": "9872a729",
   "metadata": {},
   "outputs": [
    {
     "data": {
      "text/plain": [
       "[15, 8, 7, 6, 5]"
      ]
     },
     "execution_count": 11,
     "metadata": {},
     "output_type": "execute_result"
    }
   ],
   "source": [
    "L3.pop()\n",
    "L3"
   ]
  },
  {
   "cell_type": "markdown",
   "id": "b13549f8",
   "metadata": {},
   "source": [
    "# Second Question -\n",
    "Operation on String -"
   ]
  },
  {
   "cell_type": "code",
   "execution_count": 12,
   "id": "086a65e5",
   "metadata": {},
   "outputs": [],
   "source": [
    "String=\"India is Great\""
   ]
  },
  {
   "cell_type": "code",
   "execution_count": 13,
   "id": "e06daeb1",
   "metadata": {},
   "outputs": [
    {
     "data": {
      "text/plain": [
       "'India is Great'"
      ]
     },
     "execution_count": 13,
     "metadata": {},
     "output_type": "execute_result"
    }
   ],
   "source": [
    "String"
   ]
  },
  {
   "cell_type": "code",
   "execution_count": 14,
   "id": "ce04f6e2",
   "metadata": {},
   "outputs": [
    {
     "data": {
      "text/plain": [
       "['India', 'is', 'Great']"
      ]
     },
     "execution_count": 14,
     "metadata": {},
     "output_type": "execute_result"
    }
   ],
   "source": [
    "String.split()"
   ]
  },
  {
   "cell_type": "code",
   "execution_count": 15,
   "id": "9fed05a6",
   "metadata": {},
   "outputs": [
    {
     "data": {
      "text/plain": [
       "'India is SuperPower'"
      ]
     },
     "execution_count": 15,
     "metadata": {},
     "output_type": "execute_result"
    }
   ],
   "source": [
    "String.replace(\"Great\",\"SuperPower\")"
   ]
  },
  {
   "cell_type": "markdown",
   "id": "164e294b",
   "metadata": {},
   "source": [
    "# Third Question -\n",
    "Operation on Dictionary -"
   ]
  },
  {
   "cell_type": "code",
   "execution_count": 16,
   "id": "8c3137e6",
   "metadata": {},
   "outputs": [],
   "source": [
    "Fruits_Rate ={\"orange\":40,\"grapes\":80,\"mango\":90,\"Bnana\":30}"
   ]
  },
  {
   "cell_type": "code",
   "execution_count": 17,
   "id": "e7a0fd20",
   "metadata": {},
   "outputs": [
    {
     "data": {
      "text/plain": [
       "{'orange': 40, 'grapes': 80, 'mango': 90, 'Bnana': 30}"
      ]
     },
     "execution_count": 17,
     "metadata": {},
     "output_type": "execute_result"
    }
   ],
   "source": [
    "Fruits_Rate"
   ]
  },
  {
   "cell_type": "code",
   "execution_count": 23,
   "id": "9457a9df",
   "metadata": {},
   "outputs": [],
   "source": [
    "del Fruits_Rate ['mango']"
   ]
  },
  {
   "cell_type": "code",
   "execution_count": 24,
   "id": "b82839b7",
   "metadata": {},
   "outputs": [
    {
     "data": {
      "text/plain": [
       "{'orange': 40, 'grapes': 80, 'Bnana': 30}"
      ]
     },
     "execution_count": 24,
     "metadata": {},
     "output_type": "execute_result"
    }
   ],
   "source": [
    "Fruits_Rate"
   ]
  },
  {
   "cell_type": "code",
   "execution_count": 25,
   "id": "83d61abd",
   "metadata": {},
   "outputs": [
    {
     "data": {
      "text/plain": [
       "80"
      ]
     },
     "execution_count": 25,
     "metadata": {},
     "output_type": "execute_result"
    }
   ],
   "source": [
    "Fruits_Rate['grapes']"
   ]
  },
  {
   "cell_type": "markdown",
   "id": "5caa7ba2",
   "metadata": {},
   "source": [
    "# Fourth Question - "
   ]
  },
  {
   "cell_type": "markdown",
   "id": "f54bf112",
   "metadata": {},
   "source": [
    "KEY DIFFERENCES between R and Python:\n",
    "\n"
   ]
  },
  {
   "cell_type": "markdown",
   "id": "20aa83c3",
   "metadata": {},
   "source": [
    "1.) R is mainly used for statistical analysis while Python provides a more general approach to data science"
   ]
  },
  {
   "cell_type": "markdown",
   "id": "1a871f7f",
   "metadata": {},
   "source": [
    " 2.)R users mainly consists of Scholars and R&D professionals while Python users are mostly Programmers and Developers"
   ]
  },
  {
   "cell_type": "markdown",
   "id": "cd66c778",
   "metadata": {},
   "source": [
    "3.)R provides flexibility to use available libraries whereas Python provides flexibility to construct new models from scratch."
   ]
  },
  {
   "cell_type": "markdown",
   "id": "d3a1c520",
   "metadata": {},
   "source": [
    "4.)R is integrated to Run locally while Python is well-integrated with apps."
   ]
  },
  {
   "cell_type": "markdown",
   "id": "85523622",
   "metadata": {},
   "source": [
    "5.)R can be used on the R Studio IDE while Python can be used on Spyder and Ipython Notebook IDEs."
   ]
  },
  {
   "cell_type": "markdown",
   "id": "41252664",
   "metadata": {},
   "source": [
    "6.)R consists various packages and libraries like tidyverse, ggplot2, caret, zoo whereas Python consists packages and libraries like pandas, scipy, scikit-learn, TensorFlow, caret."
   ]
  },
  {
   "cell_type": "markdown",
   "id": "8a183670",
   "metadata": {},
   "source": [
    "7.)R is difficult to learn at the beginning while Python is Linear and smooth to learn."
   ]
  },
  {
   "cell_type": "markdown",
   "id": "15574727",
   "metadata": {},
   "source": [
    "# Fifth question -\n",
    "\n",
    "How to install package in Python, What are different ways of Installation ?\n",
    "\n",
    "Ans.)\n",
    "\n",
    "When we have pip, it is easy to install python package since it does all the work . When we find the package that we want to use, installation instructions will include the necessary pip command, such as the following.\n",
    "\n",
    "1.)pip install package name\n",
    "\n",
    "For example.)\n",
    "\n",
    "pip install requests\n",
    "\n",
    "pip install beautifulsoup4\n",
    "\n",
    "2.)python -m pip install packagename\n",
    "\n",
    "For using Python3, so we can use the following command to install Python modules.\n",
    "\n",
    "python3 -m pip install packagename\n",
    "\n",
    "3.)python -m pip install packagename==version\n",
    "\n",
    "for python3:\n",
    "python3 -m pip install packagename==version"
   ]
  },
  {
   "cell_type": "markdown",
   "id": "434d42bf",
   "metadata": {},
   "source": [
    "# Sixth Question -\n",
    "\n",
    "Write conditional statement using if elif else to compare two nos x,y (x=y or x>y or x<y)."
   ]
  },
  {
   "cell_type": "code",
   "execution_count": 28,
   "id": "9cad86a2",
   "metadata": {},
   "outputs": [
    {
     "name": "stdout",
     "output_type": "stream",
     "text": [
      "x is less than y\n"
     ]
    }
   ],
   "source": [
    "x = 10\n",
    "y = 20\n",
    "\n",
    "if x>y:\n",
    "    print(\"x is greator than y\")\n",
    "elif x<y:\n",
    "    print(\"x is less than y\")\n",
    "else :\n",
    "    print(\"x is equal to y\")"
   ]
  },
  {
   "cell_type": "markdown",
   "id": "c6ef3b92",
   "metadata": {},
   "source": [
    "# Seventh Question -\n",
    "\n",
    "Write a user defined Function to find max of 3 nos."
   ]
  },
  {
   "cell_type": "code",
   "execution_count": 30,
   "id": "a04be5c0",
   "metadata": {},
   "outputs": [],
   "source": [
    "def Max(a,b,c):\n",
    "    if (a>b) and (a>c):\n",
    "        print(\"a is maximum\")\n",
    "    elif (b>a) and (b>c):\n",
    "        print(\"b is maximum\")\n",
    "    else:\n",
    "        print(\"c is maximum\")"
   ]
  },
  {
   "cell_type": "code",
   "execution_count": 31,
   "id": "d6c83d62",
   "metadata": {},
   "outputs": [
    {
     "name": "stdout",
     "output_type": "stream",
     "text": [
      "a is maximum\n"
     ]
    }
   ],
   "source": [
    "Max(8,2,6)"
   ]
  },
  {
   "cell_type": "markdown",
   "id": "fe4a0f93",
   "metadata": {},
   "source": [
    "# Eighth Question -\n",
    "\n",
    "Use For loop to print nos divisible by 5 & 7 between 1500 & 2500."
   ]
  },
  {
   "cell_type": "code",
   "execution_count": 32,
   "id": "c8d76703",
   "metadata": {},
   "outputs": [
    {
     "name": "stdout",
     "output_type": "stream",
     "text": [
      "['number divisble by both 5 and 7 in between 1500 & 2500 are', 1505]\n",
      "['number divisble by both 5 and 7 in between 1500 & 2500 are', 1540]\n",
      "['number divisble by both 5 and 7 in between 1500 & 2500 are', 1575]\n",
      "['number divisble by both 5 and 7 in between 1500 & 2500 are', 1610]\n",
      "['number divisble by both 5 and 7 in between 1500 & 2500 are', 1645]\n",
      "['number divisble by both 5 and 7 in between 1500 & 2500 are', 1680]\n",
      "['number divisble by both 5 and 7 in between 1500 & 2500 are', 1715]\n",
      "['number divisble by both 5 and 7 in between 1500 & 2500 are', 1750]\n",
      "['number divisble by both 5 and 7 in between 1500 & 2500 are', 1785]\n",
      "['number divisble by both 5 and 7 in between 1500 & 2500 are', 1820]\n",
      "['number divisble by both 5 and 7 in between 1500 & 2500 are', 1855]\n",
      "['number divisble by both 5 and 7 in between 1500 & 2500 are', 1890]\n",
      "['number divisble by both 5 and 7 in between 1500 & 2500 are', 1925]\n",
      "['number divisble by both 5 and 7 in between 1500 & 2500 are', 1960]\n",
      "['number divisble by both 5 and 7 in between 1500 & 2500 are', 1995]\n",
      "['number divisble by both 5 and 7 in between 1500 & 2500 are', 2030]\n",
      "['number divisble by both 5 and 7 in between 1500 & 2500 are', 2065]\n",
      "['number divisble by both 5 and 7 in between 1500 & 2500 are', 2100]\n",
      "['number divisble by both 5 and 7 in between 1500 & 2500 are', 2135]\n",
      "['number divisble by both 5 and 7 in between 1500 & 2500 are', 2170]\n",
      "['number divisble by both 5 and 7 in between 1500 & 2500 are', 2205]\n",
      "['number divisble by both 5 and 7 in between 1500 & 2500 are', 2240]\n",
      "['number divisble by both 5 and 7 in between 1500 & 2500 are', 2275]\n",
      "['number divisble by both 5 and 7 in between 1500 & 2500 are', 2310]\n",
      "['number divisble by both 5 and 7 in between 1500 & 2500 are', 2345]\n",
      "['number divisble by both 5 and 7 in between 1500 & 2500 are', 2380]\n",
      "['number divisble by both 5 and 7 in between 1500 & 2500 are', 2415]\n",
      "['number divisble by both 5 and 7 in between 1500 & 2500 are', 2450]\n",
      "['number divisble by both 5 and 7 in between 1500 & 2500 are', 2485]\n"
     ]
    }
   ],
   "source": [
    "for i in range(1500,2501):\n",
    "    if (i%5==0) and (i%7==0):\n",
    "        print ([\"number divisble by both 5 and 7 in between 1500 & 2500 are\",i])\n",
    "  "
   ]
  },
  {
   "cell_type": "markdown",
   "id": "b1151ce3",
   "metadata": {},
   "source": [
    "# Ninth Question -\n",
    "\n",
    "import titanic.csv dataset into python as ‘df’ by using panda’s module. Perform the following operations."
   ]
  },
  {
   "cell_type": "code",
   "execution_count": 34,
   "id": "00a68e53",
   "metadata": {},
   "outputs": [
    {
     "data": {
      "text/html": [
       "<div>\n",
       "<style scoped>\n",
       "    .dataframe tbody tr th:only-of-type {\n",
       "        vertical-align: middle;\n",
       "    }\n",
       "\n",
       "    .dataframe tbody tr th {\n",
       "        vertical-align: top;\n",
       "    }\n",
       "\n",
       "    .dataframe thead th {\n",
       "        text-align: right;\n",
       "    }\n",
       "</style>\n",
       "<table border=\"1\" class=\"dataframe\">\n",
       "  <thead>\n",
       "    <tr style=\"text-align: right;\">\n",
       "      <th></th>\n",
       "      <th>Name</th>\n",
       "      <th>PClass</th>\n",
       "      <th>Age</th>\n",
       "      <th>Sex</th>\n",
       "      <th>Survived</th>\n",
       "    </tr>\n",
       "  </thead>\n",
       "  <tbody>\n",
       "    <tr>\n",
       "      <th>0</th>\n",
       "      <td>Allen, Miss Elisabeth Walton</td>\n",
       "      <td>1st</td>\n",
       "      <td>29.00</td>\n",
       "      <td>female</td>\n",
       "      <td>1</td>\n",
       "    </tr>\n",
       "    <tr>\n",
       "      <th>1</th>\n",
       "      <td>Allison, Miss Helen Loraine</td>\n",
       "      <td>1st</td>\n",
       "      <td>2.00</td>\n",
       "      <td>female</td>\n",
       "      <td>0</td>\n",
       "    </tr>\n",
       "    <tr>\n",
       "      <th>2</th>\n",
       "      <td>Allison, Mr Hudson Joshua Creighton</td>\n",
       "      <td>1st</td>\n",
       "      <td>30.00</td>\n",
       "      <td>male</td>\n",
       "      <td>0</td>\n",
       "    </tr>\n",
       "    <tr>\n",
       "      <th>3</th>\n",
       "      <td>Allison, Mrs Hudson JC (Bessie Waldo Daniels)</td>\n",
       "      <td>1st</td>\n",
       "      <td>25.00</td>\n",
       "      <td>female</td>\n",
       "      <td>0</td>\n",
       "    </tr>\n",
       "    <tr>\n",
       "      <th>4</th>\n",
       "      <td>Allison, Master Hudson Trevor</td>\n",
       "      <td>1st</td>\n",
       "      <td>0.92</td>\n",
       "      <td>male</td>\n",
       "      <td>1</td>\n",
       "    </tr>\n",
       "    <tr>\n",
       "      <th>...</th>\n",
       "      <td>...</td>\n",
       "      <td>...</td>\n",
       "      <td>...</td>\n",
       "      <td>...</td>\n",
       "      <td>...</td>\n",
       "    </tr>\n",
       "    <tr>\n",
       "      <th>1308</th>\n",
       "      <td>Zakarian, Mr Artun</td>\n",
       "      <td>3rd</td>\n",
       "      <td>27.00</td>\n",
       "      <td>male</td>\n",
       "      <td>0</td>\n",
       "    </tr>\n",
       "    <tr>\n",
       "      <th>1309</th>\n",
       "      <td>Zakarian, Mr Maprieder</td>\n",
       "      <td>3rd</td>\n",
       "      <td>26.00</td>\n",
       "      <td>male</td>\n",
       "      <td>0</td>\n",
       "    </tr>\n",
       "    <tr>\n",
       "      <th>1310</th>\n",
       "      <td>Zenni, Mr Philip</td>\n",
       "      <td>3rd</td>\n",
       "      <td>22.00</td>\n",
       "      <td>male</td>\n",
       "      <td>0</td>\n",
       "    </tr>\n",
       "    <tr>\n",
       "      <th>1311</th>\n",
       "      <td>Lievens, Mr Rene</td>\n",
       "      <td>3rd</td>\n",
       "      <td>24.00</td>\n",
       "      <td>male</td>\n",
       "      <td>0</td>\n",
       "    </tr>\n",
       "    <tr>\n",
       "      <th>1312</th>\n",
       "      <td>Zimmerman, Leo</td>\n",
       "      <td>3rd</td>\n",
       "      <td>29.00</td>\n",
       "      <td>male</td>\n",
       "      <td>0</td>\n",
       "    </tr>\n",
       "  </tbody>\n",
       "</table>\n",
       "<p>1313 rows × 5 columns</p>\n",
       "</div>"
      ],
      "text/plain": [
       "                                               Name PClass    Age     Sex  \\\n",
       "0                      Allen, Miss Elisabeth Walton    1st  29.00  female   \n",
       "1                       Allison, Miss Helen Loraine    1st   2.00  female   \n",
       "2               Allison, Mr Hudson Joshua Creighton    1st  30.00    male   \n",
       "3     Allison, Mrs Hudson JC (Bessie Waldo Daniels)    1st  25.00  female   \n",
       "4                     Allison, Master Hudson Trevor    1st   0.92    male   \n",
       "...                                             ...    ...    ...     ...   \n",
       "1308                             Zakarian, Mr Artun    3rd  27.00    male   \n",
       "1309                         Zakarian, Mr Maprieder    3rd  26.00    male   \n",
       "1310                               Zenni, Mr Philip    3rd  22.00    male   \n",
       "1311                               Lievens, Mr Rene    3rd  24.00    male   \n",
       "1312                                 Zimmerman, Leo    3rd  29.00    male   \n",
       "\n",
       "      Survived  \n",
       "0            1  \n",
       "1            0  \n",
       "2            0  \n",
       "3            0  \n",
       "4            1  \n",
       "...        ...  \n",
       "1308         0  \n",
       "1309         0  \n",
       "1310         0  \n",
       "1311         0  \n",
       "1312         0  \n",
       "\n",
       "[1313 rows x 5 columns]"
      ]
     },
     "execution_count": 34,
     "metadata": {},
     "output_type": "execute_result"
    }
   ],
   "source": [
    "import pandas as pd\n",
    "import seaborn as sb\n",
    "import numpy as np\n",
    "import matplotlib.pyplot as plt\n",
    "df=pd.read_csv(\"titanic.csv\")\n",
    "df"
   ]
  },
  {
   "cell_type": "code",
   "execution_count": 36,
   "id": "5d05c601",
   "metadata": {},
   "outputs": [
    {
     "data": {
      "text/plain": [
       "(1313, 5)"
      ]
     },
     "execution_count": 36,
     "metadata": {},
     "output_type": "execute_result"
    }
   ],
   "source": [
    "df.shape"
   ]
  },
  {
   "cell_type": "code",
   "execution_count": 37,
   "id": "caa83bc8",
   "metadata": {},
   "outputs": [
    {
     "name": "stdout",
     "output_type": "stream",
     "text": [
      "<class 'pandas.core.frame.DataFrame'>\n",
      "RangeIndex: 1313 entries, 0 to 1312\n",
      "Data columns (total 5 columns):\n",
      " #   Column    Non-Null Count  Dtype  \n",
      "---  ------    --------------  -----  \n",
      " 0   Name      1313 non-null   object \n",
      " 1   PClass    1312 non-null   object \n",
      " 2   Age       756 non-null    float64\n",
      " 3   Sex       1313 non-null   object \n",
      " 4   Survived  1313 non-null   int64  \n",
      "dtypes: float64(1), int64(1), object(3)\n",
      "memory usage: 51.4+ KB\n"
     ]
    }
   ],
   "source": [
    "df.info()"
   ]
  },
  {
   "cell_type": "code",
   "execution_count": 38,
   "id": "fd9beebb",
   "metadata": {},
   "outputs": [
    {
     "data": {
      "text/html": [
       "<div>\n",
       "<style scoped>\n",
       "    .dataframe tbody tr th:only-of-type {\n",
       "        vertical-align: middle;\n",
       "    }\n",
       "\n",
       "    .dataframe tbody tr th {\n",
       "        vertical-align: top;\n",
       "    }\n",
       "\n",
       "    .dataframe thead th {\n",
       "        text-align: right;\n",
       "    }\n",
       "</style>\n",
       "<table border=\"1\" class=\"dataframe\">\n",
       "  <thead>\n",
       "    <tr style=\"text-align: right;\">\n",
       "      <th></th>\n",
       "      <th>Age</th>\n",
       "      <th>Survived</th>\n",
       "    </tr>\n",
       "  </thead>\n",
       "  <tbody>\n",
       "    <tr>\n",
       "      <th>count</th>\n",
       "      <td>756.000000</td>\n",
       "      <td>1313.000000</td>\n",
       "    </tr>\n",
       "    <tr>\n",
       "      <th>mean</th>\n",
       "      <td>30.397989</td>\n",
       "      <td>0.342727</td>\n",
       "    </tr>\n",
       "    <tr>\n",
       "      <th>std</th>\n",
       "      <td>14.259049</td>\n",
       "      <td>0.474802</td>\n",
       "    </tr>\n",
       "    <tr>\n",
       "      <th>min</th>\n",
       "      <td>0.170000</td>\n",
       "      <td>0.000000</td>\n",
       "    </tr>\n",
       "    <tr>\n",
       "      <th>25%</th>\n",
       "      <td>21.000000</td>\n",
       "      <td>0.000000</td>\n",
       "    </tr>\n",
       "    <tr>\n",
       "      <th>50%</th>\n",
       "      <td>28.000000</td>\n",
       "      <td>0.000000</td>\n",
       "    </tr>\n",
       "    <tr>\n",
       "      <th>75%</th>\n",
       "      <td>39.000000</td>\n",
       "      <td>1.000000</td>\n",
       "    </tr>\n",
       "    <tr>\n",
       "      <th>max</th>\n",
       "      <td>71.000000</td>\n",
       "      <td>1.000000</td>\n",
       "    </tr>\n",
       "  </tbody>\n",
       "</table>\n",
       "</div>"
      ],
      "text/plain": [
       "              Age     Survived\n",
       "count  756.000000  1313.000000\n",
       "mean    30.397989     0.342727\n",
       "std     14.259049     0.474802\n",
       "min      0.170000     0.000000\n",
       "25%     21.000000     0.000000\n",
       "50%     28.000000     0.000000\n",
       "75%     39.000000     1.000000\n",
       "max     71.000000     1.000000"
      ]
     },
     "execution_count": 38,
     "metadata": {},
     "output_type": "execute_result"
    }
   ],
   "source": [
    "df.describe()"
   ]
  },
  {
   "cell_type": "code",
   "execution_count": 39,
   "id": "571938ed",
   "metadata": {},
   "outputs": [
    {
     "data": {
      "text/html": [
       "<div>\n",
       "<style scoped>\n",
       "    .dataframe tbody tr th:only-of-type {\n",
       "        vertical-align: middle;\n",
       "    }\n",
       "\n",
       "    .dataframe tbody tr th {\n",
       "        vertical-align: top;\n",
       "    }\n",
       "\n",
       "    .dataframe thead th {\n",
       "        text-align: right;\n",
       "    }\n",
       "</style>\n",
       "<table border=\"1\" class=\"dataframe\">\n",
       "  <thead>\n",
       "    <tr style=\"text-align: right;\">\n",
       "      <th></th>\n",
       "      <th>Age</th>\n",
       "      <th>Survived</th>\n",
       "    </tr>\n",
       "  </thead>\n",
       "  <tbody>\n",
       "    <tr>\n",
       "      <th>0</th>\n",
       "      <td>29.00</td>\n",
       "      <td>1</td>\n",
       "    </tr>\n",
       "    <tr>\n",
       "      <th>1</th>\n",
       "      <td>2.00</td>\n",
       "      <td>0</td>\n",
       "    </tr>\n",
       "    <tr>\n",
       "      <th>2</th>\n",
       "      <td>30.00</td>\n",
       "      <td>0</td>\n",
       "    </tr>\n",
       "    <tr>\n",
       "      <th>3</th>\n",
       "      <td>25.00</td>\n",
       "      <td>0</td>\n",
       "    </tr>\n",
       "    <tr>\n",
       "      <th>4</th>\n",
       "      <td>0.92</td>\n",
       "      <td>1</td>\n",
       "    </tr>\n",
       "    <tr>\n",
       "      <th>...</th>\n",
       "      <td>...</td>\n",
       "      <td>...</td>\n",
       "    </tr>\n",
       "    <tr>\n",
       "      <th>1308</th>\n",
       "      <td>27.00</td>\n",
       "      <td>0</td>\n",
       "    </tr>\n",
       "    <tr>\n",
       "      <th>1309</th>\n",
       "      <td>26.00</td>\n",
       "      <td>0</td>\n",
       "    </tr>\n",
       "    <tr>\n",
       "      <th>1310</th>\n",
       "      <td>22.00</td>\n",
       "      <td>0</td>\n",
       "    </tr>\n",
       "    <tr>\n",
       "      <th>1311</th>\n",
       "      <td>24.00</td>\n",
       "      <td>0</td>\n",
       "    </tr>\n",
       "    <tr>\n",
       "      <th>1312</th>\n",
       "      <td>29.00</td>\n",
       "      <td>0</td>\n",
       "    </tr>\n",
       "  </tbody>\n",
       "</table>\n",
       "<p>1313 rows × 2 columns</p>\n",
       "</div>"
      ],
      "text/plain": [
       "        Age  Survived\n",
       "0     29.00         1\n",
       "1      2.00         0\n",
       "2     30.00         0\n",
       "3     25.00         0\n",
       "4      0.92         1\n",
       "...     ...       ...\n",
       "1308  27.00         0\n",
       "1309  26.00         0\n",
       "1310  22.00         0\n",
       "1311  24.00         0\n",
       "1312  29.00         0\n",
       "\n",
       "[1313 rows x 2 columns]"
      ]
     },
     "execution_count": 39,
     "metadata": {},
     "output_type": "execute_result"
    }
   ],
   "source": [
    "df.select_dtypes(include=np.number)"
   ]
  },
  {
   "cell_type": "code",
   "execution_count": 40,
   "id": "08a59a62",
   "metadata": {},
   "outputs": [
    {
     "name": "stdout",
     "output_type": "stream",
     "text": [
      "mean of age\n"
     ]
    },
    {
     "data": {
      "text/plain": [
       "30.397989417989415"
      ]
     },
     "execution_count": 40,
     "metadata": {},
     "output_type": "execute_result"
    }
   ],
   "source": [
    "print(\"mean of age\")\n",
    "df['Age'].mean()"
   ]
  },
  {
   "cell_type": "code",
   "execution_count": 42,
   "id": "76659ae8",
   "metadata": {},
   "outputs": [
    {
     "name": "stdout",
     "output_type": "stream",
     "text": [
      "mean of survived\n"
     ]
    },
    {
     "data": {
      "text/plain": [
       "0.3427265803503427"
      ]
     },
     "execution_count": 42,
     "metadata": {},
     "output_type": "execute_result"
    }
   ],
   "source": [
    "print(\"mean of survived\")\n",
    "df['Survived'].mean()"
   ]
  },
  {
   "cell_type": "code",
   "execution_count": 43,
   "id": "8ac7cb88",
   "metadata": {},
   "outputs": [
    {
     "data": {
      "text/html": [
       "<div>\n",
       "<style scoped>\n",
       "    .dataframe tbody tr th:only-of-type {\n",
       "        vertical-align: middle;\n",
       "    }\n",
       "\n",
       "    .dataframe tbody tr th {\n",
       "        vertical-align: top;\n",
       "    }\n",
       "\n",
       "    .dataframe thead th {\n",
       "        text-align: right;\n",
       "    }\n",
       "</style>\n",
       "<table border=\"1\" class=\"dataframe\">\n",
       "  <thead>\n",
       "    <tr style=\"text-align: right;\">\n",
       "      <th></th>\n",
       "      <th>Age</th>\n",
       "      <th>Survived</th>\n",
       "    </tr>\n",
       "  </thead>\n",
       "  <tbody>\n",
       "    <tr>\n",
       "      <th>Age</th>\n",
       "      <td>1.000000</td>\n",
       "      <td>-0.061254</td>\n",
       "    </tr>\n",
       "    <tr>\n",
       "      <th>Survived</th>\n",
       "      <td>-0.061254</td>\n",
       "      <td>1.000000</td>\n",
       "    </tr>\n",
       "  </tbody>\n",
       "</table>\n",
       "</div>"
      ],
      "text/plain": [
       "               Age  Survived\n",
       "Age       1.000000 -0.061254\n",
       "Survived -0.061254  1.000000"
      ]
     },
     "execution_count": 43,
     "metadata": {},
     "output_type": "execute_result"
    }
   ],
   "source": [
    "df.corr()"
   ]
  },
  {
   "cell_type": "code",
   "execution_count": 44,
   "id": "af95223d",
   "metadata": {},
   "outputs": [
    {
     "data": {
      "text/plain": [
       "<AxesSubplot:>"
      ]
     },
     "execution_count": 44,
     "metadata": {},
     "output_type": "execute_result"
    },
    {
     "data": {
      "image/png": "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\n",
      "text/plain": [
       "<Figure size 432x288 with 2 Axes>"
      ]
     },
     "metadata": {
      "needs_background": "light"
     },
     "output_type": "display_data"
    }
   ],
   "source": [
    "sb.heatmap(df.corr())"
   ]
  },
  {
   "cell_type": "markdown",
   "id": "dd3841dc",
   "metadata": {},
   "source": [
    "# Tenth Question -\n",
    "\n",
    "For what functionalities we use Pandas, NumPy, matplotlib & seaborn modules in python\n",
    "\n",
    "Ans :->\n",
    "\n",
    "Pandas :- The basic functionality of pandas are fast analyzing, cleaning, and preparation of data.Pandas are used for data manipulation.\n",
    "\n",
    "Numpy :-Numpy is used as Numerical Python. NumPy is a Python library used for working with arrays. It also has functions for working in domain of linear algebra, fourier transform, and matrices.\n",
    "\n",
    "Matplotlib :- Matplotlib is used for data visualization and graphical plotting library for Python and its numerical extension. NumPy\n",
    "\n",
    "Seaborn :- Seaborn is a plotting library that offers a simpler interface, sensible defaults for plots needed for machine learning, and most importantly, the plots are aesthetically better looking than those in Matplotlib."
   ]
  },
  {
   "cell_type": "markdown",
   "id": "877ea567",
   "metadata": {},
   "source": [
    "# Submitted by -\n"
   ]
  },
  {
   "cell_type": "markdown",
   "id": "9fab6ec0",
   "metadata": {},
   "source": [
    "# Hemant Singh Dangi"
   ]
  },
  {
   "cell_type": "code",
   "execution_count": null,
   "id": "d9296427",
   "metadata": {},
   "outputs": [],
   "source": []
  }
 ],
 "metadata": {
  "kernelspec": {
   "display_name": "Python 3",
   "language": "python",
   "name": "python3"
  },
  "language_info": {
   "codemirror_mode": {
    "name": "ipython",
    "version": 3
   },
   "file_extension": ".py",
   "mimetype": "text/x-python",
   "name": "python",
   "nbconvert_exporter": "python",
   "pygments_lexer": "ipython3",
   "version": "3.8.8"
  }
 },
 "nbformat": 4,
 "nbformat_minor": 5
}




{
 "cells": [
  {
   "cell_type": "markdown",
   "id": "c04eb4fe",
   "metadata": {},
   "source": [
    "# Question no - 10"
   ]
  },
  {
   "cell_type": "markdown",
   "id": "7901fcb6",
   "metadata": {},
   "source": [
    "Write a Python program using Scikit-learn to split the iris dataset into 80% train data and 20% test data. Out of total 150 records, the training set will contain 120 records and the test set contains 30 of those records. Train or fit the data into the model and calculate the accuracy of the model using the Random Forest Classifier Algorithm."
   ]
  },
  {
   "cell_type": "code",
   "execution_count": 1,
   "id": "fdf63aef",
   "metadata": {},
   "outputs": [],
   "source": [
    "import pandas as pd\n",
    "import numpy as np\n",
    "from sklearn.ensemble import RandomForestClassifier\n",
    "from sklearn.model_selection import train_test_split\n",
    "from sklearn import metrics as sm\n",
    "from sklearn import datasets"
   ]
  },
  {
   "cell_type": "code",
   "execution_count": 2,
   "id": "f2ccc338",
   "metadata": {},
   "outputs": [
    {
     "data": {
      "text/plain": [
       "{'data': array([[5.1, 3.5, 1.4, 0.2],\n",
       "        [4.9, 3. , 1.4, 0.2],\n",
       "        [4.7, 3.2, 1.3, 0.2],\n",
       "        [4.6, 3.1, 1.5, 0.2],\n",
       "        [5. , 3.6, 1.4, 0.2],\n",
       "        [5.4, 3.9, 1.7, 0.4],\n",
       "        [4.6, 3.4, 1.4, 0.3],\n",
       "        [5. , 3.4, 1.5, 0.2],\n",
       "        [4.4, 2.9, 1.4, 0.2],\n",
       "        [4.9, 3.1, 1.5, 0.1],\n",
       "        [5.4, 3.7, 1.5, 0.2],\n",
       "        [4.8, 3.4, 1.6, 0.2],\n",
       "        [4.8, 3. , 1.4, 0.1],\n",
       "        [4.3, 3. , 1.1, 0.1],\n",
       "        [5.8, 4. , 1.2, 0.2],\n",
       "        [5.7, 4.4, 1.5, 0.4],\n",
       "        [5.4, 3.9, 1.3, 0.4],\n",
       "        [5.1, 3.5, 1.4, 0.3],\n",
       "        [5.7, 3.8, 1.7, 0.3],\n",
       "        [5.1, 3.8, 1.5, 0.3],\n",
       "        [5.4, 3.4, 1.7, 0.2],\n",
       "        [5.1, 3.7, 1.5, 0.4],\n",
       "        [4.6, 3.6, 1. , 0.2],\n",
       "        [5.1, 3.3, 1.7, 0.5],\n",
       "        [4.8, 3.4, 1.9, 0.2],\n",
       "        [5. , 3. , 1.6, 0.2],\n",
       "        [5. , 3.4, 1.6, 0.4],\n",
       "        [5.2, 3.5, 1.5, 0.2],\n",
       "        [5.2, 3.4, 1.4, 0.2],\n",
       "        [4.7, 3.2, 1.6, 0.2],\n",
       "        [4.8, 3.1, 1.6, 0.2],\n",
       "        [5.4, 3.4, 1.5, 0.4],\n",
       "        [5.2, 4.1, 1.5, 0.1],\n",
       "        [5.5, 4.2, 1.4, 0.2],\n",
       "        [4.9, 3.1, 1.5, 0.2],\n",
       "        [5. , 3.2, 1.2, 0.2],\n",
       "        [5.5, 3.5, 1.3, 0.2],\n",
       "        [4.9, 3.6, 1.4, 0.1],\n",
       "        [4.4, 3. , 1.3, 0.2],\n",
       "        [5.1, 3.4, 1.5, 0.2],\n",
       "        [5. , 3.5, 1.3, 0.3],\n",
       "        [4.5, 2.3, 1.3, 0.3],\n",
       "        [4.4, 3.2, 1.3, 0.2],\n",
       "        [5. , 3.5, 1.6, 0.6],\n",
       "        [5.1, 3.8, 1.9, 0.4],\n",
       "        [4.8, 3. , 1.4, 0.3],\n",
       "        [5.1, 3.8, 1.6, 0.2],\n",
       "        [4.6, 3.2, 1.4, 0.2],\n",
       "        [5.3, 3.7, 1.5, 0.2],\n",
       "        [5. , 3.3, 1.4, 0.2],\n",
       "        [7. , 3.2, 4.7, 1.4],\n",
       "        [6.4, 3.2, 4.5, 1.5],\n",
       "        [6.9, 3.1, 4.9, 1.5],\n",
       "        [5.5, 2.3, 4. , 1.3],\n",
       "        [6.5, 2.8, 4.6, 1.5],\n",
       "        [5.7, 2.8, 4.5, 1.3],\n",
       "        [6.3, 3.3, 4.7, 1.6],\n",
       "        [4.9, 2.4, 3.3, 1. ],\n",
       "        [6.6, 2.9, 4.6, 1.3],\n",
       "        [5.2, 2.7, 3.9, 1.4],\n",
       "        [5. , 2. , 3.5, 1. ],\n",
       "        [5.9, 3. , 4.2, 1.5],\n",
       "        [6. , 2.2, 4. , 1. ],\n",
       "        [6.1, 2.9, 4.7, 1.4],\n",
       "        [5.6, 2.9, 3.6, 1.3],\n",
       "        [6.7, 3.1, 4.4, 1.4],\n",
       "        [5.6, 3. , 4.5, 1.5],\n",
       "        [5.8, 2.7, 4.1, 1. ],\n",
       "        [6.2, 2.2, 4.5, 1.5],\n",
       "        [5.6, 2.5, 3.9, 1.1],\n",
       "        [5.9, 3.2, 4.8, 1.8],\n",
       "        [6.1, 2.8, 4. , 1.3],\n",
       "        [6.3, 2.5, 4.9, 1.5],\n",
       "        [6.1, 2.8, 4.7, 1.2],\n",
       "        [6.4, 2.9, 4.3, 1.3],\n",
       "        [6.6, 3. , 4.4, 1.4],\n",
       "        [6.8, 2.8, 4.8, 1.4],\n",
       "        [6.7, 3. , 5. , 1.7],\n",
       "        [6. , 2.9, 4.5, 1.5],\n",
       "        [5.7, 2.6, 3.5, 1. ],\n",
       "        [5.5, 2.4, 3.8, 1.1],\n",
       "        [5.5, 2.4, 3.7, 1. ],\n",
       "        [5.8, 2.7, 3.9, 1.2],\n",
       "        [6. , 2.7, 5.1, 1.6],\n",
       "        [5.4, 3. , 4.5, 1.5],\n",
       "        [6. , 3.4, 4.5, 1.6],\n",
       "        [6.7, 3.1, 4.7, 1.5],\n",
       "        [6.3, 2.3, 4.4, 1.3],\n",
       "        [5.6, 3. , 4.1, 1.3],\n",
       "        [5.5, 2.5, 4. , 1.3],\n",
       "        [5.5, 2.6, 4.4, 1.2],\n",
       "        [6.1, 3. , 4.6, 1.4],\n",
       "        [5.8, 2.6, 4. , 1.2],\n",
       "        [5. , 2.3, 3.3, 1. ],\n",
       "        [5.6, 2.7, 4.2, 1.3],\n",
       "        [5.7, 3. , 4.2, 1.2],\n",
       "        [5.7, 2.9, 4.2, 1.3],\n",
       "        [6.2, 2.9, 4.3, 1.3],\n",
       "        [5.1, 2.5, 3. , 1.1],\n",
       "        [5.7, 2.8, 4.1, 1.3],\n",
       "        [6.3, 3.3, 6. , 2.5],\n",
       "        [5.8, 2.7, 5.1, 1.9],\n",
       "        [7.1, 3. , 5.9, 2.1],\n",
       "        [6.3, 2.9, 5.6, 1.8],\n",
       "        [6.5, 3. , 5.8, 2.2],\n",
       "        [7.6, 3. , 6.6, 2.1],\n",
       "        [4.9, 2.5, 4.5, 1.7],\n",
       "        [7.3, 2.9, 6.3, 1.8],\n",
       "        [6.7, 2.5, 5.8, 1.8],\n",
       "        [7.2, 3.6, 6.1, 2.5],\n",
       "        [6.5, 3.2, 5.1, 2. ],\n",
       "        [6.4, 2.7, 5.3, 1.9],\n",
       "        [6.8, 3. , 5.5, 2.1],\n",
       "        [5.7, 2.5, 5. , 2. ],\n",
       "        [5.8, 2.8, 5.1, 2.4],\n",
       "        [6.4, 3.2, 5.3, 2.3],\n",
       "        [6.5, 3. , 5.5, 1.8],\n",
       "        [7.7, 3.8, 6.7, 2.2],\n",
       "        [7.7, 2.6, 6.9, 2.3],\n",
       "        [6. , 2.2, 5. , 1.5],\n",
       "        [6.9, 3.2, 5.7, 2.3],\n",
       "        [5.6, 2.8, 4.9, 2. ],\n",
       "        [7.7, 2.8, 6.7, 2. ],\n",
       "        [6.3, 2.7, 4.9, 1.8],\n",
       "        [6.7, 3.3, 5.7, 2.1],\n",
       "        [7.2, 3.2, 6. , 1.8],\n",
       "        [6.2, 2.8, 4.8, 1.8],\n",
       "        [6.1, 3. , 4.9, 1.8],\n",
       "        [6.4, 2.8, 5.6, 2.1],\n",
       "        [7.2, 3. , 5.8, 1.6],\n",
       "        [7.4, 2.8, 6.1, 1.9],\n",
       "        [7.9, 3.8, 6.4, 2. ],\n",
       "        [6.4, 2.8, 5.6, 2.2],\n",
       "        [6.3, 2.8, 5.1, 1.5],\n",
       "        [6.1, 2.6, 5.6, 1.4],\n",
       "        [7.7, 3. , 6.1, 2.3],\n",
       "        [6.3, 3.4, 5.6, 2.4],\n",
       "        [6.4, 3.1, 5.5, 1.8],\n",
       "        [6. , 3. , 4.8, 1.8],\n",
       "        [6.9, 3.1, 5.4, 2.1],\n",
       "        [6.7, 3.1, 5.6, 2.4],\n",
       "        [6.9, 3.1, 5.1, 2.3],\n",
       "        [5.8, 2.7, 5.1, 1.9],\n",
       "        [6.8, 3.2, 5.9, 2.3],\n",
       "        [6.7, 3.3, 5.7, 2.5],\n",
       "        [6.7, 3. , 5.2, 2.3],\n",
       "        [6.3, 2.5, 5. , 1.9],\n",
       "        [6.5, 3. , 5.2, 2. ],\n",
       "        [6.2, 3.4, 5.4, 2.3],\n",
       "        [5.9, 3. , 5.1, 1.8]]),\n",
       " 'target': array([0, 0, 0, 0, 0, 0, 0, 0, 0, 0, 0, 0, 0, 0, 0, 0, 0, 0, 0, 0, 0, 0,\n",
       "        0, 0, 0, 0, 0, 0, 0, 0, 0, 0, 0, 0, 0, 0, 0, 0, 0, 0, 0, 0, 0, 0,\n",
       "        0, 0, 0, 0, 0, 0, 1, 1, 1, 1, 1, 1, 1, 1, 1, 1, 1, 1, 1, 1, 1, 1,\n",
       "        1, 1, 1, 1, 1, 1, 1, 1, 1, 1, 1, 1, 1, 1, 1, 1, 1, 1, 1, 1, 1, 1,\n",
       "        1, 1, 1, 1, 1, 1, 1, 1, 1, 1, 1, 1, 2, 2, 2, 2, 2, 2, 2, 2, 2, 2,\n",
       "        2, 2, 2, 2, 2, 2, 2, 2, 2, 2, 2, 2, 2, 2, 2, 2, 2, 2, 2, 2, 2, 2,\n",
       "        2, 2, 2, 2, 2, 2, 2, 2, 2, 2, 2, 2, 2, 2, 2, 2, 2, 2]),\n",
       " 'frame': None,\n",
       " 'target_names': array(['setosa', 'versicolor', 'virginica'], dtype='<U10'),\n",
       " 'DESCR': '.. _iris_dataset:\\n\\nIris plants dataset\\n--------------------\\n\\n**Data Set Characteristics:**\\n\\n    :Number of Instances: 150 (50 in each of three classes)\\n    :Number of Attributes: 4 numeric, predictive attributes and the class\\n    :Attribute Information:\\n        - sepal length in cm\\n        - sepal width in cm\\n        - petal length in cm\\n        - petal width in cm\\n        - class:\\n                - Iris-Setosa\\n                - Iris-Versicolour\\n                - Iris-Virginica\\n                \\n    :Summary Statistics:\\n\\n    ============== ==== ==== ======= ===== ====================\\n                    Min  Max   Mean    SD   Class Correlation\\n    ============== ==== ==== ======= ===== ====================\\n    sepal length:   4.3  7.9   5.84   0.83    0.7826\\n    sepal width:    2.0  4.4   3.05   0.43   -0.4194\\n    petal length:   1.0  6.9   3.76   1.76    0.9490  (high!)\\n    petal width:    0.1  2.5   1.20   0.76    0.9565  (high!)\\n    ============== ==== ==== ======= ===== ====================\\n\\n    :Missing Attribute Values: None\\n    :Class Distribution: 33.3% for each of 3 classes.\\n    :Creator: R.A. Fisher\\n    :Donor: Michael Marshall (MARSHALL%PLU@io.arc.nasa.gov)\\n    :Date: July, 1988\\n\\nThe famous Iris database, first used by Sir R.A. Fisher. The dataset is taken\\nfrom Fisher\\'s paper. Note that it\\'s the same as in R, but not as in the UCI\\nMachine Learning Repository, which has two wrong data points.\\n\\nThis is perhaps the best known database to be found in the\\npattern recognition literature.  Fisher\\'s paper is a classic in the field and\\nis referenced frequently to this day.  (See Duda & Hart, for example.)  The\\ndata set contains 3 classes of 50 instances each, where each class refers to a\\ntype of iris plant.  One class is linearly separable from the other 2; the\\nlatter are NOT linearly separable from each other.\\n\\n.. topic:: References\\n\\n   - Fisher, R.A. \"The use of multiple measurements in taxonomic problems\"\\n     Annual Eugenics, 7, Part II, 179-188 (1936); also in \"Contributions to\\n     Mathematical Statistics\" (John Wiley, NY, 1950).\\n   - Duda, R.O., & Hart, P.E. (1973) Pattern Classification and Scene Analysis.\\n     (Q327.D83) John Wiley & Sons.  ISBN 0-471-22361-1.  See page 218.\\n   - Dasarathy, B.V. (1980) \"Nosing Around the Neighborhood: A New System\\n     Structure and Classification Rule for Recognition in Partially Exposed\\n     Environments\".  IEEE Transactions on Pattern Analysis and Machine\\n     Intelligence, Vol. PAMI-2, No. 1, 67-71.\\n   - Gates, G.W. (1972) \"The Reduced Nearest Neighbor Rule\".  IEEE Transactions\\n     on Information Theory, May 1972, 431-433.\\n   - See also: 1988 MLC Proceedings, 54-64.  Cheeseman et al\"s AUTOCLASS II\\n     conceptual clustering system finds 3 classes in the data.\\n   - Many, many more ...',\n",
       " 'feature_names': ['sepal length (cm)',\n",
       "  'sepal width (cm)',\n",
       "  'petal length (cm)',\n",
       "  'petal width (cm)'],\n",
       " 'filename': 'C:\\\\ProgramData\\\\Anaconda3\\\\lib\\\\site-packages\\\\sklearn\\\\datasets\\\\data\\\\iris.csv'}"
      ]
     },
     "execution_count": 2,
     "metadata": {},
     "output_type": "execute_result"
    }
   ],
   "source": [
    "iris=datasets.load_iris()\n",
    "iris"
   ]
  },
  {
   "cell_type": "code",
   "execution_count": 3,
   "id": "fda8d4ee",
   "metadata": {},
   "outputs": [
    {
     "name": "stdout",
     "output_type": "stream",
     "text": [
      "X dataset is :\n",
      " [[5.1 3.5 1.4 0.2]\n",
      " [4.9 3.  1.4 0.2]\n",
      " [4.7 3.2 1.3 0.2]\n",
      " [4.6 3.1 1.5 0.2]\n",
      " [5.  3.6 1.4 0.2]\n",
      " [5.4 3.9 1.7 0.4]\n",
      " [4.6 3.4 1.4 0.3]\n",
      " [5.  3.4 1.5 0.2]\n",
      " [4.4 2.9 1.4 0.2]\n",
      " [4.9 3.1 1.5 0.1]\n",
      " [5.4 3.7 1.5 0.2]\n",
      " [4.8 3.4 1.6 0.2]\n",
      " [4.8 3.  1.4 0.1]\n",
      " [4.3 3.  1.1 0.1]\n",
      " [5.8 4.  1.2 0.2]\n",
      " [5.7 4.4 1.5 0.4]\n",
      " [5.4 3.9 1.3 0.4]\n",
      " [5.1 3.5 1.4 0.3]\n",
      " [5.7 3.8 1.7 0.3]\n",
      " [5.1 3.8 1.5 0.3]\n",
      " [5.4 3.4 1.7 0.2]\n",
      " [5.1 3.7 1.5 0.4]\n",
      " [4.6 3.6 1.  0.2]\n",
      " [5.1 3.3 1.7 0.5]\n",
      " [4.8 3.4 1.9 0.2]\n",
      " [5.  3.  1.6 0.2]\n",
      " [5.  3.4 1.6 0.4]\n",
      " [5.2 3.5 1.5 0.2]\n",
      " [5.2 3.4 1.4 0.2]\n",
      " [4.7 3.2 1.6 0.2]\n",
      " [4.8 3.1 1.6 0.2]\n",
      " [5.4 3.4 1.5 0.4]\n",
      " [5.2 4.1 1.5 0.1]\n",
      " [5.5 4.2 1.4 0.2]\n",
      " [4.9 3.1 1.5 0.2]\n",
      " [5.  3.2 1.2 0.2]\n",
      " [5.5 3.5 1.3 0.2]\n",
      " [4.9 3.6 1.4 0.1]\n",
      " [4.4 3.  1.3 0.2]\n",
      " [5.1 3.4 1.5 0.2]\n",
      " [5.  3.5 1.3 0.3]\n",
      " [4.5 2.3 1.3 0.3]\n",
      " [4.4 3.2 1.3 0.2]\n",
      " [5.  3.5 1.6 0.6]\n",
      " [5.1 3.8 1.9 0.4]\n",
      " [4.8 3.  1.4 0.3]\n",
      " [5.1 3.8 1.6 0.2]\n",
      " [4.6 3.2 1.4 0.2]\n",
      " [5.3 3.7 1.5 0.2]\n",
      " [5.  3.3 1.4 0.2]\n",
      " [7.  3.2 4.7 1.4]\n",
      " [6.4 3.2 4.5 1.5]\n",
      " [6.9 3.1 4.9 1.5]\n",
      " [5.5 2.3 4.  1.3]\n",
      " [6.5 2.8 4.6 1.5]\n",
      " [5.7 2.8 4.5 1.3]\n",
      " [6.3 3.3 4.7 1.6]\n",
      " [4.9 2.4 3.3 1. ]\n",
      " [6.6 2.9 4.6 1.3]\n",
      " [5.2 2.7 3.9 1.4]\n",
      " [5.  2.  3.5 1. ]\n",
      " [5.9 3.  4.2 1.5]\n",
      " [6.  2.2 4.  1. ]\n",
      " [6.1 2.9 4.7 1.4]\n",
      " [5.6 2.9 3.6 1.3]\n",
      " [6.7 3.1 4.4 1.4]\n",
      " [5.6 3.  4.5 1.5]\n",
      " [5.8 2.7 4.1 1. ]\n",
      " [6.2 2.2 4.5 1.5]\n",
      " [5.6 2.5 3.9 1.1]\n",
      " [5.9 3.2 4.8 1.8]\n",
      " [6.1 2.8 4.  1.3]\n",
      " [6.3 2.5 4.9 1.5]\n",
      " [6.1 2.8 4.7 1.2]\n",
      " [6.4 2.9 4.3 1.3]\n",
      " [6.6 3.  4.4 1.4]\n",
      " [6.8 2.8 4.8 1.4]\n",
      " [6.7 3.  5.  1.7]\n",
      " [6.  2.9 4.5 1.5]\n",
      " [5.7 2.6 3.5 1. ]\n",
      " [5.5 2.4 3.8 1.1]\n",
      " [5.5 2.4 3.7 1. ]\n",
      " [5.8 2.7 3.9 1.2]\n",
      " [6.  2.7 5.1 1.6]\n",
      " [5.4 3.  4.5 1.5]\n",
      " [6.  3.4 4.5 1.6]\n",
      " [6.7 3.1 4.7 1.5]\n",
      " [6.3 2.3 4.4 1.3]\n",
      " [5.6 3.  4.1 1.3]\n",
      " [5.5 2.5 4.  1.3]\n",
      " [5.5 2.6 4.4 1.2]\n",
      " [6.1 3.  4.6 1.4]\n",
      " [5.8 2.6 4.  1.2]\n",
      " [5.  2.3 3.3 1. ]\n",
      " [5.6 2.7 4.2 1.3]\n",
      " [5.7 3.  4.2 1.2]\n",
      " [5.7 2.9 4.2 1.3]\n",
      " [6.2 2.9 4.3 1.3]\n",
      " [5.1 2.5 3.  1.1]\n",
      " [5.7 2.8 4.1 1.3]\n",
      " [6.3 3.3 6.  2.5]\n",
      " [5.8 2.7 5.1 1.9]\n",
      " [7.1 3.  5.9 2.1]\n",
      " [6.3 2.9 5.6 1.8]\n",
      " [6.5 3.  5.8 2.2]\n",
      " [7.6 3.  6.6 2.1]\n",
      " [4.9 2.5 4.5 1.7]\n",
      " [7.3 2.9 6.3 1.8]\n",
      " [6.7 2.5 5.8 1.8]\n",
      " [7.2 3.6 6.1 2.5]\n",
      " [6.5 3.2 5.1 2. ]\n",
      " [6.4 2.7 5.3 1.9]\n",
      " [6.8 3.  5.5 2.1]\n",
      " [5.7 2.5 5.  2. ]\n",
      " [5.8 2.8 5.1 2.4]\n",
      " [6.4 3.2 5.3 2.3]\n",
      " [6.5 3.  5.5 1.8]\n",
      " [7.7 3.8 6.7 2.2]\n",
      " [7.7 2.6 6.9 2.3]\n",
      " [6.  2.2 5.  1.5]\n",
      " [6.9 3.2 5.7 2.3]\n",
      " [5.6 2.8 4.9 2. ]\n",
      " [7.7 2.8 6.7 2. ]\n",
      " [6.3 2.7 4.9 1.8]\n",
      " [6.7 3.3 5.7 2.1]\n",
      " [7.2 3.2 6.  1.8]\n",
      " [6.2 2.8 4.8 1.8]\n",
      " [6.1 3.  4.9 1.8]\n",
      " [6.4 2.8 5.6 2.1]\n",
      " [7.2 3.  5.8 1.6]\n",
      " [7.4 2.8 6.1 1.9]\n",
      " [7.9 3.8 6.4 2. ]\n",
      " [6.4 2.8 5.6 2.2]\n",
      " [6.3 2.8 5.1 1.5]\n",
      " [6.1 2.6 5.6 1.4]\n",
      " [7.7 3.  6.1 2.3]\n",
      " [6.3 3.4 5.6 2.4]\n",
      " [6.4 3.1 5.5 1.8]\n",
      " [6.  3.  4.8 1.8]\n",
      " [6.9 3.1 5.4 2.1]\n",
      " [6.7 3.1 5.6 2.4]\n",
      " [6.9 3.1 5.1 2.3]\n",
      " [5.8 2.7 5.1 1.9]\n",
      " [6.8 3.2 5.9 2.3]\n",
      " [6.7 3.3 5.7 2.5]\n",
      " [6.7 3.  5.2 2.3]\n",
      " [6.3 2.5 5.  1.9]\n",
      " [6.5 3.  5.2 2. ]\n",
      " [6.2 3.4 5.4 2.3]\n",
      " [5.9 3.  5.1 1.8]]\n",
      "Target dataset : \n",
      " [0 0 0 0 0 0 0 0 0 0 0 0 0 0 0 0 0 0 0 0 0 0 0 0 0 0 0 0 0 0 0 0 0 0 0 0 0\n",
      " 0 0 0 0 0 0 0 0 0 0 0 0 0 1 1 1 1 1 1 1 1 1 1 1 1 1 1 1 1 1 1 1 1 1 1 1 1\n",
      " 1 1 1 1 1 1 1 1 1 1 1 1 1 1 1 1 1 1 1 1 1 1 1 1 1 1 2 2 2 2 2 2 2 2 2 2 2\n",
      " 2 2 2 2 2 2 2 2 2 2 2 2 2 2 2 2 2 2 2 2 2 2 2 2 2 2 2 2 2 2 2 2 2 2 2 2 2\n",
      " 2 2]\n"
     ]
    }
   ],
   "source": [
    "X = iris.data[:,:]  \n",
    "print(\"X dataset is :\\n\",X)\n",
    "target=iris.target\n",
    "print(\"Target dataset : \\n\",target)"
   ]
  },
  {
   "cell_type": "code",
   "execution_count": 4,
   "id": "eaa3a2ec",
   "metadata": {},
   "outputs": [
    {
     "name": "stdout",
     "output_type": "stream",
     "text": [
      "(120, 4) (30, 4) (120,) (30,)\n"
     ]
    }
   ],
   "source": [
    "X_train, X_test, Y_train,Y_test = train_test_split(X,target,test_size=0.2,random_state=42)\n",
    "print(X_train.shape, X_test.shape, Y_train.shape,Y_test.shape)"
   ]
  },
  {
   "cell_type": "code",
   "execution_count": 5,
   "id": "4e5a2142",
   "metadata": {},
   "outputs": [
    {
     "data": {
      "text/plain": [
       "RandomForestClassifier(criterion='entropy', n_estimators=10, oob_score=True)"
      ]
     },
     "execution_count": 5,
     "metadata": {},
     "output_type": "execute_result"
    }
   ],
   "source": [
    "random_forest=RandomForestClassifier(n_estimators=10,oob_score=True,criterion='entropy')\n",
    "random_forest"
   ]
  },
  {
   "cell_type": "code",
   "execution_count": 6,
   "id": "e7e8dd63",
   "metadata": {},
   "outputs": [
    {
     "name": "stderr",
     "output_type": "stream",
     "text": [
      "C:\\ProgramData\\Anaconda3\\lib\\site-packages\\sklearn\\ensemble\\_forest.py:541: UserWarning: Some inputs do not have OOB scores. This probably means too few trees were used to compute any reliable oob estimates.\n",
      "  warn(\"Some inputs do not have OOB scores. \"\n",
      "C:\\ProgramData\\Anaconda3\\lib\\site-packages\\sklearn\\ensemble\\_forest.py:545: RuntimeWarning: invalid value encountered in true_divide\n",
      "  decision = (predictions[k] /\n"
     ]
    },
    {
     "data": {
      "text/plain": [
       "RandomForestClassifier(criterion='entropy', n_estimators=10, oob_score=True)"
      ]
     },
     "execution_count": 6,
     "metadata": {},
     "output_type": "execute_result"
    }
   ],
   "source": [
    "random_forest.fit(X_train,Y_train)"
   ]
  },
  {
   "cell_type": "code",
   "execution_count": 7,
   "id": "0dd5b351",
   "metadata": {},
   "outputs": [
    {
     "data": {
      "text/plain": [
       "array([0, 0, 1, 0, 0, 2, 1, 0, 0, 0, 2, 1, 1, 0, 0, 1, 2, 2, 1, 2, 1, 2,\n",
       "       1, 0, 2, 1, 0, 0, 0, 1, 2, 0, 0, 0, 1, 0, 1, 2, 0, 1, 2, 0, 2, 2,\n",
       "       1, 1, 2, 1, 0, 1, 2, 0, 0, 1, 1, 0, 2, 0, 0, 1, 1, 2, 1, 2, 2, 1,\n",
       "       0, 0, 2, 2, 0, 0, 0, 1, 2, 0, 2, 2, 0, 1, 1, 2, 1, 2, 0, 2, 1, 2,\n",
       "       1, 1, 1, 0, 1, 1, 0, 1, 2, 2, 0, 1, 2, 2, 0, 2, 0, 1, 2, 2, 1, 2,\n",
       "       1, 1, 2, 2, 0, 1, 1, 0, 1, 2])"
      ]
     },
     "execution_count": 7,
     "metadata": {},
     "output_type": "execute_result"
    }
   ],
   "source": [
    "Y_pred = random_forest.predict(X_train)\n",
    "Y_pred"
   ]
  },
  {
   "cell_type": "code",
   "execution_count": 8,
   "id": "27b3dec0",
   "metadata": {},
   "outputs": [
    {
     "data": {
      "text/plain": [
       "0.9916666666666667"
      ]
     },
     "execution_count": 8,
     "metadata": {},
     "output_type": "execute_result"
    }
   ],
   "source": [
    "sm.accuracy_score(Y_train,Y_pred)"
   ]
  },
  {
   "cell_type": "code",
   "execution_count": 9,
   "id": "db397722",
   "metadata": {},
   "outputs": [
    {
     "data": {
      "text/plain": [
       "1.0"
      ]
     },
     "execution_count": 9,
     "metadata": {},
     "output_type": "execute_result"
    }
   ],
   "source": [
    "Y_pred = random_forest.predict(X_test)\n",
    "sm.accuracy_score(Y_test,Y_pred)"
   ]
  },
  {
   "cell_type": "code",
   "execution_count": 10,
   "id": "3ddd5245",
   "metadata": {},
   "outputs": [
    {
     "data": {
      "text/plain": [
       "0.9166666666666666"
      ]
     },
     "execution_count": 10,
     "metadata": {},
     "output_type": "execute_result"
    }
   ],
   "source": [
    "random_forest.oob_score_"
   ]
  },
  {
   "cell_type": "code",
   "execution_count": 11,
   "id": "b91eb9bb",
   "metadata": {},
   "outputs": [
    {
     "data": {
      "text/plain": [
       "10"
      ]
     },
     "execution_count": 11,
     "metadata": {},
     "output_type": "execute_result"
    }
   ],
   "source": [
    "random_forest.n_estimators"
   ]
  },
  {
   "cell_type": "markdown",
   "id": "cda07963",
   "metadata": {},
   "source": [
    "# Submited by "
   ]
  },
  {
   "cell_type": "markdown",
   "id": "db8e20cd",
   "metadata": {},
   "source": [
    "# Hemant Singh Dangi\n"
   ]
  },
  {
   "cell_type": "code",
   "execution_count": null,
   "id": "3f8b0c86",
   "metadata": {},
   "outputs": [],
   "source": []
  }
 ],
 "metadata": {
  "kernelspec": {
   "display_name": "Python 3",
   "language": "python",
   "name": "python3"
  },
  "language_info": {
   "codemirror_mode": {
    "name": "ipython",
    "version": 3
   },
   "file_extension": ".py",
   "mimetype": "text/x-python",
   "name": "python",
   "nbconvert_exporter": "python",
   "pygments_lexer": "ipython3",
   "version": "3.8.8"
  }
 },
 "nbformat": 4,
 "nbformat_minor": 5
}

